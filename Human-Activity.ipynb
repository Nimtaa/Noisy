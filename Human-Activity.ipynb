{
 "cells": [
  {
   "cell_type": "code",
   "execution_count": 64,
   "metadata": {},
   "outputs": [],
   "source": [
    "import pandas as p\n",
    "import plotly as py\n",
    "import plotly.graph_objs as go\n",
    "from plotly import tools\n",
    "\n",
    "file = p.read_csv('./human-activity-recognition-with-smartphones/train.csv')\n",
    "\n",
    "standing_data = file[file.Activity ==\"STANDING\"]\n",
    "walking_data =  file[file.Activity ==\"WALKING\"];\n",
    "walkup_data =  file[file.Activity ==\"WALKING_UPSTAIRS\"];\n",
    "walkdown_data =  file[file.Activity ==\"WALKING_DOWNSTAIRS\"];\n",
    "sit_data = file[file.Activity ==\"SITTING\"];\n",
    "lay_data = file[file.Activity ==\"LAYING\"];\n"
   ]
  },
  {
   "cell_type": "code",
   "execution_count": 66,
   "metadata": {},
   "outputs": [
    {
     "name": "stdout",
     "output_type": "stream",
     "text": [
      "This is the format of your plot grid:\n",
      "[ (1,1) x1,y1 ]  [ (1,2) x2,y2 ]  [ (1,3) x3,y3 ]\n",
      "[ (2,1) x4,y4 ]  [ (2,2) x5,y5 ]  [ (2,3) x6,y6 ]\n",
      "\n"
     ]
    },
    {
     "name": "stderr",
     "output_type": "stream",
     "text": [
      "E:\\Anaconda3\\lib\\site-packages\\plotly\\offline\\offline.py:635: UserWarning:\n",
      "\n",
      "Your filename `make-subplots-multiple-with-titles` didn't end with .html. Adding .html to the end of your file.\n",
      "\n"
     ]
    },
    {
     "data": {
      "text/plain": [
       "'file://F:\\\\Projects\\\\Noisy\\\\make-subplots-multiple-with-titles.html'"
      ]
     },
     "execution_count": 66,
     "metadata": {},
     "output_type": "execute_result"
    }
   ],
   "source": [
    "\n",
    "trace0 = go.Scatter(\n",
    "    y=standing_data[\"tBodyAcc-mean()-X\"],\n",
    "    mode = 'markers'\n",
    ")\n",
    "trace1 = go.Scatter(\n",
    "   y=walking_data[\"tBodyAcc-mean()-X\"],\n",
    "    mode = 'markers'\n",
    "    \n",
    ")\n",
    "trace2 = go.Scatter(\n",
    "   y=walkup_data[\"tBodyAcc-mean()-Z\"],\n",
    "    mode = 'markers'\n",
    ")\n",
    "\n",
    "trace3 = go.Scatter(\n",
    "   y=walkdown_data[\"tBodyAcc-mean()-Z\"],\n",
    "    mode = 'markers'\n",
    ")\n",
    "trace4 = go.Scatter(\n",
    "   y=lay_data[\"tBodyAcc-mean()-Z\"],\n",
    "    mode = 'markers'\n",
    ")\n",
    "trace5 = go.Scatter(\n",
    "   y=sit_data[\"tBodyAcc-mean()-Z\"],\n",
    "    mode = 'markers'\n",
    ")\n",
    "\n",
    "\n",
    "\n",
    "fig = tools.make_subplots(rows=2, cols=3, subplot_titles=('Standing','Walking', 'WalkUp',\n",
    "                                                          'WalkDown', 'Laying','Sitting'))\n",
    "fig.append_trace(trace0, 1, 1)\n",
    "fig.append_trace(trace1, 1, 2)\n",
    "fig.append_trace(trace2, 1, 3)\n",
    "fig.append_trace(trace3, 2, 1)\n",
    "fig.append_trace(trace4, 2, 2)\n",
    "fig.append_trace(trace5, 2, 3)\n",
    "fig['layout'].update(height=840, width=840, title='Multiple Subplots' +\n",
    "                                                  ' with Titles')\n",
    "\n",
    "py.offline.plot(fig, filename='make-subplots-multiple-with-titles')\n"
   ]
  },
  {
   "cell_type": "code",
   "execution_count": null,
   "metadata": {},
   "outputs": [],
   "source": [
    "# trying regression\n"
   ]
  }
 ],
 "metadata": {
  "kernelspec": {
   "display_name": "Python 3",
   "language": "python",
   "name": "python3"
  },
  "language_info": {
   "codemirror_mode": {
    "name": "ipython",
    "version": 3
   },
   "file_extension": ".py",
   "mimetype": "text/x-python",
   "name": "python",
   "nbconvert_exporter": "python",
   "pygments_lexer": "ipython3",
   "version": "3.7.0"
  }
 },
 "nbformat": 4,
 "nbformat_minor": 2
}
