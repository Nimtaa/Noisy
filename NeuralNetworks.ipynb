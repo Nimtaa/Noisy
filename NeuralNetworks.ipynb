{
 "cells": [
  {
   "cell_type": "markdown",
   "metadata": {},
   "source": [
    "### Imports"
   ]
  },
  {
   "cell_type": "code",
   "execution_count": null,
   "metadata": {
    "scrolled": true
   },
   "outputs": [],
   "source": [
    "import tensorflow as tf\n",
    "from keras.models import Sequential\n",
    "from keras.layers import LSTM\n",
    "from keras.layers import Dense, Activation, Embedding, LSTM\n",
    "from sklearn.model_selection import train_test_split\n",
    "import numpy as np\n",
    "import pandas \n",
    "import plotly as py\n",
    "import plotly.graph_objs as go\n",
    "from plotly import tools\n",
    "from matplotlib.pyplot import figure\n"
   ]
  },
  {
   "cell_type": "markdown",
   "metadata": {},
   "source": [
    "### Data Preparation"
   ]
  },
  {
   "cell_type": "code",
   "execution_count": null,
   "metadata": {},
   "outputs": [],
   "source": [
    "data = pandas.read_csv('./data/Learning/last version/Train_Set.csv')\n",
    "test = pandas.read_csv('./data/Learning/last version/Test_Set.csv')\n",
    "gtTrain = pandas.read_csv('./data/21/groundTruthEdited.csv')\n",
    "gtTest = pandas.read_csv('./data/17/groundTruthEdited.csv')\n",
    "\n",
    "x_train_set = data[['x','y','z']]\n",
    "\n",
    "target = data['brakingStatus']\n",
    "\n",
    "x_test_set = test[['x','y','z']]\n",
    "y_test_set = test['brakingStatus']"
   ]
  },
  {
   "cell_type": "code",
   "execution_count": null,
   "metadata": {},
   "outputs": [],
   "source": [
    "x_train_set = np.array(x_train_set,dtype=float)\n",
    "target = np.array(target,dtype=float)\n",
    "\n",
    "x_test_set =  np.array(x_test_set,dtype=float)\n",
    "y_test_set =  np.array(y_test_set,dtype=float)"
   ]
  },
  {
   "cell_type": "code",
   "execution_count": null,
   "metadata": {},
   "outputs": [],
   "source": [
    "x_train_set_array= []\n",
    "for i in x_train_set:\n",
    "    x_train_set_array.append([i])\n",
    "x_train_set_array = np.array(x_train_set_array, dtype = float)\n",
    "\n",
    "x_test_set_array= []\n",
    "for i in x_test_set:\n",
    "    x_test_set_array.append([i])\n",
    "x_test_set_array = np.array(x_test_set_array, dtype = float)\n",
    "\n",
    "y_test_set_array= []\n",
    "for i in y_test_set:\n",
    "    y_test_set_array.append([i])\n",
    "y_test_set_array = np.array(y_test_set_array, dtype = float)\n",
    "\n",
    "target_array= []      \n",
    "for i in target:\n",
    "    target_array.append([i])\n",
    "target_array = np.array(target_array, dtype = float)\n",
    "\n",
    "\n"
   ]
  },
  {
   "cell_type": "code",
   "execution_count": null,
   "metadata": {},
   "outputs": [],
   "source": [
    "x_train_set_array_reshape = np.squeeze(x_train_set_array, axis = 1)\n",
    "target_array_reshape = np.squeeze(target_array, axis = 1)\n",
    "x_test_set_array_reshape = np.squeeze(x_test_set_array, axis=1)\n",
    "y_test_set_array_reshape = np.squeeze(y_test_set_array, axis=1)"
   ]
  },
  {
   "cell_type": "markdown",
   "metadata": {},
   "source": [
    "### one_hot encoding"
   ]
  },
  {
   "cell_type": "code",
   "execution_count": null,
   "metadata": {},
   "outputs": [],
   "source": [
    "# len(x_test_set_array)\n",
    "# len(x_train_set_array_reshape)\n",
    "target_array_reshape_onehot  = []\n",
    "y_test_set_array_reshape_onehot = []\n",
    "for i in range(len(target_array_reshape)):\n",
    "    if(target_array_reshape[i]):\n",
    "        target_array_reshape_onehot.append(np.array([0,1]))\n",
    "    else:\n",
    "        target_array_reshape_onehot.append(np.array([1,0]))\n",
    "\n",
    "        \n",
    "for i in range(len(y_test_set_array_reshape)):\n",
    "    if(y_test_set_array_reshape[i]):\n",
    "        y_test_set_array_reshape_onehot.append(np.array([0,1]))\n",
    "    else:\n",
    "        y_test_set_array_reshape_onehot.append(np.array([1,0]))"
   ]
  },
  {
   "cell_type": "markdown",
   "metadata": {},
   "source": [
    "### RNN model"
   ]
  },
  {
   "cell_type": "code",
   "execution_count": null,
   "metadata": {},
   "outputs": [],
   "source": [
    "model = Sequential()"
   ]
  },
  {
   "cell_type": "code",
   "execution_count": null,
   "metadata": {},
   "outputs": [],
   "source": [
    "model.add(LSTM(1,batch_input_shape= (None,10,3),return_sequences= False))"
   ]
  },
  {
   "cell_type": "code",
   "execution_count": null,
   "metadata": {},
   "outputs": [],
   "source": [
    "model.add(Dense(1, activation='sigmoid'))"
   ]
  },
  {
   "cell_type": "code",
   "execution_count": null,
   "metadata": {},
   "outputs": [],
   "source": [
    "# model.compile(loss='mean_squared_error',optimizer='adam',metrics=['accuracy'])\n",
    "model.compile(loss='binary_crossentropy',optimizer='adam',metrics=['accuracy'])"
   ]
  },
  {
   "cell_type": "code",
   "execution_count": null,
   "metadata": {},
   "outputs": [],
   "source": [
    "model.summary()"
   ]
  },
  {
   "cell_type": "code",
   "execution_count": null,
   "metadata": {},
   "outputs": [],
   "source": [
    "history = model.fit( \n",
    "    np.array([x_train_set_array_reshape[i:i+10] for i in range(0,50600)]),\n",
    "    np.array([target_array_reshape[i+9] for i in range(0,50600)]),\n",
    "    epochs=150,\n",
    "    validation_data=(np.array([x_train_set_array_reshape[i:i+10] for i in range(50601,51050)]),np.array([target_array_reshape[i+9] for i in range(50601,51050)])),\n",
    "    batch_size=128)\n",
    "# history = model.fit(\n",
    "#     x_train_set_array[5000:5010],target_array[5000:5010],epochs=100,\n",
    "#     validation_data=(x_train_set_array[18500:20000],target_array[18500:20000]),\n",
    "#     batch_size=128)"
   ]
  },
  {
   "cell_type": "code",
   "execution_count": null,
   "metadata": {},
   "outputs": [],
   "source": [
    "[x_train_set_array[i:i+10] for i in range(1,100)]"
   ]
  },
  {
   "cell_type": "code",
   "execution_count": null,
   "metadata": {},
   "outputs": [],
   "source": [
    "results = model.predict(np.array([x_test_set_array_reshape[i:i+10] for i in range(0,len(x_test_set_array)-10)]))"
   ]
  },
  {
   "cell_type": "code",
   "execution_count": null,
   "metadata": {},
   "outputs": [],
   "source": [
    "# thresholded_result = []\n",
    "# for i in range(len(results)):\n",
    "#     if(results[i]<0.5):\n",
    "#         thresholded_result.append(0)\n",
    "#     else:\n",
    "#         thresholded_result.append(1)\n",
    "\n",
    "# df = pandas.DataFrame(data=thresholded_result,columns=['brakingStatus'])\n",
    "# df.to_csv('./data/Learning/results.csv',index= False)\n",
    "results"
   ]
  },
  {
   "cell_type": "code",
   "execution_count": null,
   "metadata": {},
   "outputs": [],
   "source": [
    "thresholded_result = []\n",
    "for i in range(len(results)):\n",
    "    if(results[i]<0.5):\n",
    "        thresholded_result.append(0)\n",
    "    else:\n",
    "        thresholded_result.append(1)\n",
    "        \n",
    "len(thresholded_result)"
   ]
  },
  {
   "cell_type": "markdown",
   "metadata": {},
   "source": [
    "### RNN one_hot"
   ]
  },
  {
   "cell_type": "code",
   "execution_count": null,
   "metadata": {},
   "outputs": [],
   "source": [
    "model = Sequential()"
   ]
  },
  {
   "cell_type": "code",
   "execution_count": null,
   "metadata": {},
   "outputs": [],
   "source": [
    "model.add(LSTM(2, batch_input_shape = (None,20,3), return_sequences = True))"
   ]
  },
  {
   "cell_type": "code",
   "execution_count": null,
   "metadata": {},
   "outputs": [],
   "source": [
    "model.add(Dense(2, activation='sigmoid'))\n",
    "model.compile(loss='binary_crossentropy',optimizer='adam',metrics=['accuracy'])\n",
    "model.summary()"
   ]
  },
  {
   "cell_type": "code",
   "execution_count": null,
   "metadata": {},
   "outputs": [],
   "source": [
    "history = model.fit( \n",
    "    np.array(x_train_set_array_reshape[:50600]).reshape(2530,20,3),\n",
    "    np.array([target_array_reshape_onehot[i:i+20] for i in range(0,50600,20)]),\n",
    "    epochs=200,\n",
    "    validation_data= (np.array(x_train_set_array_reshape[50650:51050]).reshape(20,20,3),\n",
    "                     np.array([target_array_reshape_onehot[i:i+20] for i in range(50650,51050,20)])),\n",
    "batch_size=32)"
   ]
  },
  {
   "cell_type": "code",
   "execution_count": null,
   "metadata": {},
   "outputs": [],
   "source": [
    "results = model.predict(np.array(x_test_set_array_reshape[:10660].reshape(533,20,3)))"
   ]
  },
  {
   "cell_type": "code",
   "execution_count": null,
   "metadata": {},
   "outputs": [],
   "source": [
    "results = results.reshape(10660,2)"
   ]
  },
  {
   "cell_type": "code",
   "execution_count": null,
   "metadata": {},
   "outputs": [],
   "source": [
    "result_class = []\n",
    "for i in results:\n",
    "    if(np.argmax(i)):\n",
    "        result_class.append(1)\n",
    "    else:\n",
    "        result_class.append(0)\n",
    "        "
   ]
  },
  {
   "cell_type": "code",
   "execution_count": null,
   "metadata": {},
   "outputs": [],
   "source": [
    "results.shape"
   ]
  },
  {
   "cell_type": "code",
   "execution_count": null,
   "metadata": {},
   "outputs": [],
   "source": [
    "from sklearn.metrics import precision_recall_fscore_support\n",
    "precision_recall_fscore_support(y_test_set_array_reshape[:10660], result_class, labels=[0,1], average='binary')"
   ]
  },
  {
   "cell_type": "code",
   "execution_count": null,
   "metadata": {},
   "outputs": [],
   "source": [
    "\n",
    "fig =tools.make_subplots(rows=1,cols=1)\n",
    "\n",
    "result =  go.Scatter(\n",
    "    x = list(range(0,10677)),\n",
    "    y = result_class,\n",
    "    mode = 'lines',\n",
    "    name='model_result'\n",
    ")\n",
    "\n",
    "test =  go.Scatter(\n",
    "    x = list(range(0,10677)),\n",
    "    y = y_test_set_array_reshape,\n",
    "    mode = 'lines',\n",
    "    name='test'\n",
    ")\n",
    "\n",
    "fig.append_trace(result,1,1)\n",
    "fig.append_trace(test,1,1)\n",
    "\n",
    "\n",
    "fig['layout'].update(height=500, title = 'Braking Model Classification')\n",
    "\n",
    "\n",
    "py.offline.plot(fig, filename='braking_onehot_20_sigmoid_binary_crossentropy')\n"
   ]
  },
  {
   "cell_type": "markdown",
   "metadata": {},
   "source": [
    "### one_hot visualization"
   ]
  },
  {
   "cell_type": "code",
   "execution_count": null,
   "metadata": {},
   "outputs": [],
   "source": [
    "\n",
    "fig =tools.make_subplots(rows=1,cols=1)\n",
    "\n",
    "result =  go.Scatter3d(\n",
    "    x = list(range(0,10677)),\n",
    "    y = [item[0] for item in results],\n",
    "    z = [item[1] for item in results],\n",
    "    name='model_result',\n",
    "    mode = 'markers'\n",
    ")\n",
    "\n",
    "test =  go.Scatter3d(\n",
    "    x = list(range(0,10677)),\n",
    "    y = [item[0] for item in y_test_set_array_reshape_onehot],\n",
    "    z = [item[1] for item in y_test_set_array_reshape_onehot],    \n",
    "    name='test'\n",
    ")\n",
    "\n",
    "fig = go.Figure(data=[result, test])\n",
    "py.offline.plot(fig, filename='multiple-axes-double')"
   ]
  },
  {
   "cell_type": "code",
   "execution_count": null,
   "metadata": {},
   "outputs": [],
   "source": [
    "fig =tools.make_subplots(rows=2,cols=1)\n",
    "\n",
    "loss_result =  go.Scatter(\n",
    "    x = list(range(0,200)),\n",
    "    y = history.history['loss'],\n",
    "    mode = 'lines'\n",
    ")\n",
    "\n",
    "acc_result =  go.Scatter(\n",
    "    x = list(range(0,200)),\n",
    "    y = history.history['acc'],\n",
    "    mode = 'lines'\n",
    ")\n",
    "\n",
    "fig.append_trace(loss_result, 1, 1)\n",
    "fig.append_trace(acc_result, 2, 1)\n",
    "\n",
    "fig['layout'].update(height=1000, title = 'Loss, Accuracy')\n",
    "py.offline.plot(fig, filename='multiple-axes-double')"
   ]
  },
  {
   "cell_type": "markdown",
   "metadata": {},
   "source": [
    "### Training by just 'X' "
   ]
  },
  {
   "cell_type": "code",
   "execution_count": null,
   "metadata": {},
   "outputs": [],
   "source": [
    "x_train_set_X = data['x']\n",
    "x_test_set_X = test['x']\n",
    "\n",
    "\n",
    "x_train_set_X = np.array(x_train_set_X,dtype= float)\n",
    "x_test_set_X = np.array(x_test_set_X,dtype= float)\n"
   ]
  },
  {
   "cell_type": "code",
   "execution_count": null,
   "metadata": {},
   "outputs": [],
   "source": [
    "x_train_set_array_X= []      \n",
    "for i in x_train_set:\n",
    "    x_train_set_array_X.append([i])\n",
    "x_train_set_array_X = np.array(x_train_set_array_X, dtype = float)\n",
    "\n",
    "x_test_set_array_X= []      \n",
    "for i in x_test_set:\n",
    "    x_test_set_array_X.append([i])\n",
    "x_test_set_array_X = np.array(x_test_set_array_X, dtype = float)"
   ]
  },
  {
   "cell_type": "code",
   "execution_count": null,
   "metadata": {},
   "outputs": [],
   "source": [
    "model_X = Sequential()"
   ]
  },
  {
   "cell_type": "code",
   "execution_count": null,
   "metadata": {},
   "outputs": [],
   "source": [
    "model_X.add(LSTM(1,batch_input_shape= (None,1,3),return_sequences= False))"
   ]
  },
  {
   "cell_type": "code",
   "execution_count": null,
   "metadata": {},
   "outputs": [],
   "source": [
    "model_X.compile(loss='mean_absolute_error',optimizer='adam',metrics=['accuracy'])"
   ]
  },
  {
   "cell_type": "code",
   "execution_count": null,
   "metadata": {},
   "outputs": [],
   "source": [
    "model_X.summary()"
   ]
  }
 ],
 "metadata": {
  "kernelspec": {
   "display_name": "Python 3",
   "language": "python",
   "name": "python3"
  },
  "language_info": {
   "codemirror_mode": {
    "name": "ipython",
    "version": 3
   },
   "file_extension": ".py",
   "mimetype": "text/x-python",
   "name": "python",
   "nbconvert_exporter": "python",
   "pygments_lexer": "ipython3",
   "version": "3.7.3"
  }
 },
 "nbformat": 4,
 "nbformat_minor": 2
}
