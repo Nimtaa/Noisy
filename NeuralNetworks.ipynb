{
 "cells": [
  {
   "cell_type": "markdown",
   "metadata": {},
   "source": [
    "### Imports"
   ]
  },
  {
   "cell_type": "code",
   "execution_count": 1,
   "metadata": {
    "scrolled": true
   },
   "outputs": [
    {
     "name": "stderr",
     "output_type": "stream",
     "text": [
      "Using TensorFlow backend.\n"
     ]
    }
   ],
   "source": [
    "import tensorflow as tf\n",
    "from keras.models import Sequential\n",
    "from keras.layers import LSTM\n",
    "from sklearn.model_selection import train_test_split\n",
    "import numpy as np\n",
    "import matplotlib.pyplot as plt\n",
    "import pandas "
   ]
  },
  {
   "cell_type": "markdown",
   "metadata": {},
   "source": [
    "### Data Preparation"
   ]
  },
  {
   "cell_type": "code",
   "execution_count": 145,
   "metadata": {},
   "outputs": [],
   "source": [
    "data = pandas.read_csv('./data/Learning/Training_set_new.csv')\n",
    "test = pandas.read_csv('./data/Learning/Test_set.csv')\n",
    "gtTrain = pandas.read_csv('./data/21/groundTruthEdited.csv')\n",
    "gtTest = pandas.read_csv('./data/17/groundTruthEdited.csv')\n",
    "\n",
    "x_train_set = data[['x','y','z']]\n",
    "\n",
    "target = data['brakingStatus']\n",
    "# xtrain_set = [data[['x','y','z']][i:i+1].iterrows() for i in range(0,train_set)]\n",
    "# target = [data['brakingStatus'][i:i+1] for i in range(0,train_set)]\n",
    "\n",
    "x_test_set = test[['x','y','z']]\n",
    "y_test_set = test['brakingStatus']\n"
   ]
  },
  {
   "cell_type": "code",
   "execution_count": 146,
   "metadata": {},
   "outputs": [],
   "source": [
    "x_train_set = np.array(x_train_set,dtype=float)\n",
    "\n",
    "target = np.array(target,dtype=float)\n",
    "\n",
    "x_test_set =  np.array(x_test_set,dtype=float)\n",
    "y_test_set =  np.array(y_test_set,dtype=float)"
   ]
  },
  {
   "cell_type": "code",
   "execution_count": 147,
   "metadata": {},
   "outputs": [],
   "source": [
    "x_train_set_array= []      \n",
    "for i in x_train_set:\n",
    "    x_train_set_array.append([i])\n",
    "x_train_set_array = np.array(x_train_set_array, dtype = float)\n",
    "\n",
    "x_test_set_array= []      \n",
    "for i in x_test_set:\n",
    "    x_test_set_array.append([i])\n",
    "x_test_set_array = np.array(x_test_set_array, dtype = float)\n",
    "\n",
    "y_test_set_array= []      \n",
    "for i in y_test_set:\n",
    "    y_test_set_array.append([i])\n",
    "y_test_set_array = np.array(y_test_set_array, dtype = float)\n",
    "\n",
    "target_array= []      \n",
    "for i in target:\n",
    "    target_array.append([i])\n",
    "target_array = np.array(target_array, dtype = float)\n",
    "\n",
    "\n"
   ]
  },
  {
   "cell_type": "code",
   "execution_count": 148,
   "metadata": {},
   "outputs": [
    {
     "data": {
      "text/plain": [
       "(41178, 1, 3)"
      ]
     },
     "execution_count": 148,
     "metadata": {},
     "output_type": "execute_result"
    }
   ],
   "source": [
    "# target_array.shape\n",
    "x_train_set_array.shape"
   ]
  },
  {
   "cell_type": "code",
   "execution_count": 149,
   "metadata": {},
   "outputs": [
    {
     "data": {
      "text/plain": [
       "(20675, 1, 3)"
      ]
     },
     "execution_count": 149,
     "metadata": {},
     "output_type": "execute_result"
    }
   ],
   "source": [
    "x_test_set_array.shape"
   ]
  },
  {
   "cell_type": "code",
   "execution_count": 150,
   "metadata": {},
   "outputs": [
    {
     "data": {
      "text/html": [
       "<div>\n",
       "<style scoped>\n",
       "    .dataframe tbody tr th:only-of-type {\n",
       "        vertical-align: middle;\n",
       "    }\n",
       "\n",
       "    .dataframe tbody tr th {\n",
       "        vertical-align: top;\n",
       "    }\n",
       "\n",
       "    .dataframe thead th {\n",
       "        text-align: right;\n",
       "    }\n",
       "</style>\n",
       "<table border=\"1\" class=\"dataframe\">\n",
       "  <thead>\n",
       "    <tr style=\"text-align: right;\">\n",
       "      <th></th>\n",
       "      <th>evento</th>\n",
       "      <th>startIndexinAcc</th>\n",
       "      <th>endIndexinAcc</th>\n",
       "    </tr>\n",
       "  </thead>\n",
       "  <tbody>\n",
       "    <tr>\n",
       "      <th>0</th>\n",
       "      <td>evento_nao_agressivo</td>\n",
       "      <td>1751</td>\n",
       "      <td>1954</td>\n",
       "    </tr>\n",
       "    <tr>\n",
       "      <th>1</th>\n",
       "      <td>troca_faixa_esquerda_agressiva</td>\n",
       "      <td>1140</td>\n",
       "      <td>1241</td>\n",
       "    </tr>\n",
       "    <tr>\n",
       "      <th>2</th>\n",
       "      <td>evento_nao_agressivo</td>\n",
       "      <td>4298</td>\n",
       "      <td>4552</td>\n",
       "    </tr>\n",
       "    <tr>\n",
       "      <th>3</th>\n",
       "      <td>troca_faixa_esquerda_agressiva</td>\n",
       "      <td>4909</td>\n",
       "      <td>5112</td>\n",
       "    </tr>\n",
       "    <tr>\n",
       "      <th>4</th>\n",
       "      <td>troca_faixa_esquerda_agressiva</td>\n",
       "      <td>5470</td>\n",
       "      <td>5622</td>\n",
       "    </tr>\n",
       "    <tr>\n",
       "      <th>5</th>\n",
       "      <td>evento_nao_agressivo</td>\n",
       "      <td>5928</td>\n",
       "      <td>6182</td>\n",
       "    </tr>\n",
       "    <tr>\n",
       "      <th>6</th>\n",
       "      <td>troca_faixa_esquerda_agressiva</td>\n",
       "      <td>8271</td>\n",
       "      <td>8423</td>\n",
       "    </tr>\n",
       "    <tr>\n",
       "      <th>7</th>\n",
       "      <td>evento_nao_agressivo</td>\n",
       "      <td>9595</td>\n",
       "      <td>9849</td>\n",
       "    </tr>\n",
       "    <tr>\n",
       "      <th>8</th>\n",
       "      <td>freada_agressiva</td>\n",
       "      <td>10105</td>\n",
       "      <td>10256</td>\n",
       "    </tr>\n",
       "    <tr>\n",
       "      <th>9</th>\n",
       "      <td>freada_agressiva</td>\n",
       "      <td>13059</td>\n",
       "      <td>13261</td>\n",
       "    </tr>\n",
       "    <tr>\n",
       "      <th>10</th>\n",
       "      <td>freada_agressiva</td>\n",
       "      <td>14689</td>\n",
       "      <td>14892</td>\n",
       "    </tr>\n",
       "    <tr>\n",
       "      <th>11</th>\n",
       "      <td>freada_agressiva</td>\n",
       "      <td>16421</td>\n",
       "      <td>16573</td>\n",
       "    </tr>\n",
       "    <tr>\n",
       "      <th>12</th>\n",
       "      <td>freada_agressiva</td>\n",
       "      <td>17287</td>\n",
       "      <td>17490</td>\n",
       "    </tr>\n",
       "    <tr>\n",
       "      <th>13</th>\n",
       "      <td>freada_agressiva</td>\n",
       "      <td>19834</td>\n",
       "      <td>19986</td>\n",
       "    </tr>\n",
       "    <tr>\n",
       "      <th>14</th>\n",
       "      <td>aceleracao_agressiva</td>\n",
       "      <td>21617</td>\n",
       "      <td>21870</td>\n",
       "    </tr>\n",
       "    <tr>\n",
       "      <th>15</th>\n",
       "      <td>aceleracao_agressiva</td>\n",
       "      <td>24469</td>\n",
       "      <td>24774</td>\n",
       "    </tr>\n",
       "    <tr>\n",
       "      <th>16</th>\n",
       "      <td>aceleracao_agressiva</td>\n",
       "      <td>26150</td>\n",
       "      <td>26353</td>\n",
       "    </tr>\n",
       "    <tr>\n",
       "      <th>17</th>\n",
       "      <td>aceleracao_agressiva</td>\n",
       "      <td>28748</td>\n",
       "      <td>28900</td>\n",
       "    </tr>\n",
       "    <tr>\n",
       "      <th>18</th>\n",
       "      <td>aceleracao_agressiva</td>\n",
       "      <td>35626</td>\n",
       "      <td>35829</td>\n",
       "    </tr>\n",
       "    <tr>\n",
       "      <th>19</th>\n",
       "      <td>aceleracao_agressiva</td>\n",
       "      <td>36339</td>\n",
       "      <td>36542</td>\n",
       "    </tr>\n",
       "    <tr>\n",
       "      <th>20</th>\n",
       "      <td>evento_nao_agressivo</td>\n",
       "      <td>38224</td>\n",
       "      <td>38427</td>\n",
       "    </tr>\n",
       "    <tr>\n",
       "      <th>21</th>\n",
       "      <td>evento_nao_agressivo</td>\n",
       "      <td>39905</td>\n",
       "      <td>40108</td>\n",
       "    </tr>\n",
       "  </tbody>\n",
       "</table>\n",
       "</div>"
      ],
      "text/plain": [
       "                            evento  startIndexinAcc  endIndexinAcc\n",
       "0             evento_nao_agressivo             1751           1954\n",
       "1   troca_faixa_esquerda_agressiva             1140           1241\n",
       "2             evento_nao_agressivo             4298           4552\n",
       "3   troca_faixa_esquerda_agressiva             4909           5112\n",
       "4   troca_faixa_esquerda_agressiva             5470           5622\n",
       "5             evento_nao_agressivo             5928           6182\n",
       "6   troca_faixa_esquerda_agressiva             8271           8423\n",
       "7             evento_nao_agressivo             9595           9849\n",
       "8                 freada_agressiva            10105          10256\n",
       "9                 freada_agressiva            13059          13261\n",
       "10                freada_agressiva            14689          14892\n",
       "11                freada_agressiva            16421          16573\n",
       "12                freada_agressiva            17287          17490\n",
       "13                freada_agressiva            19834          19986\n",
       "14            aceleracao_agressiva            21617          21870\n",
       "15            aceleracao_agressiva            24469          24774\n",
       "16            aceleracao_agressiva            26150          26353\n",
       "17            aceleracao_agressiva            28748          28900\n",
       "18            aceleracao_agressiva            35626          35829\n",
       "19            aceleracao_agressiva            36339          36542\n",
       "20            evento_nao_agressivo            38224          38427\n",
       "21            evento_nao_agressivo            39905          40108"
      ]
     },
     "execution_count": 150,
     "metadata": {},
     "output_type": "execute_result"
    }
   ],
   "source": [
    "gtTrain"
   ]
  },
  {
   "cell_type": "markdown",
   "metadata": {},
   "source": [
    "### RNN model"
   ]
  },
  {
   "cell_type": "code",
   "execution_count": 151,
   "metadata": {},
   "outputs": [],
   "source": [
    "model = Sequential()"
   ]
  },
  {
   "cell_type": "code",
   "execution_count": 152,
   "metadata": {},
   "outputs": [],
   "source": [
    "model.add(LSTM(1,batch_input_shape= (None,1,3),return_sequences= False))"
   ]
  },
  {
   "cell_type": "code",
   "execution_count": 153,
   "metadata": {},
   "outputs": [],
   "source": [
    "model.compile(loss='binary_crossentropy',optimizer='adam',metrics=['accuracy'])"
   ]
  },
  {
   "cell_type": "code",
   "execution_count": 154,
   "metadata": {},
   "outputs": [
    {
     "name": "stdout",
     "output_type": "stream",
     "text": [
      "_________________________________________________________________\n",
      "Layer (type)                 Output Shape              Param #   \n",
      "=================================================================\n",
      "lstm_7 (LSTM)                (None, 1)                 20        \n",
      "=================================================================\n",
      "Total params: 20\n",
      "Trainable params: 20\n",
      "Non-trainable params: 0\n",
      "_________________________________________________________________\n"
     ]
    }
   ],
   "source": [
    "model.summary()"
   ]
  },
  {
   "cell_type": "code",
   "execution_count": 155,
   "metadata": {},
   "outputs": [
    {
     "name": "stdout",
     "output_type": "stream",
     "text": [
      "Train on 29177 samples, validate on 12000 samples\n",
      "Epoch 1/100\n",
      "29177/29177 [==============================] - 5s 159us/step - loss: 0.3314 - acc: 0.9658 - val_loss: 0.5064 - val_acc: 0.9375\n",
      "Epoch 2/100\n",
      "29177/29177 [==============================] - 2s 82us/step - loss: 0.3095 - acc: 0.9687 - val_loss: 0.5148 - val_acc: 0.9375\n",
      "Epoch 3/100\n",
      "29177/29177 [==============================] - 2s 82us/step - loss: 0.2794 - acc: 0.9686 - val_loss: 0.5165 - val_acc: 0.9375\n",
      "Epoch 4/100\n",
      "29177/29177 [==============================] - 2s 82us/step - loss: 0.2593 - acc: 0.9686 - val_loss: 0.5168 - val_acc: 0.9375\n",
      "Epoch 5/100\n",
      "29177/29177 [==============================] - 2s 84us/step - loss: 0.2480 - acc: 0.9684 - val_loss: 0.5162 - val_acc: 0.9375\n",
      "Epoch 6/100\n",
      "29177/29177 [==============================] - 3s 86us/step - loss: 0.2434 - acc: 0.9681 - val_loss: 0.5234 - val_acc: 0.9375\n",
      "Epoch 7/100\n",
      "29177/29177 [==============================] - 3s 93us/step - loss: 0.2413 - acc: 0.9677 - val_loss: 0.5244 - val_acc: 0.9373\n",
      "Epoch 8/100\n",
      "29177/29177 [==============================] - 2s 84us/step - loss: 0.2336 - acc: 0.9674 - val_loss: 0.5267 - val_acc: 0.9373\n",
      "Epoch 9/100\n",
      "29177/29177 [==============================] - 2s 83us/step - loss: 0.2286 - acc: 0.9678 - val_loss: 0.5285 - val_acc: 0.9373\n",
      "Epoch 10/100\n",
      "29177/29177 [==============================] - 2s 85us/step - loss: 0.2276 - acc: 0.9681 - val_loss: 0.5264 - val_acc: 0.9374\n",
      "Epoch 11/100\n",
      "29177/29177 [==============================] - 3s 87us/step - loss: 0.2276 - acc: 0.9683 - val_loss: 0.5251 - val_acc: 0.9375\n",
      "Epoch 12/100\n",
      "29177/29177 [==============================] - 2s 85us/step - loss: 0.2233 - acc: 0.9685 - val_loss: 0.5162 - val_acc: 0.9375\n",
      "Epoch 13/100\n",
      "29177/29177 [==============================] - 3s 93us/step - loss: 0.2111 - acc: 0.9687 - val_loss: 0.5118 - val_acc: 0.9375\n",
      "Epoch 14/100\n",
      "29177/29177 [==============================] - 3s 87us/step - loss: 0.2106 - acc: 0.9687 - val_loss: 0.5106 - val_acc: 0.9375\n",
      "Epoch 15/100\n",
      "29177/29177 [==============================] - 2s 85us/step - loss: 0.2117 - acc: 0.9687 - val_loss: 0.5043 - val_acc: 0.9375\n",
      "Epoch 16/100\n",
      "29177/29177 [==============================] - 3s 89us/step - loss: 0.2072 - acc: 0.9687 - val_loss: 0.4934 - val_acc: 0.9375\n",
      "Epoch 17/100\n",
      "29177/29177 [==============================] - 2s 84us/step - loss: 0.2023 - acc: 0.9687 - val_loss: 0.4778 - val_acc: 0.9375\n",
      "Epoch 18/100\n",
      "29177/29177 [==============================] - 3s 86us/step - loss: 0.1943 - acc: 0.9687 - val_loss: 0.4703 - val_acc: 0.9375\n",
      "Epoch 19/100\n",
      "29177/29177 [==============================] - 3s 92us/step - loss: 0.1864 - acc: 0.9687 - val_loss: 0.4557 - val_acc: 0.9375\n",
      "Epoch 20/100\n",
      "29177/29177 [==============================] - 3s 91us/step - loss: 0.1799 - acc: 0.9687 - val_loss: 0.4380 - val_acc: 0.9375\n",
      "Epoch 21/100\n",
      "29177/29177 [==============================] - 3s 96us/step - loss: 0.1714 - acc: 0.9687 - val_loss: 0.4177 - val_acc: 0.9375\n",
      "Epoch 22/100\n",
      "29177/29177 [==============================] - 2s 85us/step - loss: 0.1639 - acc: 0.9687 - val_loss: 0.3869 - val_acc: 0.9375\n",
      "Epoch 23/100\n",
      "29177/29177 [==============================] - 2s 85us/step - loss: 0.1537 - acc: 0.9687 - val_loss: 0.3280 - val_acc: 0.9375\n",
      "Epoch 24/100\n",
      "29177/29177 [==============================] - 3s 86us/step - loss: 0.1462 - acc: 0.9687 - val_loss: 0.3188 - val_acc: 0.9375\n",
      "Epoch 25/100\n",
      "29177/29177 [==============================] - 3s 86us/step - loss: 0.1431 - acc: 0.9687 - val_loss: 0.3005 - val_acc: 0.9375\n",
      "Epoch 26/100\n",
      "29177/29177 [==============================] - 3s 97us/step - loss: 0.1409 - acc: 0.9687 - val_loss: 0.2961 - val_acc: 0.9375\n",
      "Epoch 27/100\n",
      "29177/29177 [==============================] - 3s 87us/step - loss: 0.1397 - acc: 0.9687 - val_loss: 0.2799 - val_acc: 0.9375\n",
      "Epoch 28/100\n",
      "29177/29177 [==============================] - 2s 85us/step - loss: 0.1380 - acc: 0.9687 - val_loss: 0.2656 - val_acc: 0.9375\n",
      "Epoch 29/100\n",
      "29177/29177 [==============================] - 3s 86us/step - loss: 0.1377 - acc: 0.9687 - val_loss: 0.2594 - val_acc: 0.9375\n",
      "Epoch 30/100\n",
      "29177/29177 [==============================] - 2s 86us/step - loss: 0.1376 - acc: 0.9687 - val_loss: 0.2536 - val_acc: 0.9375\n",
      "Epoch 31/100\n",
      "29177/29177 [==============================] - 3s 92us/step - loss: 0.1373 - acc: 0.9687 - val_loss: 0.2505 - val_acc: 0.9375\n",
      "Epoch 32/100\n",
      "29177/29177 [==============================] - 3s 104us/step - loss: 0.1372 - acc: 0.9687 - val_loss: 0.2508 - val_acc: 0.9375\n",
      "Epoch 33/100\n",
      "29177/29177 [==============================] - 2s 85us/step - loss: 0.1371 - acc: 0.9687 - val_loss: 0.2480 - val_acc: 0.9375\n",
      "Epoch 34/100\n",
      "29177/29177 [==============================] - 2s 86us/step - loss: 0.1371 - acc: 0.9687 - val_loss: 0.2484 - val_acc: 0.9375\n",
      "Epoch 35/100\n",
      "29177/29177 [==============================] - 2s 86us/step - loss: 0.1371 - acc: 0.9687 - val_loss: 0.2478 - val_acc: 0.9375\n",
      "Epoch 36/100\n",
      "29177/29177 [==============================] - 3s 88us/step - loss: 0.1371 - acc: 0.9687 - val_loss: 0.2463 - val_acc: 0.9375\n",
      "Epoch 37/100\n",
      "29177/29177 [==============================] - 2s 85us/step - loss: 0.1371 - acc: 0.9687 - val_loss: 0.2475 - val_acc: 0.9375\n",
      "Epoch 38/100\n",
      "29177/29177 [==============================] - 3s 96us/step - loss: 0.1371 - acc: 0.9687 - val_loss: 0.2465 - val_acc: 0.9375\n",
      "Epoch 39/100\n",
      "29177/29177 [==============================] - 3s 86us/step - loss: 0.1370 - acc: 0.9687 - val_loss: 0.2467 - val_acc: 0.9375\n",
      "Epoch 40/100\n",
      "29177/29177 [==============================] - 3s 86us/step - loss: 0.1371 - acc: 0.9687 - val_loss: 0.2458 - val_acc: 0.9375\n",
      "Epoch 41/100\n",
      "29177/29177 [==============================] - 3s 87us/step - loss: 0.1370 - acc: 0.9687 - val_loss: 0.2489 - val_acc: 0.9375\n",
      "Epoch 42/100\n",
      "29177/29177 [==============================] - 3s 87us/step - loss: 0.1371 - acc: 0.9687 - val_loss: 0.2466 - val_acc: 0.9375\n",
      "Epoch 43/100\n",
      "29177/29177 [==============================] - 3s 87us/step - loss: 0.1370 - acc: 0.9687 - val_loss: 0.2453 - val_acc: 0.9375\n",
      "Epoch 44/100\n",
      "29177/29177 [==============================] - 3s 94us/step - loss: 0.1370 - acc: 0.9687 - val_loss: 0.2439 - val_acc: 0.9375\n",
      "Epoch 45/100\n",
      "29177/29177 [==============================] - 3s 88us/step - loss: 0.1370 - acc: 0.9687 - val_loss: 0.2466 - val_acc: 0.9375\n",
      "Epoch 46/100\n",
      "29177/29177 [==============================] - 3s 87us/step - loss: 0.1371 - acc: 0.9687 - val_loss: 0.2463 - val_acc: 0.9375\n",
      "Epoch 47/100\n",
      "29177/29177 [==============================] - 3s 86us/step - loss: 0.1371 - acc: 0.9687 - val_loss: 0.2466 - val_acc: 0.9375\n",
      "Epoch 48/100\n",
      "29177/29177 [==============================] - 3s 87us/step - loss: 0.1370 - acc: 0.9687 - val_loss: 0.2443 - val_acc: 0.9375\n",
      "Epoch 49/100\n",
      "29177/29177 [==============================] - 3s 87us/step - loss: 0.1371 - acc: 0.9687 - val_loss: 0.2447 - val_acc: 0.9375\n",
      "Epoch 50/100\n",
      "29177/29177 [==============================] - 3s 91us/step - loss: 0.1370 - acc: 0.9687 - val_loss: 0.2473 - val_acc: 0.9375\n",
      "Epoch 51/100\n",
      "29177/29177 [==============================] - 3s 93us/step - loss: 0.1371 - acc: 0.9687 - val_loss: 0.2463 - val_acc: 0.9375\n",
      "Epoch 52/100\n",
      "29177/29177 [==============================] - 3s 88us/step - loss: 0.1371 - acc: 0.9687 - val_loss: 0.2461 - val_acc: 0.9375\n",
      "Epoch 53/100\n",
      "29177/29177 [==============================] - 3s 87us/step - loss: 0.1370 - acc: 0.9687 - val_loss: 0.2460 - val_acc: 0.9375\n",
      "Epoch 54/100\n",
      "29177/29177 [==============================] - 3s 87us/step - loss: 0.1370 - acc: 0.9687 - val_loss: 0.2461 - val_acc: 0.9375\n",
      "Epoch 55/100\n",
      "29177/29177 [==============================] - 2s 84us/step - loss: 0.1371 - acc: 0.9687 - val_loss: 0.2459 - val_acc: 0.9375\n",
      "Epoch 56/100\n",
      "29177/29177 [==============================] - 2s 83us/step - loss: 0.1370 - acc: 0.9687 - val_loss: 0.2448 - val_acc: 0.9375\n",
      "Epoch 57/100\n",
      "29177/29177 [==============================] - 3s 93us/step - loss: 0.1371 - acc: 0.9687 - val_loss: 0.2443 - val_acc: 0.9375\n",
      "Epoch 58/100\n",
      "29177/29177 [==============================] - 2s 83us/step - loss: 0.1371 - acc: 0.9687 - val_loss: 0.2453 - val_acc: 0.9375\n",
      "Epoch 59/100\n"
     ]
    },
    {
     "name": "stdout",
     "output_type": "stream",
     "text": [
      "29177/29177 [==============================] - 2s 80us/step - loss: 0.1370 - acc: 0.9687 - val_loss: 0.2440 - val_acc: 0.9375\n",
      "Epoch 60/100\n",
      "29177/29177 [==============================] - 2s 79us/step - loss: 0.1370 - acc: 0.9687 - val_loss: 0.2467 - val_acc: 0.9375\n",
      "Epoch 61/100\n",
      "29177/29177 [==============================] - 2s 79us/step - loss: 0.1370 - acc: 0.9687 - val_loss: 0.2455 - val_acc: 0.9375\n",
      "Epoch 62/100\n",
      "29177/29177 [==============================] - 2s 79us/step - loss: 0.1371 - acc: 0.9687 - val_loss: 0.2450 - val_acc: 0.9375\n",
      "Epoch 63/100\n",
      "29177/29177 [==============================] - 2s 83us/step - loss: 0.1370 - acc: 0.9687 - val_loss: 0.2451 - val_acc: 0.9375\n",
      "Epoch 64/100\n",
      "29177/29177 [==============================] - 2s 85us/step - loss: 0.1370 - acc: 0.9687 - val_loss: 0.2453 - val_acc: 0.9375\n",
      "Epoch 65/100\n",
      "29177/29177 [==============================] - 2s 80us/step - loss: 0.1370 - acc: 0.9687 - val_loss: 0.2460 - val_acc: 0.9375\n",
      "Epoch 66/100\n",
      "29177/29177 [==============================] - 2s 80us/step - loss: 0.1370 - acc: 0.9687 - val_loss: 0.2452 - val_acc: 0.9375\n",
      "Epoch 67/100\n",
      "29177/29177 [==============================] - 2s 80us/step - loss: 0.1370 - acc: 0.9687 - val_loss: 0.2469 - val_acc: 0.9375\n",
      "Epoch 68/100\n",
      "29177/29177 [==============================] - 2s 79us/step - loss: 0.1371 - acc: 0.9687 - val_loss: 0.2459 - val_acc: 0.9375\n",
      "Epoch 69/100\n",
      "29177/29177 [==============================] - 2s 80us/step - loss: 0.1370 - acc: 0.9687 - val_loss: 0.2454 - val_acc: 0.9375\n",
      "Epoch 70/100\n",
      "29177/29177 [==============================] - 3s 88us/step - loss: 0.1370 - acc: 0.9687 - val_loss: 0.2440 - val_acc: 0.9375\n",
      "Epoch 71/100\n",
      "29177/29177 [==============================] - 2s 81us/step - loss: 0.1371 - acc: 0.9687 - val_loss: 0.2453 - val_acc: 0.9375\n",
      "Epoch 72/100\n",
      "29177/29177 [==============================] - 3s 92us/step - loss: 0.1370 - acc: 0.9687 - val_loss: 0.2465 - val_acc: 0.9375\n",
      "Epoch 73/100\n",
      "29177/29177 [==============================] - 3s 93us/step - loss: 0.1371 - acc: 0.9687 - val_loss: 0.2460 - val_acc: 0.9375\n",
      "Epoch 74/100\n",
      "29177/29177 [==============================] - 3s 91us/step - loss: 0.1370 - acc: 0.9687 - val_loss: 0.2440 - val_acc: 0.9375\n",
      "Epoch 75/100\n",
      "29177/29177 [==============================] - 3s 89us/step - loss: 0.1370 - acc: 0.9687 - val_loss: 0.2451 - val_acc: 0.9375\n",
      "Epoch 76/100\n",
      "29177/29177 [==============================] - 3s 100us/step - loss: 0.1370 - acc: 0.9687 - val_loss: 0.2437 - val_acc: 0.9375\n",
      "Epoch 77/100\n",
      "29177/29177 [==============================] - 3s 88us/step - loss: 0.1370 - acc: 0.9687 - val_loss: 0.2470 - val_acc: 0.9375\n",
      "Epoch 78/100\n",
      "29177/29177 [==============================] - 2s 84us/step - loss: 0.1370 - acc: 0.9687 - val_loss: 0.2445 - val_acc: 0.9375\n",
      "Epoch 79/100\n",
      "29177/29177 [==============================] - 3s 86us/step - loss: 0.1371 - acc: 0.9687 - val_loss: 0.2450 - val_acc: 0.9375\n",
      "Epoch 80/100\n",
      "29177/29177 [==============================] - 3s 87us/step - loss: 0.1370 - acc: 0.9687 - val_loss: 0.2441 - val_acc: 0.9375\n",
      "Epoch 81/100\n",
      "29177/29177 [==============================] - 2s 85us/step - loss: 0.1370 - acc: 0.9687 - val_loss: 0.2444 - val_acc: 0.9375\n",
      "Epoch 82/100\n",
      "29177/29177 [==============================] - 3s 87us/step - loss: 0.1370 - acc: 0.9687 - val_loss: 0.2444 - val_acc: 0.9375\n",
      "Epoch 83/100\n",
      "29177/29177 [==============================] - 3s 93us/step - loss: 0.1370 - acc: 0.9687 - val_loss: 0.2453 - val_acc: 0.9375\n",
      "Epoch 84/100\n",
      "29177/29177 [==============================] - 3s 89us/step - loss: 0.1370 - acc: 0.9687 - val_loss: 0.2440 - val_acc: 0.9375\n",
      "Epoch 85/100\n",
      "29177/29177 [==============================] - 3s 92us/step - loss: 0.1371 - acc: 0.9687 - val_loss: 0.2461 - val_acc: 0.9375\n",
      "Epoch 86/100\n",
      "29177/29177 [==============================] - 3s 91us/step - loss: 0.1370 - acc: 0.9687 - val_loss: 0.2451 - val_acc: 0.9375\n",
      "Epoch 87/100\n",
      "29177/29177 [==============================] - 3s 86us/step - loss: 0.1370 - acc: 0.9687 - val_loss: 0.2458 - val_acc: 0.9375\n",
      "Epoch 88/100\n",
      "29177/29177 [==============================] - 2s 85us/step - loss: 0.1370 - acc: 0.9687 - val_loss: 0.2455 - val_acc: 0.9375\n",
      "Epoch 89/100\n",
      "29177/29177 [==============================] - 3s 94us/step - loss: 0.1370 - acc: 0.9687 - val_loss: 0.2458 - val_acc: 0.9375\n",
      "Epoch 90/100\n",
      "29177/29177 [==============================] - 2s 86us/step - loss: 0.1370 - acc: 0.9687 - val_loss: 0.2454 - val_acc: 0.9375\n",
      "Epoch 91/100\n",
      "29177/29177 [==============================] - 3s 93us/step - loss: 0.1370 - acc: 0.9687 - val_loss: 0.2457 - val_acc: 0.9375\n",
      "Epoch 92/100\n",
      "29177/29177 [==============================] - 2s 85us/step - loss: 0.1369 - acc: 0.9687 - val_loss: 0.2449 - val_acc: 0.9375\n",
      "Epoch 93/100\n",
      "29177/29177 [==============================] - 2s 85us/step - loss: 0.1371 - acc: 0.9687 - val_loss: 0.2456 - val_acc: 0.9375\n",
      "Epoch 94/100\n",
      "29177/29177 [==============================] - 2s 85us/step - loss: 0.1370 - acc: 0.9687 - val_loss: 0.2455 - val_acc: 0.9375\n",
      "Epoch 95/100\n",
      "29177/29177 [==============================] - 3s 95us/step - loss: 0.1370 - acc: 0.9687 - val_loss: 0.2446 - val_acc: 0.9375\n",
      "Epoch 96/100\n",
      "29177/29177 [==============================] - 3s 86us/step - loss: 0.1370 - acc: 0.9687 - val_loss: 0.2456 - val_acc: 0.9375\n",
      "Epoch 97/100\n",
      "29177/29177 [==============================] - 3s 89us/step - loss: 0.1371 - acc: 0.9687 - val_loss: 0.2454 - val_acc: 0.9375\n",
      "Epoch 98/100\n",
      "29177/29177 [==============================] - 3s 89us/step - loss: 0.1370 - acc: 0.9687 - val_loss: 0.2449 - val_acc: 0.9375\n",
      "Epoch 99/100\n",
      "29177/29177 [==============================] - 3s 88us/step - loss: 0.1370 - acc: 0.9687 - val_loss: 0.2443 - val_acc: 0.9375\n",
      "Epoch 100/100\n",
      "29177/29177 [==============================] - 3s 91us/step - loss: 0.1370 - acc: 0.9687 - val_loss: 0.2448 - val_acc: 0.9375\n"
     ]
    }
   ],
   "source": [
    "history = model.fit(x_train_set_array[12001:],target_array[12001:],epochs=100,validation_data=(x_test_set_array[0:12000],y_test_set_array[0:12000]))"
   ]
  },
  {
   "cell_type": "code",
   "execution_count": 156,
   "metadata": {},
   "outputs": [],
   "source": [
    "results = model.predict(x_test_set_array)"
   ]
  },
  {
   "cell_type": "code",
   "execution_count": 157,
   "metadata": {},
   "outputs": [
    {
     "data": {
      "text/plain": [
       "20675"
      ]
     },
     "execution_count": 157,
     "metadata": {},
     "output_type": "execute_result"
    }
   ],
   "source": [
    "# results[11198:11349]\n",
    "len(results)"
   ]
  },
  {
   "cell_type": "code",
   "execution_count": 158,
   "metadata": {},
   "outputs": [
    {
     "data": {
      "text/plain": [
       "<function matplotlib.pyplot.show(*args, **kw)>"
      ]
     },
     "execution_count": 158,
     "metadata": {},
     "output_type": "execute_result"
    },
    {
     "data": {
      "image/png": "[encoded data removed]",
      "text/plain": [
       "<Figure size 432x288 with 1 Axes>"
      ]
     },
     "metadata": {
      "needs_background": "light"
     },
     "output_type": "display_data"
    }
   ],
   "source": [
    "plt.scatter(range(20675),results,c='r')\n",
    "plt.scatter(range(20675),y_test_set_array,c='g')\n",
    "plt.show"
   ]
  },
  {
   "cell_type": "code",
   "execution_count": 159,
   "metadata": {},
   "outputs": [
    {
     "data": {
      "image/png": "[encoded data removed]",
      "text/plain": [
       "<Figure size 432x288 with 1 Axes>"
      ]
     },
     "metadata": {
      "needs_background": "light"
     },
     "output_type": "display_data"
    }
   ],
   "source": [
    "plt.plot(history.history['loss'])\n",
    "plt.show()"
   ]
  },
  {
   "cell_type": "code",
   "execution_count": 160,
   "metadata": {},
   "outputs": [
    {
     "data": {
      "image/png": "[encoded data removed]",
      "text/plain": [
       "<Figure size 432x288 with 1 Axes>"
      ]
     },
     "metadata": {
      "needs_background": "light"
     },
     "output_type": "display_data"
    }
   ],
   "source": [
    "plt.plot(history.history['acc'])\n",
    "plt.show()"
   ]
  },
  {
   "cell_type": "markdown",
   "metadata": {},
   "source": [
    "### Training by just 'X' "
   ]
  },
  {
   "cell_type": "code",
   "execution_count": 44,
   "metadata": {},
   "outputs": [],
   "source": [
    "x_train_set_X = data['x']\n",
    "x_test_set_X = test['x']\n",
    "\n",
    "\n",
    "x_train_set_X = np.array(x_train_set_X,dtype= float)\n",
    "x_test_set_X = np.array(x_test_set_X,dtype= float)\n"
   ]
  },
  {
   "cell_type": "code",
   "execution_count": 45,
   "metadata": {},
   "outputs": [],
   "source": [
    "x_train_set_array_X= []      \n",
    "for i in x_train_set:\n",
    "    x_train_set_array_X.append([i])\n",
    "x_train_set_array_X = np.array(x_train_set_array_X, dtype = float)\n",
    "\n",
    "x_test_set_array_X= []      \n",
    "for i in x_test_set:\n",
    "    x_test_set_array_X.append([i])\n",
    "x_test_set_array_X = np.array(x_test_set_array_X, dtype = float)"
   ]
  },
  {
   "cell_type": "code",
   "execution_count": 46,
   "metadata": {},
   "outputs": [],
   "source": [
    "model_X = Sequential()"
   ]
  },
  {
   "cell_type": "code",
   "execution_count": 47,
   "metadata": {},
   "outputs": [],
   "source": [
    "model_X.add(LSTM(1,batch_input_shape= (None,1,3),return_sequences= False))"
   ]
  },
  {
   "cell_type": "code",
   "execution_count": 49,
   "metadata": {},
   "outputs": [],
   "source": [
    "model_X.compile(loss='mean_absolute_error',optimizer='adam',metrics=['accuracy'])"
   ]
  },
  {
   "cell_type": "code",
   "execution_count": 50,
   "metadata": {},
   "outputs": [
    {
     "name": "stdout",
     "output_type": "stream",
     "text": [
      "_________________________________________________________________\n",
      "Layer (type)                 Output Shape              Param #   \n",
      "=================================================================\n",
      "lstm_2 (LSTM)                (None, 1)                 20        \n",
      "=================================================================\n",
      "Total params: 20\n",
      "Trainable params: 20\n",
      "Non-trainable params: 0\n",
      "_________________________________________________________________\n"
     ]
    }
   ],
   "source": [
    "model_X.summary()"
   ]
  }
 ],
 "metadata": {
  "kernelspec": {
   "display_name": "Python 3",
   "language": "python",
   "name": "python3"
  },
  "language_info": {
   "codemirror_mode": {
    "name": "ipython",
    "version": 3
   },
   "file_extension": ".py",
   "mimetype": "text/x-python",
   "name": "python",
   "nbconvert_exporter": "python",
   "pygments_lexer": "ipython3",
   "version": "3.7.3"
  }
 },
 "nbformat": 4,
 "nbformat_minor": 2
}
