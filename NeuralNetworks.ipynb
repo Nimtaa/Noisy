{
 "cells": [
  {
   "cell_type": "markdown",
   "metadata": {},
   "source": [
    "### Imports"
   ]
  },
  {
   "cell_type": "code",
   "execution_count": 1,
   "metadata": {
    "scrolled": true
   },
   "outputs": [
    {
     "name": "stderr",
     "output_type": "stream",
     "text": [
      "Using TensorFlow backend.\n"
     ]
    }
   ],
   "source": [
    "import tensorflow as tf\n",
    "from keras.models import Sequential\n",
    "from keras.layers import LSTM\n",
    "from sklearn.model_selection import train_test_split\n",
    "import numpy as np\n",
    "import matplotlib.pyplot as plt\n",
    "import pandas "
   ]
  },
  {
   "cell_type": "markdown",
   "metadata": {},
   "source": [
    "### Data Preparation"
   ]
  },
  {
   "cell_type": "code",
   "execution_count": 14,
   "metadata": {},
   "outputs": [],
   "source": [
    "data = pandas.read_csv('./data/Learning/Training_set.csv')\n",
    "test = pandas.read_csv('./data/Learning/Test_set.csv')\n",
    "\n",
    "x_train_set = data[['x','y','z']]\n",
    "\n",
    "target = data['brakingStatus']\n",
    "# xtrain_set = [data[['x','y','z']][i:i+1].iterrows() for i in range(0,train_set)]\n",
    "# target = [data['brakingStatus'][i:i+1] for i in range(0,train_set)]\n",
    "\n",
    "x_test_set = test[['x','y','z']]\n",
    "y_test_set = test['brakingStatus']\n"
   ]
  },
  {
   "cell_type": "code",
   "execution_count": 17,
   "metadata": {},
   "outputs": [],
   "source": [
    "x_train_set = np.array(x_train_set,dtype=float)\n",
    "\n",
    "target = np.array(target,dtype=float)\n",
    "\n",
    "x_test_set =  np.array(x_test_set,dtype=float)\n",
    "y_test_set =  np.array(y_test_set,dtype=float)"
   ]
  },
  {
   "cell_type": "code",
   "execution_count": 23,
   "metadata": {},
   "outputs": [],
   "source": [
    "x_train_set_array= []      \n",
    "for i in x_train_set:\n",
    "    x_train_set_array.append([i])\n",
    "x_train_set_array = np.array(x_train_set_array, dtype = float)\n",
    "\n",
    "x_test_set_array= []      \n",
    "for i in x_test_set:\n",
    "    x_test_set_array.append([i])\n",
    "x_test_set_array = np.array(x_test_set_array, dtype = float)\n",
    "\n",
    "y_test_set_array= []      \n",
    "for i in y_test_set:\n",
    "    y_test_set_array.append([i])\n",
    "y_test_set_array = np.array(y_test_set_array, dtype = float)\n",
    "\n",
    "target_array= []      \n",
    "for i in target:\n",
    "    target_array.append([i])\n",
    "target_array = np.array(target_array, dtype = float)\n",
    "\n",
    "\n"
   ]
  },
  {
   "cell_type": "code",
   "execution_count": 39,
   "metadata": {},
   "outputs": [
    {
     "data": {
      "text/plain": [
       "(20675, 1)"
      ]
     },
     "execution_count": 39,
     "metadata": {},
     "output_type": "execute_result"
    }
   ],
   "source": [
    "target_array.shape"
   ]
  },
  {
   "cell_type": "code",
   "execution_count": 41,
   "metadata": {},
   "outputs": [
    {
     "data": {
      "text/plain": [
       "(41178, 1, 3)"
      ]
     },
     "execution_count": 41,
     "metadata": {},
     "output_type": "execute_result"
    }
   ],
   "source": [
    "x_test_set_array.shape"
   ]
  },
  {
   "cell_type": "markdown",
   "metadata": {},
   "source": [
    "### RNN model"
   ]
  },
  {
   "cell_type": "code",
   "execution_count": 25,
   "metadata": {},
   "outputs": [],
   "source": [
    "model = Sequential()"
   ]
  },
  {
   "cell_type": "code",
   "execution_count": 26,
   "metadata": {},
   "outputs": [
    {
     "name": "stdout",
     "output_type": "stream",
     "text": [
      "WARNING:tensorflow:From C:\\Users\\Nima Tavassoli\\Anaconda3\\envs\\tensorflow_env\\lib\\site-packages\\tensorflow\\python\\framework\\op_def_library.py:263: colocate_with (from tensorflow.python.framework.ops) is deprecated and will be removed in a future version.\n",
      "Instructions for updating:\n",
      "Colocations handled automatically by placer.\n"
     ]
    }
   ],
   "source": [
    "model.add(LSTM(1,batch_input_shape= (None,1,3),return_sequences= False))"
   ]
  },
  {
   "cell_type": "code",
   "execution_count": 27,
   "metadata": {},
   "outputs": [],
   "source": [
    "model.compile(loss='mean_absolute_error',optimizer='adam',metrics=['accuracy'])"
   ]
  },
  {
   "cell_type": "code",
   "execution_count": 28,
   "metadata": {},
   "outputs": [
    {
     "name": "stdout",
     "output_type": "stream",
     "text": [
      "_________________________________________________________________\n",
      "Layer (type)                 Output Shape              Param #   \n",
      "=================================================================\n",
      "lstm_1 (LSTM)                (None, 1)                 20        \n",
      "=================================================================\n",
      "Total params: 20\n",
      "Trainable params: 20\n",
      "Non-trainable params: 0\n",
      "_________________________________________________________________\n"
     ]
    }
   ],
   "source": [
    "model.summary()"
   ]
  },
  {
   "cell_type": "code",
   "execution_count": 30,
   "metadata": {},
   "outputs": [
    {
     "name": "stdout",
     "output_type": "stream",
     "text": [
      "WARNING:tensorflow:From C:\\Users\\Nima Tavassoli\\Anaconda3\\envs\\tensorflow_env\\lib\\site-packages\\tensorflow\\python\\ops\\math_ops.py:3066: to_int32 (from tensorflow.python.ops.math_ops) is deprecated and will be removed in a future version.\n",
      "Instructions for updating:\n",
      "Use tf.cast instead.\n",
      "Train on 20675 samples, validate on 5000 samples\n",
      "Epoch 1/100\n",
      "20675/20675 [==============================] - 6s 266us/step - loss: 0.0882 - acc: 0.9531 - val_loss: 0.0849 - val_acc: 0.9190\n",
      "Epoch 2/100\n",
      "20675/20675 [==============================] - 2s 82us/step - loss: 0.0470 - acc: 0.9533 - val_loss: 0.0811 - val_acc: 0.9190\n",
      "Epoch 3/100\n",
      "20675/20675 [==============================] - 2s 107us/step - loss: 0.0468 - acc: 0.9533 - val_loss: 0.0810 - val_acc: 0.9190\n",
      "Epoch 4/100\n",
      "20675/20675 [==============================] - 2s 93us/step - loss: 0.0468 - acc: 0.9533 - val_loss: 0.0810 - val_acc: 0.9190\n",
      "Epoch 5/100\n",
      "20675/20675 [==============================] - 2s 106us/step - loss: 0.0468 - acc: 0.9533 - val_loss: 0.0810 - val_acc: 0.9190\n",
      "Epoch 6/100\n",
      "20675/20675 [==============================] - 1s 70us/step - loss: 0.0468 - acc: 0.9533 - val_loss: 0.0810 - val_acc: 0.9190\n",
      "Epoch 7/100\n",
      "20675/20675 [==============================] - 2s 102us/step - loss: 0.0468 - acc: 0.9533 - val_loss: 0.0810 - val_acc: 0.9190\n",
      "Epoch 8/100\n",
      "20675/20675 [==============================] - 2s 107us/step - loss: 0.0468 - acc: 0.9533 - val_loss: 0.0810 - val_acc: 0.9190\n",
      "Epoch 9/100\n",
      "20675/20675 [==============================] - 2s 94us/step - loss: 0.0468 - acc: 0.9533 - val_loss: 0.0811 - val_acc: 0.9190\n",
      "Epoch 10/100\n",
      "20675/20675 [==============================] - 2s 113us/step - loss: 0.0468 - acc: 0.9533 - val_loss: 0.0810 - val_acc: 0.9190\n",
      "Epoch 11/100\n",
      "20675/20675 [==============================] - 2s 79us/step - loss: 0.0468 - acc: 0.9533 - val_loss: 0.0810 - val_acc: 0.9190\n",
      "Epoch 12/100\n",
      "20675/20675 [==============================] - 2s 95us/step - loss: 0.0468 - acc: 0.9533 - val_loss: 0.0810 - val_acc: 0.9190\n",
      "Epoch 13/100\n",
      "20675/20675 [==============================] - 2s 107us/step - loss: 0.0468 - acc: 0.9533 - val_loss: 0.0810 - val_acc: 0.9190\n",
      "Epoch 14/100\n",
      "20675/20675 [==============================] - 2s 102us/step - loss: 0.0468 - acc: 0.9533 - val_loss: 0.0810 - val_acc: 0.9190\n",
      "Epoch 15/100\n",
      "20675/20675 [==============================] - 2s 73us/step - loss: 0.0468 - acc: 0.9533 - val_loss: 0.0810 - val_acc: 0.9190\n",
      "Epoch 16/100\n",
      "20675/20675 [==============================] - 2s 111us/step - loss: 0.0468 - acc: 0.9533 - val_loss: 0.0810 - val_acc: 0.9190\n",
      "Epoch 17/100\n",
      "20675/20675 [==============================] - 2s 86us/step - loss: 0.0467 - acc: 0.9533 - val_loss: 0.0810 - val_acc: 0.9190\n",
      "Epoch 18/100\n",
      "20675/20675 [==============================] - 2s 116us/step - loss: 0.0467 - acc: 0.9533 - val_loss: 0.0810 - val_acc: 0.9190\n",
      "Epoch 19/100\n",
      "20675/20675 [==============================] - 2s 75us/step - loss: 0.0467 - acc: 0.9533 - val_loss: 0.0810 - val_acc: 0.9190\n",
      "Epoch 20/100\n",
      "20675/20675 [==============================] - 2s 85us/step - loss: 0.0467 - acc: 0.9533 - val_loss: 0.0810 - val_acc: 0.9190\n",
      "Epoch 21/100\n",
      "20675/20675 [==============================] - 2s 107us/step - loss: 0.0465 - acc: 0.9533 - val_loss: 0.0814 - val_acc: 0.9190\n",
      "Epoch 22/100\n",
      "20675/20675 [==============================] - 2s 99us/step - loss: 0.0458 - acc: 0.9535 - val_loss: 0.0816 - val_acc: 0.9190\n",
      "Epoch 23/100\n",
      "20675/20675 [==============================] - 2s 77us/step - loss: 0.0452 - acc: 0.9546 - val_loss: 0.0818 - val_acc: 0.9188\n",
      "Epoch 24/100\n",
      "20675/20675 [==============================] - 2s 110us/step - loss: 0.0449 - acc: 0.9552 - val_loss: 0.0820 - val_acc: 0.9188\n",
      "Epoch 25/100\n",
      "20675/20675 [==============================] - 2s 97us/step - loss: 0.0446 - acc: 0.9559 - val_loss: 0.0820 - val_acc: 0.9188\n",
      "Epoch 26/100\n",
      "20675/20675 [==============================] - 2s 118us/step - loss: 0.0445 - acc: 0.9559 - val_loss: 0.0820 - val_acc: 0.9188\n",
      "Epoch 27/100\n",
      "20675/20675 [==============================] - 2s 99us/step - loss: 0.0443 - acc: 0.9563 - val_loss: 0.0821 - val_acc: 0.9188\n",
      "Epoch 28/100\n",
      "20675/20675 [==============================] - 2s 74us/step - loss: 0.0442 - acc: 0.9564 - val_loss: 0.0822 - val_acc: 0.9184\n",
      "Epoch 29/100\n",
      "20675/20675 [==============================] - 2s 111us/step - loss: 0.0441 - acc: 0.9567 - val_loss: 0.0822 - val_acc: 0.9182\n",
      "Epoch 30/100\n",
      "20675/20675 [==============================] - 2s 96us/step - loss: 0.0440 - acc: 0.9570 - val_loss: 0.0823 - val_acc: 0.9182\n",
      "Epoch 31/100\n",
      "20675/20675 [==============================] - 2s 109us/step - loss: 0.0439 - acc: 0.9572 - val_loss: 0.0822 - val_acc: 0.9182\n",
      "Epoch 32/100\n",
      "20675/20675 [==============================] - 7s 339us/step - loss: 0.0438 - acc: 0.9572 - val_loss: 0.0823 - val_acc: 0.9182\n",
      "Epoch 33/100\n",
      "20675/20675 [==============================] - 4s 215us/step - loss: 0.0438 - acc: 0.9575 - val_loss: 0.0823 - val_acc: 0.9182\n",
      "Epoch 34/100\n",
      "20675/20675 [==============================] - 3s 127us/step - loss: 0.0437 - acc: 0.9574 - val_loss: 0.0823 - val_acc: 0.9182\n",
      "Epoch 35/100\n",
      "20675/20675 [==============================] - 2s 104us/step - loss: 0.0437 - acc: 0.9575 - val_loss: 0.0824 - val_acc: 0.9182\n",
      "Epoch 36/100\n",
      "20675/20675 [==============================] - 2s 92us/step - loss: 0.0436 - acc: 0.9577 - val_loss: 0.0824 - val_acc: 0.9182\n",
      "Epoch 37/100\n",
      "20675/20675 [==============================] - 2s 76us/step - loss: 0.0436 - acc: 0.9577 - val_loss: 0.0825 - val_acc: 0.9178\n",
      "Epoch 38/100\n",
      "20675/20675 [==============================] - 2s 100us/step - loss: 0.0435 - acc: 0.9578 - val_loss: 0.0825 - val_acc: 0.9178\n",
      "Epoch 39/100\n",
      "20675/20675 [==============================] - 2s 80us/step - loss: 0.0434 - acc: 0.9579 - val_loss: 0.0825 - val_acc: 0.9176\n",
      "Epoch 40/100\n",
      "20675/20675 [==============================] - 2s 75us/step - loss: 0.0433 - acc: 0.9582 - val_loss: 0.0827 - val_acc: 0.9176\n",
      "Epoch 41/100\n",
      "20675/20675 [==============================] - 2s 75us/step - loss: 0.0429 - acc: 0.9584 - val_loss: 0.0827 - val_acc: 0.9174\n",
      "Epoch 42/100\n",
      "20675/20675 [==============================] - 2s 85us/step - loss: 0.0426 - acc: 0.9584 - val_loss: 0.0828 - val_acc: 0.9174\n",
      "Epoch 43/100\n",
      "20675/20675 [==============================] - 2s 82us/step - loss: 0.0422 - acc: 0.9591 - val_loss: 0.0829 - val_acc: 0.9176\n",
      "Epoch 44/100\n",
      "20675/20675 [==============================] - 2s 78us/step - loss: 0.0419 - acc: 0.9601 - val_loss: 0.0831 - val_acc: 0.9172\n",
      "Epoch 45/100\n",
      "20675/20675 [==============================] - 2s 80us/step - loss: 0.0417 - acc: 0.9608 - val_loss: 0.0833 - val_acc: 0.9170\n",
      "Epoch 46/100\n",
      "20675/20675 [==============================] - 2s 77us/step - loss: 0.0416 - acc: 0.9611 - val_loss: 0.0833 - val_acc: 0.9168\n",
      "Epoch 47/100\n",
      "20675/20675 [==============================] - 2s 76us/step - loss: 0.0415 - acc: 0.9615 - val_loss: 0.0832 - val_acc: 0.9170\n",
      "Epoch 48/100\n",
      "20675/20675 [==============================] - 2s 83us/step - loss: 0.0414 - acc: 0.9615 - val_loss: 0.0832 - val_acc: 0.9170\n",
      "Epoch 49/100\n",
      "20675/20675 [==============================] - 2s 74us/step - loss: 0.0414 - acc: 0.9614 - val_loss: 0.0832 - val_acc: 0.9170\n",
      "Epoch 50/100\n",
      "20675/20675 [==============================] - 2s 75us/step - loss: 0.0413 - acc: 0.9616 - val_loss: 0.0833 - val_acc: 0.9168\n",
      "Epoch 51/100\n",
      "20675/20675 [==============================] - 2s 74us/step - loss: 0.0413 - acc: 0.9617 - val_loss: 0.0832 - val_acc: 0.9170\n",
      "Epoch 52/100\n",
      "20675/20675 [==============================] - 2s 75us/step - loss: 0.0412 - acc: 0.9617 - val_loss: 0.0832 - val_acc: 0.9170\n",
      "Epoch 53/100\n",
      "20675/20675 [==============================] - 2s 75us/step - loss: 0.0412 - acc: 0.9617 - val_loss: 0.0832 - val_acc: 0.9168\n",
      "Epoch 54/100\n",
      "20675/20675 [==============================] - 2s 75us/step - loss: 0.0411 - acc: 0.9616 - val_loss: 0.0832 - val_acc: 0.9168\n",
      "Epoch 55/100\n",
      "20675/20675 [==============================] - 2s 75us/step - loss: 0.0411 - acc: 0.9621 - val_loss: 0.0831 - val_acc: 0.9170\n",
      "Epoch 56/100\n",
      "20675/20675 [==============================] - 2s 75us/step - loss: 0.0411 - acc: 0.9620 - val_loss: 0.0831 - val_acc: 0.9170\n",
      "Epoch 57/100\n"
     ]
    },
    {
     "name": "stdout",
     "output_type": "stream",
     "text": [
      "20675/20675 [==============================] - 1s 67us/step - loss: 0.0410 - acc: 0.9618 - val_loss: 0.0831 - val_acc: 0.9170\n",
      "Epoch 58/100\n",
      "20675/20675 [==============================] - 2s 80us/step - loss: 0.0410 - acc: 0.9620 - val_loss: 0.0832 - val_acc: 0.9168\n",
      "Epoch 59/100\n",
      "20675/20675 [==============================] - 2s 79us/step - loss: 0.0410 - acc: 0.9620 - val_loss: 0.0831 - val_acc: 0.9168\n",
      "Epoch 60/100\n",
      "20675/20675 [==============================] - 2s 74us/step - loss: 0.0409 - acc: 0.9622 - val_loss: 0.0831 - val_acc: 0.9170\n",
      "Epoch 61/100\n",
      "20675/20675 [==============================] - 2s 75us/step - loss: 0.0409 - acc: 0.9620 - val_loss: 0.0831 - val_acc: 0.9170\n",
      "Epoch 62/100\n",
      "20675/20675 [==============================] - 2s 82us/step - loss: 0.0409 - acc: 0.9621 - val_loss: 0.0831 - val_acc: 0.9170\n",
      "Epoch 63/100\n",
      "20675/20675 [==============================] - 2s 78us/step - loss: 0.0409 - acc: 0.9621 - val_loss: 0.0831 - val_acc: 0.9170\n",
      "Epoch 64/100\n",
      "20675/20675 [==============================] - 2s 80us/step - loss: 0.0408 - acc: 0.9622 - val_loss: 0.0831 - val_acc: 0.9170\n",
      "Epoch 65/100\n",
      "20675/20675 [==============================] - 2s 80us/step - loss: 0.0408 - acc: 0.9623 - val_loss: 0.0830 - val_acc: 0.9170\n",
      "Epoch 66/100\n",
      "20675/20675 [==============================] - 2s 76us/step - loss: 0.0408 - acc: 0.9621 - val_loss: 0.0832 - val_acc: 0.9168\n",
      "Epoch 67/100\n",
      "20675/20675 [==============================] - 2s 74us/step - loss: 0.0408 - acc: 0.9621 - val_loss: 0.0831 - val_acc: 0.9170\n",
      "Epoch 68/100\n",
      "20675/20675 [==============================] - 2s 87us/step - loss: 0.0408 - acc: 0.9623 - val_loss: 0.0831 - val_acc: 0.9170\n",
      "Epoch 69/100\n",
      "20675/20675 [==============================] - 2s 83us/step - loss: 0.0408 - acc: 0.9622 - val_loss: 0.0831 - val_acc: 0.9170\n",
      "Epoch 70/100\n",
      "20675/20675 [==============================] - 2s 73us/step - loss: 0.0407 - acc: 0.9624 - val_loss: 0.0830 - val_acc: 0.9170\n",
      "Epoch 71/100\n",
      "20675/20675 [==============================] - 2s 73us/step - loss: 0.0407 - acc: 0.9623 - val_loss: 0.0831 - val_acc: 0.9170\n",
      "Epoch 72/100\n",
      "20675/20675 [==============================] - 1s 72us/step - loss: 0.0407 - acc: 0.9623 - val_loss: 0.0832 - val_acc: 0.9170\n",
      "Epoch 73/100\n",
      "20675/20675 [==============================] - 1s 72us/step - loss: 0.0407 - acc: 0.9625 - val_loss: 0.0831 - val_acc: 0.9170\n",
      "Epoch 74/100\n",
      "20675/20675 [==============================] - 1s 72us/step - loss: 0.0407 - acc: 0.9624 - val_loss: 0.0831 - val_acc: 0.9168\n",
      "Epoch 75/100\n",
      "20675/20675 [==============================] - 1s 72us/step - loss: 0.0406 - acc: 0.9625 - val_loss: 0.0831 - val_acc: 0.9170\n",
      "Epoch 76/100\n",
      "20675/20675 [==============================] - 2s 75us/step - loss: 0.0406 - acc: 0.9624 - val_loss: 0.0831 - val_acc: 0.9170\n",
      "Epoch 77/100\n",
      "20675/20675 [==============================] - 2s 73us/step - loss: 0.0406 - acc: 0.9624 - val_loss: 0.0831 - val_acc: 0.9170\n",
      "Epoch 78/100\n",
      "20675/20675 [==============================] - 2s 85us/step - loss: 0.0406 - acc: 0.9625 - val_loss: 0.0831 - val_acc: 0.9168\n",
      "Epoch 79/100\n",
      "20675/20675 [==============================] - 2s 77us/step - loss: 0.0406 - acc: 0.9624 - val_loss: 0.0831 - val_acc: 0.9168\n",
      "Epoch 80/100\n",
      "20675/20675 [==============================] - 2s 74us/step - loss: 0.0406 - acc: 0.9625 - val_loss: 0.0830 - val_acc: 0.9170\n",
      "Epoch 81/100\n",
      "20675/20675 [==============================] - 2s 73us/step - loss: 0.0405 - acc: 0.9624 - val_loss: 0.0830 - val_acc: 0.9170\n",
      "Epoch 82/100\n",
      "20675/20675 [==============================] - 2s 73us/step - loss: 0.0405 - acc: 0.9625 - val_loss: 0.0830 - val_acc: 0.9170\n",
      "Epoch 83/100\n",
      "20675/20675 [==============================] - 2s 73us/step - loss: 0.0405 - acc: 0.9626 - val_loss: 0.0831 - val_acc: 0.9168\n",
      "Epoch 84/100\n",
      "20675/20675 [==============================] - 2s 74us/step - loss: 0.0405 - acc: 0.9624 - val_loss: 0.0831 - val_acc: 0.9168\n",
      "Epoch 85/100\n",
      "20675/20675 [==============================] - 2s 74us/step - loss: 0.0405 - acc: 0.9625 - val_loss: 0.0831 - val_acc: 0.9168\n",
      "Epoch 86/100\n",
      "20675/20675 [==============================] - 2s 73us/step - loss: 0.0405 - acc: 0.9624 - val_loss: 0.0831 - val_acc: 0.9168\n",
      "Epoch 87/100\n",
      "20675/20675 [==============================] - 1s 72us/step - loss: 0.0405 - acc: 0.9625 - val_loss: 0.0831 - val_acc: 0.9168\n",
      "Epoch 88/100\n",
      "20675/20675 [==============================] - 2s 79us/step - loss: 0.0405 - acc: 0.9626 - val_loss: 0.0831 - val_acc: 0.9168\n",
      "Epoch 89/100\n",
      "20675/20675 [==============================] - 2s 80us/step - loss: 0.0405 - acc: 0.9625 - val_loss: 0.0831 - val_acc: 0.9168\n",
      "Epoch 90/100\n",
      "20675/20675 [==============================] - 2s 73us/step - loss: 0.0405 - acc: 0.9625 - val_loss: 0.0831 - val_acc: 0.9168\n",
      "Epoch 91/100\n",
      "20675/20675 [==============================] - 2s 73us/step - loss: 0.0404 - acc: 0.9626 - val_loss: 0.0830 - val_acc: 0.9168\n",
      "Epoch 92/100\n",
      "20675/20675 [==============================] - 2s 73us/step - loss: 0.0404 - acc: 0.9624 - val_loss: 0.0831 - val_acc: 0.9168\n",
      "Epoch 93/100\n",
      "20675/20675 [==============================] - 1s 72us/step - loss: 0.0404 - acc: 0.9626 - val_loss: 0.0831 - val_acc: 0.9168\n",
      "Epoch 94/100\n",
      "20675/20675 [==============================] - 2s 73us/step - loss: 0.0404 - acc: 0.9625 - val_loss: 0.0831 - val_acc: 0.9168\n",
      "Epoch 95/100\n",
      "20675/20675 [==============================] - 2s 73us/step - loss: 0.0404 - acc: 0.9624 - val_loss: 0.0831 - val_acc: 0.9168\n",
      "Epoch 96/100\n",
      "20675/20675 [==============================] - 2s 75us/step - loss: 0.0404 - acc: 0.9625 - val_loss: 0.0831 - val_acc: 0.9168\n",
      "Epoch 97/100\n",
      "20675/20675 [==============================] - 2s 79us/step - loss: 0.0404 - acc: 0.9628 - val_loss: 0.0830 - val_acc: 0.9168\n",
      "Epoch 98/100\n",
      "20675/20675 [==============================] - 2s 78us/step - loss: 0.0404 - acc: 0.9625 - val_loss: 0.0831 - val_acc: 0.9168\n",
      "Epoch 99/100\n",
      "20675/20675 [==============================] - 2s 90us/step - loss: 0.0404 - acc: 0.9626 - val_loss: 0.0831 - val_acc: 0.9168\n",
      "Epoch 100/100\n",
      "20675/20675 [==============================] - 2s 77us/step - loss: 0.0404 - acc: 0.9626 - val_loss: 0.0831 - val_acc: 0.9168\n"
     ]
    }
   ],
   "source": [
    "history = model.fit(x_train_set_array,target_array,epochs=100,validation_data=(x_test_set_array[11000:16000],y_test_set_array[11000:16000]))"
   ]
  },
  {
   "cell_type": "code",
   "execution_count": 31,
   "metadata": {},
   "outputs": [],
   "source": [
    "results = model.predict(x_test_set_array)"
   ]
  },
  {
   "cell_type": "code",
   "execution_count": 37,
   "metadata": {},
   "outputs": [
    {
     "data": {
      "text/plain": [
       "<function matplotlib.pyplot.show(*args, **kw)>"
      ]
     },
     "execution_count": 37,
     "metadata": {},
     "output_type": "execute_result"
    },
    {
     "data": {
      "image/png": "[encoded data removed]",
      "text/plain": [
       "<Figure size 432x288 with 1 Axes>"
      ]
     },
     "metadata": {
      "needs_background": "light"
     },
     "output_type": "display_data"
    }
   ],
   "source": [
    "plt.scatter(range(41178),results,c='r')\n",
    "plt.scatter(range(41178),y_test_set_array,c='g')\n",
    "plt.show"
   ]
  },
  {
   "cell_type": "code",
   "execution_count": 38,
   "metadata": {},
   "outputs": [
    {
     "data": {
      "image/png": "[encoded data removed]",
      "text/plain": [
       "<Figure size 432x288 with 1 Axes>"
      ]
     },
     "metadata": {
      "needs_background": "light"
     },
     "output_type": "display_data"
    }
   ],
   "source": [
    "plt.plot(history.history['loss'])\n",
    "plt.show()"
   ]
  },
  {
   "cell_type": "markdown",
   "metadata": {},
   "source": [
    "### Training by just 'X' "
   ]
  },
  {
   "cell_type": "code",
   "execution_count": 44,
   "metadata": {},
   "outputs": [],
   "source": [
    "x_train_set_X = data['x']\n",
    "x_test_set_X = test['x']\n",
    "\n",
    "\n",
    "x_train_set_X = np.array(x_train_set_X,dtype= float)\n",
    "x_test_set_X = np.array(x_test_set_X,dtype= float)\n"
   ]
  },
  {
   "cell_type": "code",
   "execution_count": 45,
   "metadata": {},
   "outputs": [],
   "source": [
    "x_train_set_array_X= []      \n",
    "for i in x_train_set:\n",
    "    x_train_set_array_X.append([i])\n",
    "x_train_set_array_X = np.array(x_train_set_array_X, dtype = float)\n",
    "\n",
    "x_test_set_array_X= []      \n",
    "for i in x_test_set:\n",
    "    x_test_set_array_X.append([i])\n",
    "x_test_set_array_X = np.array(x_test_set_array_X, dtype = float)"
   ]
  },
  {
   "cell_type": "code",
   "execution_count": 46,
   "metadata": {},
   "outputs": [],
   "source": [
    "model_X = Sequential()"
   ]
  },
  {
   "cell_type": "code",
   "execution_count": 47,
   "metadata": {},
   "outputs": [],
   "source": [
    "model_X.add(LSTM(1,batch_input_shape= (None,1,3),return_sequences= False))"
   ]
  },
  {
   "cell_type": "code",
   "execution_count": 49,
   "metadata": {},
   "outputs": [],
   "source": [
    "model_X.compile(loss='mean_absolute_error',optimizer='adam',metrics=['accuracy'])"
   ]
  },
  {
   "cell_type": "code",
   "execution_count": 50,
   "metadata": {},
   "outputs": [
    {
     "name": "stdout",
     "output_type": "stream",
     "text": [
      "_________________________________________________________________\n",
      "Layer (type)                 Output Shape              Param #   \n",
      "=================================================================\n",
      "lstm_2 (LSTM)                (None, 1)                 20        \n",
      "=================================================================\n",
      "Total params: 20\n",
      "Trainable params: 20\n",
      "Non-trainable params: 0\n",
      "_________________________________________________________________\n"
     ]
    }
   ],
   "source": [
    "model_X.summary()"
   ]
  },
  {
   "cell_type": "code",
   "execution_count": 65,
   "metadata": {
    "collapsed": true
   },
   "outputs": [
    {
     "name": "stdout",
     "output_type": "stream",
     "text": [
      "Train on 20675 samples, validate on 10000 samples\n",
      "Epoch 1/300\n",
      "20675/20675 [==============================] - 3s 158us/step - loss: 0.0938 - acc: 0.9517 - val_loss: 0.1144 - val_acc: 0.8937\n",
      "Epoch 2/300\n",
      "20675/20675 [==============================] - 2s 89us/step - loss: 0.0474 - acc: 0.9533 - val_loss: 0.1064 - val_acc: 0.8937\n",
      "Epoch 3/300\n",
      "20675/20675 [==============================] - 2s 78us/step - loss: 0.0468 - acc: 0.9533 - val_loss: 0.1063 - val_acc: 0.8937\n",
      "Epoch 4/300\n",
      "20675/20675 [==============================] - 2s 77us/step - loss: 0.0468 - acc: 0.9533 - val_loss: 0.1063 - val_acc: 0.8937\n",
      "Epoch 5/300\n",
      "20675/20675 [==============================] - 2s 78us/step - loss: 0.0468 - acc: 0.9533 - val_loss: 0.1063 - val_acc: 0.8937\n",
      "Epoch 6/300\n",
      "20675/20675 [==============================] - 2s 78us/step - loss: 0.0468 - acc: 0.9533 - val_loss: 0.1063 - val_acc: 0.8937\n",
      "Epoch 7/300\n",
      "20675/20675 [==============================] - 2s 78us/step - loss: 0.0468 - acc: 0.9533 - val_loss: 0.1064 - val_acc: 0.8937\n",
      "Epoch 8/300\n",
      "20675/20675 [==============================] - 2s 78us/step - loss: 0.0468 - acc: 0.9533 - val_loss: 0.1063 - val_acc: 0.8937\n",
      "Epoch 9/300\n",
      "20675/20675 [==============================] - 2s 78us/step - loss: 0.0468 - acc: 0.9533 - val_loss: 0.1063 - val_acc: 0.8937\n",
      "Epoch 10/300\n",
      "20675/20675 [==============================] - 2s 78us/step - loss: 0.0468 - acc: 0.9533 - val_loss: 0.1064 - val_acc: 0.8937\n",
      "Epoch 11/300\n",
      "20675/20675 [==============================] - 2s 90us/step - loss: 0.0468 - acc: 0.9533 - val_loss: 0.1063 - val_acc: 0.8937\n",
      "Epoch 12/300\n",
      "20675/20675 [==============================] - 2s 106us/step - loss: 0.0468 - acc: 0.9533 - val_loss: 0.1063 - val_acc: 0.8937\n",
      "Epoch 13/300\n",
      "20675/20675 [==============================] - 2s 82us/step - loss: 0.0468 - acc: 0.9533 - val_loss: 0.1063 - val_acc: 0.8937\n",
      "Epoch 14/300\n",
      "20675/20675 [==============================] - 2s 81us/step - loss: 0.0468 - acc: 0.9533 - val_loss: 0.1063 - val_acc: 0.8937\n",
      "Epoch 15/300\n",
      "20675/20675 [==============================] - 2s 92us/step - loss: 0.0467 - acc: 0.9533 - val_loss: 0.1063 - val_acc: 0.8937\n",
      "Epoch 16/300\n",
      "20675/20675 [==============================] - 2s 79us/step - loss: 0.0467 - acc: 0.9533 - val_loss: 0.1063 - val_acc: 0.8937\n",
      "Epoch 17/300\n",
      "20675/20675 [==============================] - 2s 81us/step - loss: 0.0467 - acc: 0.9533 - val_loss: 0.1063 - val_acc: 0.8937\n",
      "Epoch 18/300\n",
      "20675/20675 [==============================] - 2s 82us/step - loss: 0.0467 - acc: 0.9533 - val_loss: 0.1063 - val_acc: 0.8937\n",
      "Epoch 19/300\n",
      "20675/20675 [==============================] - 2s 79us/step - loss: 0.0467 - acc: 0.9533 - val_loss: 0.1063 - val_acc: 0.8937\n",
      "Epoch 20/300\n",
      "20675/20675 [==============================] - 2s 81us/step - loss: 0.0467 - acc: 0.9533 - val_loss: 0.1063 - val_acc: 0.8937\n",
      "Epoch 21/300\n",
      "20675/20675 [==============================] - 2s 103us/step - loss: 0.0467 - acc: 0.9533 - val_loss: 0.1063 - val_acc: 0.8937\n",
      "Epoch 22/300\n",
      "20675/20675 [==============================] - 2s 85us/step - loss: 0.0467 - acc: 0.9533 - val_loss: 0.1063 - val_acc: 0.8937\n",
      "Epoch 23/300\n",
      "20675/20675 [==============================] - ETA: 0s - loss: 0.0465 - acc: 0.953 - 2s 81us/step - loss: 0.0467 - acc: 0.9533 - val_loss: 0.1063 - val_acc: 0.8937\n",
      "Epoch 24/300\n",
      "20675/20675 [==============================] - 2s 82us/step - loss: 0.0467 - acc: 0.9533 - val_loss: 0.1063 - val_acc: 0.8937\n",
      "Epoch 25/300\n",
      "20675/20675 [==============================] - 2s 77us/step - loss: 0.0467 - acc: 0.9533 - val_loss: 0.1063 - val_acc: 0.8937\n",
      "Epoch 26/300\n",
      "20675/20675 [==============================] - 2s 79us/step - loss: 0.0467 - acc: 0.9533 - val_loss: 0.1063 - val_acc: 0.8937\n",
      "Epoch 27/300\n",
      "20675/20675 [==============================] - 2s 77us/step - loss: 0.0467 - acc: 0.9533 - val_loss: 0.1063 - val_acc: 0.8937\n",
      "Epoch 28/300\n",
      "20675/20675 [==============================] - 2s 78us/step - loss: 0.0467 - acc: 0.9533 - val_loss: 0.1063 - val_acc: 0.8937\n",
      "Epoch 29/300\n",
      "20675/20675 [==============================] - 2s 77us/step - loss: 0.0467 - acc: 0.9533 - val_loss: 0.1063 - val_acc: 0.8937\n",
      "Epoch 30/300\n",
      "20675/20675 [==============================] - 2s 95us/step - loss: 0.0467 - acc: 0.9533 - val_loss: 0.1063 - val_acc: 0.8937\n",
      "Epoch 31/300\n",
      "20675/20675 [==============================] - 2s 96us/step - loss: 0.0467 - acc: 0.9533 - val_loss: 0.1063 - val_acc: 0.8937\n",
      "Epoch 32/300\n",
      "20675/20675 [==============================] - 2s 79us/step - loss: 0.0467 - acc: 0.9533 - val_loss: 0.1063 - val_acc: 0.8937\n",
      "Epoch 33/300\n",
      "20675/20675 [==============================] - 2s 82us/step - loss: 0.0467 - acc: 0.9533 - val_loss: 0.1063 - val_acc: 0.8937\n",
      "Epoch 34/300\n",
      "20675/20675 [==============================] - 2s 78us/step - loss: 0.0467 - acc: 0.9533 - val_loss: 0.1063 - val_acc: 0.8937\n",
      "Epoch 35/300\n",
      "20675/20675 [==============================] - 2s 78us/step - loss: 0.0467 - acc: 0.9533 - val_loss: 0.1063 - val_acc: 0.8937\n",
      "Epoch 36/300\n",
      "20675/20675 [==============================] - 2s 103us/step - loss: 0.0467 - acc: 0.9533 - val_loss: 0.1063 - val_acc: 0.8937\n",
      "Epoch 37/300\n",
      "20675/20675 [==============================] - 2s 87us/step - loss: 0.0467 - acc: 0.9533 - val_loss: 0.1063 - val_acc: 0.8937\n",
      "Epoch 38/300\n",
      "20675/20675 [==============================] - 1s 68us/step - loss: 0.0467 - acc: 0.9533 - val_loss: 0.1063 - val_acc: 0.8937\n",
      "Epoch 39/300\n",
      "20675/20675 [==============================] - 2s 76us/step - loss: 0.0467 - acc: 0.9533 - val_loss: 0.1063 - val_acc: 0.8937\n",
      "Epoch 40/300\n",
      "20675/20675 [==============================] - 2s 77us/step - loss: 0.0467 - acc: 0.9533 - val_loss: 0.1063 - val_acc: 0.8937\n",
      "Epoch 41/300\n",
      "20675/20675 [==============================] - 1s 70us/step - loss: 0.0467 - acc: 0.9533 - val_loss: 0.1063 - val_acc: 0.8937\n",
      "Epoch 42/300\n",
      "20675/20675 [==============================] - 1s 69us/step - loss: 0.0467 - acc: 0.9533 - val_loss: 0.1063 - val_acc: 0.8937\n",
      "Epoch 43/300\n",
      "20675/20675 [==============================] - 2s 73us/step - loss: 0.0467 - acc: 0.9533 - val_loss: 0.1063 - val_acc: 0.8937\n",
      "Epoch 44/300\n",
      "20675/20675 [==============================] - 1s 72us/step - loss: 0.0467 - acc: 0.9533 - val_loss: 0.1063 - val_acc: 0.8937\n",
      "Epoch 45/300\n",
      "20675/20675 [==============================] - 1s 70us/step - loss: 0.0467 - acc: 0.9533 - val_loss: 0.1063 - val_acc: 0.8937\n",
      "Epoch 46/300\n",
      "20675/20675 [==============================] - 2s 92us/step - loss: 0.0467 - acc: 0.9533 - val_loss: 0.1063 - val_acc: 0.8937\n",
      "Epoch 47/300\n",
      "20675/20675 [==============================] - 2s 76us/step - loss: 0.0467 - acc: 0.9533 - val_loss: 0.1063 - val_acc: 0.8937\n",
      "Epoch 48/300\n",
      "20675/20675 [==============================] - 2s 120us/step - loss: 0.0467 - acc: 0.9533 - val_loss: 0.1063 - val_acc: 0.8937\n",
      "Epoch 49/300\n",
      "20675/20675 [==============================] - 3s 165us/step - loss: 0.0467 - acc: 0.9533 - val_loss: 0.1063 - val_acc: 0.8937\n",
      "Epoch 50/300\n",
      "20675/20675 [==============================] - 3s 123us/step - loss: 0.0467 - acc: 0.9533 - val_loss: 0.1063 - val_acc: 0.8937\n",
      "Epoch 51/300\n",
      "20675/20675 [==============================] - 2s 107us/step - loss: 0.0467 - acc: 0.9533 - val_loss: 0.1063 - val_acc: 0.8937\n",
      "Epoch 52/300\n",
      "20675/20675 [==============================] - 1s 69us/step - loss: 0.0467 - acc: 0.9533 - val_loss: 0.1063 - val_acc: 0.8937\n",
      "Epoch 53/300\n",
      "20675/20675 [==============================] - 2s 75us/step - loss: 0.0467 - acc: 0.9533 - val_loss: 0.1063 - val_acc: 0.8937\n",
      "Epoch 54/300\n",
      "20675/20675 [==============================] - 1s 69us/step - loss: 0.0467 - acc: 0.9533 - val_loss: 0.1063 - val_acc: 0.8937\n",
      "Epoch 55/300\n",
      "20675/20675 [==============================] - 2s 78us/step - loss: 0.0467 - acc: 0.9533 - val_loss: 0.1063 - val_acc: 0.8937\n",
      "Epoch 56/300\n",
      "20675/20675 [==============================] - 2s 87us/step - loss: 0.0467 - acc: 0.9533 - val_loss: 0.1063 - val_acc: 0.8937\n",
      "Epoch 57/300\n",
      "20675/20675 [==============================] - 2s 91us/step - loss: 0.0467 - acc: 0.9533 - val_loss: 0.1063 - val_acc: 0.8937\n",
      "Epoch 58/300\n",
      "20675/20675 [==============================] - 2s 89us/step - loss: 0.0467 - acc: 0.9533 - val_loss: 0.1063 - val_acc: 0.8937\n",
      "Epoch 59/300\n"
     ]
    },
    {
     "name": "stdout",
     "output_type": "stream",
     "text": [
      "20675/20675 [==============================] - 2s 98us/step - loss: 0.0467 - acc: 0.9533 - val_loss: 0.1063 - val_acc: 0.8937\n",
      "Epoch 60/300\n",
      "20675/20675 [==============================] - 2s 79us/step - loss: 0.0467 - acc: 0.9533 - val_loss: 0.1063 - val_acc: 0.8937\n",
      "Epoch 61/300\n",
      "20675/20675 [==============================] - 2s 81us/step - loss: 0.0467 - acc: 0.9533 - val_loss: 0.1063 - val_acc: 0.8937\n",
      "Epoch 62/300\n",
      "20675/20675 [==============================] - 2s 90us/step - loss: 0.0467 - acc: 0.9533 - val_loss: 0.1063 - val_acc: 0.8937\n",
      "Epoch 63/300\n",
      "20675/20675 [==============================] - 2s 88us/step - loss: 0.0467 - acc: 0.9533 - val_loss: 0.1063 - val_acc: 0.8937\n",
      "Epoch 64/300\n",
      "20675/20675 [==============================] - 2s 76us/step - loss: 0.0467 - acc: 0.9533 - val_loss: 0.1063 - val_acc: 0.8937\n",
      "Epoch 65/300\n",
      "20675/20675 [==============================] - 2s 80us/step - loss: 0.0467 - acc: 0.9533 - val_loss: 0.1063 - val_acc: 0.8937\n",
      "Epoch 66/300\n",
      "20675/20675 [==============================] - 2s 94us/step - loss: 0.0467 - acc: 0.9533 - val_loss: 0.1063 - val_acc: 0.8937\n",
      "Epoch 67/300\n",
      "20675/20675 [==============================] - 2s 88us/step - loss: 0.0467 - acc: 0.9533 - val_loss: 0.1063 - val_acc: 0.8937\n",
      "Epoch 68/300\n",
      "20675/20675 [==============================] - 2s 88us/step - loss: 0.0467 - acc: 0.9533 - val_loss: 0.1063 - val_acc: 0.8937\n",
      "Epoch 69/300\n",
      "20675/20675 [==============================] - 2s 89us/step - loss: 0.0467 - acc: 0.9533 - val_loss: 0.1063 - val_acc: 0.8937\n",
      "Epoch 70/300\n",
      "20675/20675 [==============================] - 2s 90us/step - loss: 0.0467 - acc: 0.9533 - val_loss: 0.1063 - val_acc: 0.8937\n",
      "Epoch 71/300\n",
      "20675/20675 [==============================] - 2s 93us/step - loss: 0.0467 - acc: 0.9533 - val_loss: 0.1063 - val_acc: 0.8937\n",
      "Epoch 72/300\n",
      "20675/20675 [==============================] - 2s 102us/step - loss: 0.0467 - acc: 0.9533 - val_loss: 0.1063 - val_acc: 0.8937\n",
      "Epoch 73/300\n",
      "20675/20675 [==============================] - 2s 100us/step - loss: 0.0467 - acc: 0.9533 - val_loss: 0.1063 - val_acc: 0.8937\n",
      "Epoch 74/300\n",
      "20675/20675 [==============================] - 2s 101us/step - loss: 0.0467 - acc: 0.9533 - val_loss: 0.1063 - val_acc: 0.8937\n",
      "Epoch 75/300\n",
      "20675/20675 [==============================] - 2s 93us/step - loss: 0.0467 - acc: 0.9533 - val_loss: 0.1063 - val_acc: 0.8937\n",
      "Epoch 76/300\n",
      "20675/20675 [==============================] - 2s 84us/step - loss: 0.0467 - acc: 0.9533 - val_loss: 0.1063 - val_acc: 0.8937\n",
      "Epoch 77/300\n",
      "20675/20675 [==============================] - 1s 69us/step - loss: 0.0467 - acc: 0.9533 - val_loss: 0.1063 - val_acc: 0.8937\n",
      "Epoch 78/300\n",
      "20675/20675 [==============================] - 1s 71us/step - loss: 0.0467 - acc: 0.9533 - val_loss: 0.1063 - val_acc: 0.8937\n",
      "Epoch 79/300\n",
      "20675/20675 [==============================] - 2s 76us/step - loss: 0.0467 - acc: 0.9533 - val_loss: 0.1063 - val_acc: 0.8937\n",
      "Epoch 80/300\n",
      "20675/20675 [==============================] - 2s 83us/step - loss: 0.0467 - acc: 0.9533 - val_loss: 0.1063 - val_acc: 0.8937\n",
      "Epoch 81/300\n",
      "20675/20675 [==============================] - 2s 74us/step - loss: 0.0467 - acc: 0.9533 - val_loss: 0.1063 - val_acc: 0.8937\n",
      "Epoch 82/300\n",
      "20675/20675 [==============================] - 2s 78us/step - loss: 0.0467 - acc: 0.9533 - val_loss: 0.1063 - val_acc: 0.8937\n",
      "Epoch 83/300\n",
      "20675/20675 [==============================] - 2s 81us/step - loss: 0.0467 - acc: 0.9533 - val_loss: 0.1063 - val_acc: 0.8937\n",
      "Epoch 84/300\n",
      "20675/20675 [==============================] - 2s 87us/step - loss: 0.0467 - acc: 0.9533 - val_loss: 0.1063 - val_acc: 0.8937\n",
      "Epoch 85/300\n",
      "20675/20675 [==============================] - 2s 75us/step - loss: 0.0467 - acc: 0.9533 - val_loss: 0.1063 - val_acc: 0.8937\n",
      "Epoch 86/300\n",
      "20675/20675 [==============================] - 2s 78us/step - loss: 0.0467 - acc: 0.9533 - val_loss: 0.1063 - val_acc: 0.8937\n",
      "Epoch 87/300\n",
      "20675/20675 [==============================] - 2s 83us/step - loss: 0.0467 - acc: 0.9533 - val_loss: 0.1063 - val_acc: 0.8937\n",
      "Epoch 88/300\n",
      "20675/20675 [==============================] - 2s 91us/step - loss: 0.0467 - acc: 0.9533 - val_loss: 0.1063 - val_acc: 0.8937\n",
      "Epoch 89/300\n",
      "20675/20675 [==============================] - 2s 77us/step - loss: 0.0467 - acc: 0.9533 - val_loss: 0.1063 - val_acc: 0.8937\n",
      "Epoch 90/300\n",
      "20675/20675 [==============================] - 2s 79us/step - loss: 0.0467 - acc: 0.9533 - val_loss: 0.1063 - val_acc: 0.8937\n",
      "Epoch 91/300\n",
      "20675/20675 [==============================] - 2s 90us/step - loss: 0.0467 - acc: 0.9533 - val_loss: 0.1063 - val_acc: 0.8937\n",
      "Epoch 92/300\n",
      "20675/20675 [==============================] - 2s 74us/step - loss: 0.0467 - acc: 0.9533 - val_loss: 0.1063 - val_acc: 0.8937\n",
      "Epoch 93/300\n",
      "20675/20675 [==============================] - 2s 107us/step - loss: 0.0467 - acc: 0.9533 - val_loss: 0.1063 - val_acc: 0.8937\n",
      "Epoch 94/300\n",
      "20675/20675 [==============================] - 2s 117us/step - loss: 0.0467 - acc: 0.9533 - val_loss: 0.1063 - val_acc: 0.8937\n",
      "Epoch 95/300\n",
      "20675/20675 [==============================] - 2s 92us/step - loss: 0.0467 - acc: 0.9533 - val_loss: 0.1063 - val_acc: 0.8937\n",
      "Epoch 96/300\n",
      "20675/20675 [==============================] - 2s 103us/step - loss: 0.0467 - acc: 0.9533 - val_loss: 0.1063 - val_acc: 0.8937\n",
      "Epoch 97/300\n",
      "20675/20675 [==============================] - 2s 90us/step - loss: 0.0467 - acc: 0.9533 - val_loss: 0.1063 - val_acc: 0.8937\n",
      "Epoch 98/300\n",
      "20675/20675 [==============================] - 2s 80us/step - loss: 0.0467 - acc: 0.9533 - val_loss: 0.1063 - val_acc: 0.8937\n",
      "Epoch 99/300\n",
      "20675/20675 [==============================] - 2s 83us/step - loss: 0.0467 - acc: 0.9533 - val_loss: 0.1063 - val_acc: 0.8937\n",
      "Epoch 100/300\n",
      "20675/20675 [==============================] - 2s 80us/step - loss: 0.0467 - acc: 0.9533 - val_loss: 0.1063 - val_acc: 0.8937\n",
      "Epoch 101/300\n",
      "20675/20675 [==============================] - 2s 81us/step - loss: 0.0467 - acc: 0.9533 - val_loss: 0.1063 - val_acc: 0.8937\n",
      "Epoch 102/300\n",
      "20675/20675 [==============================] - 2s 110us/step - loss: 0.0467 - acc: 0.9533 - val_loss: 0.1063 - val_acc: 0.8937\n",
      "Epoch 103/300\n",
      "20675/20675 [==============================] - 2s 89us/step - loss: 0.0467 - acc: 0.9533 - val_loss: 0.1063 - val_acc: 0.8937\n",
      "Epoch 104/300\n",
      "20675/20675 [==============================] - 2s 86us/step - loss: 0.0467 - acc: 0.9533 - val_loss: 0.1063 - val_acc: 0.8937\n",
      "Epoch 105/300\n",
      "20675/20675 [==============================] - 2s 82us/step - loss: 0.0467 - acc: 0.9533 - val_loss: 0.1063 - val_acc: 0.8937\n",
      "Epoch 106/300\n",
      "20675/20675 [==============================] - 2s 84us/step - loss: 0.0467 - acc: 0.9533 - val_loss: 0.1063 - val_acc: 0.8937\n",
      "Epoch 107/300\n",
      "20675/20675 [==============================] - 2s 87us/step - loss: 0.0467 - acc: 0.9533 - val_loss: 0.1063 - val_acc: 0.8937\n",
      "Epoch 108/300\n",
      "20675/20675 [==============================] - 2s 84us/step - loss: 0.0467 - acc: 0.9533 - val_loss: 0.1063 - val_acc: 0.8937\n",
      "Epoch 109/300\n",
      "20675/20675 [==============================] - 2s 77us/step - loss: 0.0467 - acc: 0.9533 - val_loss: 0.1063 - val_acc: 0.8937\n",
      "Epoch 110/300\n",
      "20675/20675 [==============================] - 2s 77us/step - loss: 0.0467 - acc: 0.9533 - val_loss: 0.1063 - val_acc: 0.8937\n",
      "Epoch 111/300\n",
      "20675/20675 [==============================] - 2s 92us/step - loss: 0.0467 - acc: 0.9533 - val_loss: 0.1063 - val_acc: 0.8937\n",
      "Epoch 112/300\n",
      "20675/20675 [==============================] - 2s 78us/step - loss: 0.0467 - acc: 0.9533 - val_loss: 0.1063 - val_acc: 0.8937\n",
      "Epoch 113/300\n",
      "20675/20675 [==============================] - 2s 76us/step - loss: 0.0467 - acc: 0.9533 - val_loss: 0.1063 - val_acc: 0.8937\n",
      "Epoch 114/300\n",
      "20675/20675 [==============================] - 2s 80us/step - loss: 0.0467 - acc: 0.9533 - val_loss: 0.1063 - val_acc: 0.8937\n",
      "Epoch 115/300\n",
      "20675/20675 [==============================] - 2s 78us/step - loss: 0.0467 - acc: 0.9533 - val_loss: 0.1063 - val_acc: 0.8937\n",
      "Epoch 116/300\n",
      "20675/20675 [==============================] - 2s 86us/step - loss: 0.0467 - acc: 0.9533 - val_loss: 0.1063 - val_acc: 0.8937\n",
      "Epoch 117/300\n",
      "20675/20675 [==============================] - 2s 87us/step - loss: 0.0467 - acc: 0.9533 - val_loss: 0.1063 - val_acc: 0.8937\n"
     ]
    },
    {
     "name": "stdout",
     "output_type": "stream",
     "text": [
      "Epoch 118/300\n",
      "20675/20675 [==============================] - 2s 80us/step - loss: 0.0467 - acc: 0.9533 - val_loss: 0.1063 - val_acc: 0.8937\n",
      "Epoch 119/300\n",
      "20675/20675 [==============================] - 2s 78us/step - loss: 0.0467 - acc: 0.9533 - val_loss: 0.1063 - val_acc: 0.8937\n",
      "Epoch 120/300\n",
      "20675/20675 [==============================] - 2s 86us/step - loss: 0.0467 - acc: 0.9533 - val_loss: 0.1063 - val_acc: 0.8937\n",
      "Epoch 121/300\n",
      "20675/20675 [==============================] - 2s 90us/step - loss: 0.0467 - acc: 0.9533 - val_loss: 0.1063 - val_acc: 0.8937\n",
      "Epoch 122/300\n",
      "20675/20675 [==============================] - 2s 81us/step - loss: 0.0467 - acc: 0.9533 - val_loss: 0.1063 - val_acc: 0.8937\n",
      "Epoch 123/300\n",
      "20675/20675 [==============================] - 2s 74us/step - loss: 0.0467 - acc: 0.9533 - val_loss: 0.1063 - val_acc: 0.8937\n",
      "Epoch 124/300\n",
      "20675/20675 [==============================] - 2s 73us/step - loss: 0.0467 - acc: 0.9533 - val_loss: 0.1063 - val_acc: 0.8937\n",
      "Epoch 125/300\n",
      "20675/20675 [==============================] - 2s 73us/step - loss: 0.0467 - acc: 0.9533 - val_loss: 0.1063 - val_acc: 0.8937\n",
      "Epoch 126/300\n",
      "20675/20675 [==============================] - 2s 79us/step - loss: 0.0467 - acc: 0.9533 - val_loss: 0.1063 - val_acc: 0.8937\n",
      "Epoch 127/300\n",
      "20675/20675 [==============================] - 2s 87us/step - loss: 0.0467 - acc: 0.9533 - val_loss: 0.1063 - val_acc: 0.8937\n",
      "Epoch 128/300\n",
      "20675/20675 [==============================] - 2s 77us/step - loss: 0.0467 - acc: 0.9533 - val_loss: 0.1063 - val_acc: 0.8937\n",
      "Epoch 129/300\n",
      "20675/20675 [==============================] - 2s 77us/step - loss: 0.0467 - acc: 0.9533 - val_loss: 0.1063 - val_acc: 0.8937\n",
      "Epoch 130/300\n",
      "20675/20675 [==============================] - 2s 105us/step - loss: 0.0467 - acc: 0.9533 - val_loss: 0.1063 - val_acc: 0.8937\n",
      "Epoch 131/300\n",
      "20675/20675 [==============================] - 2s 84us/step - loss: 0.0467 - acc: 0.9533 - val_loss: 0.1063 - val_acc: 0.8937\n",
      "Epoch 132/300\n",
      "18208/20675 [=========================>....] - ETA: 0s - loss: 0.0463 - acc: 0.9537"
     ]
    },
    {
     "ename": "KeyboardInterrupt",
     "evalue": "",
     "output_type": "error",
     "traceback": [
      "\u001b[1;31m---------------------------------------------------------------------------\u001b[0m",
      "\u001b[1;31mKeyboardInterrupt\u001b[0m                         Traceback (most recent call last)",
      "\u001b[1;32m<ipython-input-65-7208640a6441>\u001b[0m in \u001b[0;36m<module>\u001b[1;34m\u001b[0m\n\u001b[1;32m----> 1\u001b[1;33m \u001b[0mhistory\u001b[0m \u001b[1;33m=\u001b[0m \u001b[0mmodel_X\u001b[0m\u001b[1;33m.\u001b[0m\u001b[0mfit\u001b[0m\u001b[1;33m(\u001b[0m\u001b[0mx_train_set_array_X\u001b[0m\u001b[1;33m,\u001b[0m\u001b[0mtarget_array\u001b[0m\u001b[1;33m,\u001b[0m\u001b[0mepochs\u001b[0m\u001b[1;33m=\u001b[0m\u001b[1;36m300\u001b[0m\u001b[1;33m,\u001b[0m\u001b[0mvalidation_data\u001b[0m\u001b[1;33m=\u001b[0m\u001b[1;33m(\u001b[0m\u001b[0mx_test_set_array_X\u001b[0m\u001b[1;33m[\u001b[0m\u001b[1;36m10000\u001b[0m\u001b[1;33m:\u001b[0m\u001b[1;36m20000\u001b[0m\u001b[1;33m]\u001b[0m\u001b[1;33m,\u001b[0m\u001b[0my_test_set_array\u001b[0m\u001b[1;33m[\u001b[0m\u001b[1;36m10000\u001b[0m\u001b[1;33m:\u001b[0m\u001b[1;36m20000\u001b[0m\u001b[1;33m]\u001b[0m\u001b[1;33m)\u001b[0m\u001b[1;33m)\u001b[0m\u001b[1;33m\u001b[0m\u001b[1;33m\u001b[0m\u001b[0m\n\u001b[0m",
      "\u001b[1;32m~\\Anaconda3\\envs\\tensorflow_env\\lib\\site-packages\\keras\\engine\\training.py\u001b[0m in \u001b[0;36mfit\u001b[1;34m(self, x, y, batch_size, epochs, verbose, callbacks, validation_split, validation_data, shuffle, class_weight, sample_weight, initial_epoch, steps_per_epoch, validation_steps, **kwargs)\u001b[0m\n\u001b[0;32m   1037\u001b[0m                                         \u001b[0minitial_epoch\u001b[0m\u001b[1;33m=\u001b[0m\u001b[0minitial_epoch\u001b[0m\u001b[1;33m,\u001b[0m\u001b[1;33m\u001b[0m\u001b[1;33m\u001b[0m\u001b[0m\n\u001b[0;32m   1038\u001b[0m                                         \u001b[0msteps_per_epoch\u001b[0m\u001b[1;33m=\u001b[0m\u001b[0msteps_per_epoch\u001b[0m\u001b[1;33m,\u001b[0m\u001b[1;33m\u001b[0m\u001b[1;33m\u001b[0m\u001b[0m\n\u001b[1;32m-> 1039\u001b[1;33m                                         validation_steps=validation_steps)\n\u001b[0m\u001b[0;32m   1040\u001b[0m \u001b[1;33m\u001b[0m\u001b[0m\n\u001b[0;32m   1041\u001b[0m     def evaluate(self, x=None, y=None,\n",
      "\u001b[1;32m~\\Anaconda3\\envs\\tensorflow_env\\lib\\site-packages\\keras\\engine\\training_arrays.py\u001b[0m in \u001b[0;36mfit_loop\u001b[1;34m(model, f, ins, out_labels, batch_size, epochs, verbose, callbacks, val_f, val_ins, shuffle, callback_metrics, initial_epoch, steps_per_epoch, validation_steps)\u001b[0m\n\u001b[0;32m    197\u001b[0m                     \u001b[0mins_batch\u001b[0m\u001b[1;33m[\u001b[0m\u001b[0mi\u001b[0m\u001b[1;33m]\u001b[0m \u001b[1;33m=\u001b[0m \u001b[0mins_batch\u001b[0m\u001b[1;33m[\u001b[0m\u001b[0mi\u001b[0m\u001b[1;33m]\u001b[0m\u001b[1;33m.\u001b[0m\u001b[0mtoarray\u001b[0m\u001b[1;33m(\u001b[0m\u001b[1;33m)\u001b[0m\u001b[1;33m\u001b[0m\u001b[1;33m\u001b[0m\u001b[0m\n\u001b[0;32m    198\u001b[0m \u001b[1;33m\u001b[0m\u001b[0m\n\u001b[1;32m--> 199\u001b[1;33m                 \u001b[0mouts\u001b[0m \u001b[1;33m=\u001b[0m \u001b[0mf\u001b[0m\u001b[1;33m(\u001b[0m\u001b[0mins_batch\u001b[0m\u001b[1;33m)\u001b[0m\u001b[1;33m\u001b[0m\u001b[1;33m\u001b[0m\u001b[0m\n\u001b[0m\u001b[0;32m    200\u001b[0m                 \u001b[0mouts\u001b[0m \u001b[1;33m=\u001b[0m \u001b[0mto_list\u001b[0m\u001b[1;33m(\u001b[0m\u001b[0mouts\u001b[0m\u001b[1;33m)\u001b[0m\u001b[1;33m\u001b[0m\u001b[1;33m\u001b[0m\u001b[0m\n\u001b[0;32m    201\u001b[0m                 \u001b[1;32mfor\u001b[0m \u001b[0ml\u001b[0m\u001b[1;33m,\u001b[0m \u001b[0mo\u001b[0m \u001b[1;32min\u001b[0m \u001b[0mzip\u001b[0m\u001b[1;33m(\u001b[0m\u001b[0mout_labels\u001b[0m\u001b[1;33m,\u001b[0m \u001b[0mouts\u001b[0m\u001b[1;33m)\u001b[0m\u001b[1;33m:\u001b[0m\u001b[1;33m\u001b[0m\u001b[1;33m\u001b[0m\u001b[0m\n",
      "\u001b[1;32m~\\Anaconda3\\envs\\tensorflow_env\\lib\\site-packages\\keras\\backend\\tensorflow_backend.py\u001b[0m in \u001b[0;36m__call__\u001b[1;34m(self, inputs)\u001b[0m\n\u001b[0;32m   2713\u001b[0m                 \u001b[1;32mreturn\u001b[0m \u001b[0mself\u001b[0m\u001b[1;33m.\u001b[0m\u001b[0m_legacy_call\u001b[0m\u001b[1;33m(\u001b[0m\u001b[0minputs\u001b[0m\u001b[1;33m)\u001b[0m\u001b[1;33m\u001b[0m\u001b[1;33m\u001b[0m\u001b[0m\n\u001b[0;32m   2714\u001b[0m \u001b[1;33m\u001b[0m\u001b[0m\n\u001b[1;32m-> 2715\u001b[1;33m             \u001b[1;32mreturn\u001b[0m \u001b[0mself\u001b[0m\u001b[1;33m.\u001b[0m\u001b[0m_call\u001b[0m\u001b[1;33m(\u001b[0m\u001b[0minputs\u001b[0m\u001b[1;33m)\u001b[0m\u001b[1;33m\u001b[0m\u001b[1;33m\u001b[0m\u001b[0m\n\u001b[0m\u001b[0;32m   2716\u001b[0m         \u001b[1;32melse\u001b[0m\u001b[1;33m:\u001b[0m\u001b[1;33m\u001b[0m\u001b[1;33m\u001b[0m\u001b[0m\n\u001b[0;32m   2717\u001b[0m             \u001b[1;32mif\u001b[0m \u001b[0mpy_any\u001b[0m\u001b[1;33m(\u001b[0m\u001b[0mis_tensor\u001b[0m\u001b[1;33m(\u001b[0m\u001b[0mx\u001b[0m\u001b[1;33m)\u001b[0m \u001b[1;32mfor\u001b[0m \u001b[0mx\u001b[0m \u001b[1;32min\u001b[0m \u001b[0minputs\u001b[0m\u001b[1;33m)\u001b[0m\u001b[1;33m:\u001b[0m\u001b[1;33m\u001b[0m\u001b[1;33m\u001b[0m\u001b[0m\n",
      "\u001b[1;32m~\\Anaconda3\\envs\\tensorflow_env\\lib\\site-packages\\keras\\backend\\tensorflow_backend.py\u001b[0m in \u001b[0;36m_call\u001b[1;34m(self, inputs)\u001b[0m\n\u001b[0;32m   2673\u001b[0m             \u001b[0mfetched\u001b[0m \u001b[1;33m=\u001b[0m \u001b[0mself\u001b[0m\u001b[1;33m.\u001b[0m\u001b[0m_callable_fn\u001b[0m\u001b[1;33m(\u001b[0m\u001b[1;33m*\u001b[0m\u001b[0marray_vals\u001b[0m\u001b[1;33m,\u001b[0m \u001b[0mrun_metadata\u001b[0m\u001b[1;33m=\u001b[0m\u001b[0mself\u001b[0m\u001b[1;33m.\u001b[0m\u001b[0mrun_metadata\u001b[0m\u001b[1;33m)\u001b[0m\u001b[1;33m\u001b[0m\u001b[1;33m\u001b[0m\u001b[0m\n\u001b[0;32m   2674\u001b[0m         \u001b[1;32melse\u001b[0m\u001b[1;33m:\u001b[0m\u001b[1;33m\u001b[0m\u001b[1;33m\u001b[0m\u001b[0m\n\u001b[1;32m-> 2675\u001b[1;33m             \u001b[0mfetched\u001b[0m \u001b[1;33m=\u001b[0m \u001b[0mself\u001b[0m\u001b[1;33m.\u001b[0m\u001b[0m_callable_fn\u001b[0m\u001b[1;33m(\u001b[0m\u001b[1;33m*\u001b[0m\u001b[0marray_vals\u001b[0m\u001b[1;33m)\u001b[0m\u001b[1;33m\u001b[0m\u001b[1;33m\u001b[0m\u001b[0m\n\u001b[0m\u001b[0;32m   2676\u001b[0m         \u001b[1;32mreturn\u001b[0m \u001b[0mfetched\u001b[0m\u001b[1;33m[\u001b[0m\u001b[1;33m:\u001b[0m\u001b[0mlen\u001b[0m\u001b[1;33m(\u001b[0m\u001b[0mself\u001b[0m\u001b[1;33m.\u001b[0m\u001b[0moutputs\u001b[0m\u001b[1;33m)\u001b[0m\u001b[1;33m]\u001b[0m\u001b[1;33m\u001b[0m\u001b[1;33m\u001b[0m\u001b[0m\n\u001b[0;32m   2677\u001b[0m \u001b[1;33m\u001b[0m\u001b[0m\n",
      "\u001b[1;32m~\\Anaconda3\\envs\\tensorflow_env\\lib\\site-packages\\tensorflow\\python\\client\\session.py\u001b[0m in \u001b[0;36m__call__\u001b[1;34m(self, *args, **kwargs)\u001b[0m\n\u001b[0;32m   1437\u001b[0m           ret = tf_session.TF_SessionRunCallable(\n\u001b[0;32m   1438\u001b[0m               \u001b[0mself\u001b[0m\u001b[1;33m.\u001b[0m\u001b[0m_session\u001b[0m\u001b[1;33m.\u001b[0m\u001b[0m_session\u001b[0m\u001b[1;33m,\u001b[0m \u001b[0mself\u001b[0m\u001b[1;33m.\u001b[0m\u001b[0m_handle\u001b[0m\u001b[1;33m,\u001b[0m \u001b[0margs\u001b[0m\u001b[1;33m,\u001b[0m \u001b[0mstatus\u001b[0m\u001b[1;33m,\u001b[0m\u001b[1;33m\u001b[0m\u001b[1;33m\u001b[0m\u001b[0m\n\u001b[1;32m-> 1439\u001b[1;33m               run_metadata_ptr)\n\u001b[0m\u001b[0;32m   1440\u001b[0m         \u001b[1;32mif\u001b[0m \u001b[0mrun_metadata\u001b[0m\u001b[1;33m:\u001b[0m\u001b[1;33m\u001b[0m\u001b[1;33m\u001b[0m\u001b[0m\n\u001b[0;32m   1441\u001b[0m           \u001b[0mproto_data\u001b[0m \u001b[1;33m=\u001b[0m \u001b[0mtf_session\u001b[0m\u001b[1;33m.\u001b[0m\u001b[0mTF_GetBuffer\u001b[0m\u001b[1;33m(\u001b[0m\u001b[0mrun_metadata_ptr\u001b[0m\u001b[1;33m)\u001b[0m\u001b[1;33m\u001b[0m\u001b[1;33m\u001b[0m\u001b[0m\n",
      "\u001b[1;31mKeyboardInterrupt\u001b[0m: "
     ]
    }
   ],
   "source": [
    "history = model_X.fit(x_train_set_array_X,target_array,epochs=100,validation_data=(x_test_set_array_X[10000:20000],y_test_set_array[10000:20000]))"
   ]
  },
  {
   "cell_type": "code",
   "execution_count": 66,
   "metadata": {},
   "outputs": [],
   "source": [
    "results_X = model_X.predict(x_test_set_array_X)"
   ]
  },
  {
   "cell_type": "code",
   "execution_count": 67,
   "metadata": {},
   "outputs": [
    {
     "data": {
      "text/plain": [
       "<function matplotlib.pyplot.show(*args, **kw)>"
      ]
     },
     "execution_count": 67,
     "metadata": {},
     "output_type": "execute_result"
    },
    {
     "data": {
      "image/png": "[encoded data removed]",
      "text/plain": [
       "<Figure size 432x288 with 1 Axes>"
      ]
     },
     "metadata": {
      "needs_background": "light"
     },
     "output_type": "display_data"
    }
   ],
   "source": [
    "plt.scatter(range(41178),results,c='r')\n",
    "plt.scatter(range(41178),y_test_set_array,c='g')\n",
    "plt.show"
   ]
  },
  {
   "cell_type": "code",
   "execution_count": 68,
   "metadata": {},
   "outputs": [
    {
     "data": {
      "image/png": "[encoded data removed]",
      "text/plain": [
       "<Figure size 432x288 with 1 Axes>"
      ]
     },
     "metadata": {
      "needs_background": "light"
     },
     "output_type": "display_data"
    }
   ],
   "source": [
    "plt.plot(history.history['loss'])\n",
    "plt.show()"
   ]
  },
  {
   "cell_type": "code",
   "execution_count": 63,
   "metadata": {
    "scrolled": true
   },
   "outputs": [
    {
     "data": {
      "image/png": "[encoded data removed]",
      "text/plain": [
       "<Figure size 432x288 with 1 Axes>"
      ]
     },
     "metadata": {
      "needs_background": "light"
     },
     "output_type": "display_data"
    }
   ],
   "source": [
    "plt.plot(history.history['val_acc'])\n",
    "plt.show()"
   ]
  },
  {
   "cell_type": "code",
   "execution_count": null,
   "metadata": {},
   "outputs": [],
   "source": []
  }
 ],
 "metadata": {
  "kernelspec": {
   "display_name": "Python 3",
   "language": "python",
   "name": "python3"
  },
  "language_info": {
   "codemirror_mode": {
    "name": "ipython",
    "version": 3
   },
   "file_extension": ".py",
   "mimetype": "text/x-python",
   "name": "python",
   "nbconvert_exporter": "python",
   "pygments_lexer": "ipython3",
   "version": "3.7.3"
  }
 },
 "nbformat": 4,
 "nbformat_minor": 2
}
