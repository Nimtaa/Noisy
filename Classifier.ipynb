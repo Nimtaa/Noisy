{
 "cells": [
  {
   "cell_type": "code",
   "execution_count": 1,
   "metadata": {},
   "outputs": [],
   "source": [
    "import matplotlib.pyplot as plt\n",
    "from plotly import tools\n",
    "import pandas\n",
    "from matplotlib.pyplot import figure\n",
    "import numpy as np\n",
    "import plotly as py\n",
    "import plotly.graph_objs as go\n",
    "from plotly import tools\n",
    "from datetime import datetime\n",
    "from datetime import timedelta"
   ]
  },
  {
   "cell_type": "markdown",
   "metadata": {},
   "source": [
    "# Training Phase"
   ]
  },
  {
   "cell_type": "code",
   "execution_count": 9,
   "metadata": {},
   "outputs": [
    {
     "data": {
      "text/plain": [
       "-0.2001309613255451"
      ]
     },
     "execution_count": 9,
     "metadata": {},
     "output_type": "execute_result"
    }
   ],
   "source": [
    "training_set = pandas.read_csv('./data/Learning/Training_set.csv')\n",
    "accLinear17 = pandas.read_csv('./data/17/aceleracaoLinear_terra.csv')\n",
    "acc17 = pandas.read_csv('./data/17/acelerometro_terra.csv')\n",
    "groundTruth17 = pandas.read_csv('./data/17/groundTruthEdited.csv')\n",
    "\n",
    "\n",
    "\n",
    "\n",
    "# groundTruth17[0:16]\n",
    "# accLinear17[7680:7685]"
   ]
  },
  {
   "cell_type": "code",
   "execution_count": 28,
   "metadata": {},
   "outputs": [],
   "source": [
    "def SmoothData(data):\n",
    "    smooth = [0 for j in range (len(data))]\n",
    "    for i in range(0, len(data)):\n",
    "        smooth[i] = np.mean([data[i],data[i-1],data[i+1]],dtype=np.float64)\n",
    "    return smooth\n",
    "\n",
    "\n",
    "def RenderAcc(start_index,end_index,axis):\n",
    "    if(axis == 'x'):\n",
    "        return go.Scatter(\n",
    "            x = accLinear17_uptime[start_index:end_index],\n",
    "            y = accLinear17_x[start_index:end_index],\n",
    "            mode = 'lines',\n",
    "            name = 'A_X'\n",
    "        )\n",
    "    elif(axis =='y'):\n",
    "        return go.Scatter(\n",
    "            x = accLinear17_uptime[start_index:end_index],\n",
    "            y = accLinear17_y[start_index:end_index],\n",
    "            mode = 'lines',\n",
    "            name = 'A_Y'\n",
    "        )\n",
    "    elif(axis=='z'):\n",
    "        return go.Scatter(\n",
    "            x = accLinear17_uptime[start_index:end_index],\n",
    "            y = accLinear17_z[start_index:end_index],\n",
    "            mode = 'lines',\n",
    "            name = 'A_Z'\n",
    "        )  "
   ]
  },
  {
   "cell_type": "code",
   "execution_count": 31,
   "metadata": {},
   "outputs": [
    {
     "data": {
      "text/plain": [
       "3"
      ]
     },
     "execution_count": 31,
     "metadata": {},
     "output_type": "execute_result"
    }
   ],
   "source": []
  },
  {
   "cell_type": "code",
   "execution_count": 25,
   "metadata": {},
   "outputs": [
    {
     "ename": "KeyError",
     "evalue": "0",
     "output_type": "error",
     "traceback": [
      "\u001b[1;31m---------------------------------------------------------------------------\u001b[0m",
      "\u001b[1;31mKeyError\u001b[0m                                  Traceback (most recent call last)",
      "\u001b[1;32m<ipython-input-25-72f53d327863>\u001b[0m in \u001b[0;36m<module>\u001b[1;34m\u001b[0m\n\u001b[0;32m     92\u001b[0m accelerationX= go.Scatter(\n\u001b[0;32m     93\u001b[0m     \u001b[0mx\u001b[0m \u001b[1;33m=\u001b[0m \u001b[0macc17_uptime\u001b[0m\u001b[1;33m[\u001b[0m\u001b[1;36m15476\u001b[0m\u001b[1;33m:\u001b[0m\u001b[1;36m15730\u001b[0m\u001b[1;33m]\u001b[0m\u001b[1;33m,\u001b[0m\u001b[1;33m\u001b[0m\u001b[1;33m\u001b[0m\u001b[0m\n\u001b[1;32m---> 94\u001b[1;33m     \u001b[0my\u001b[0m \u001b[1;33m=\u001b[0m \u001b[0mSmoothData\u001b[0m\u001b[1;33m(\u001b[0m\u001b[0macc17_x\u001b[0m\u001b[1;33m[\u001b[0m\u001b[1;36m15476\u001b[0m\u001b[1;33m:\u001b[0m\u001b[1;36m15730\u001b[0m\u001b[1;33m]\u001b[0m\u001b[1;33m)\u001b[0m\u001b[1;33m,\u001b[0m\u001b[1;33m\u001b[0m\u001b[1;33m\u001b[0m\u001b[0m\n\u001b[0m\u001b[0;32m     95\u001b[0m     \u001b[0mmode\u001b[0m \u001b[1;33m=\u001b[0m \u001b[1;34m'lines'\u001b[0m\u001b[1;33m,\u001b[0m\u001b[1;33m\u001b[0m\u001b[1;33m\u001b[0m\u001b[0m\n\u001b[0;32m     96\u001b[0m     \u001b[0mname\u001b[0m\u001b[1;33m=\u001b[0m\u001b[1;34m'A_X'\u001b[0m\u001b[1;33m\u001b[0m\u001b[1;33m\u001b[0m\u001b[0m\n",
      "\u001b[1;32m<ipython-input-24-b1cff7f9d7a2>\u001b[0m in \u001b[0;36mSmoothData\u001b[1;34m(data)\u001b[0m\n\u001b[0;32m      2\u001b[0m     \u001b[0msmooth\u001b[0m \u001b[1;33m=\u001b[0m \u001b[1;33m[\u001b[0m\u001b[1;36m0\u001b[0m \u001b[1;32mfor\u001b[0m \u001b[0mi\u001b[0m \u001b[1;32min\u001b[0m \u001b[0mrange\u001b[0m \u001b[1;33m(\u001b[0m\u001b[0mlen\u001b[0m\u001b[1;33m(\u001b[0m\u001b[0mdata\u001b[0m\u001b[1;33m)\u001b[0m\u001b[1;33m)\u001b[0m\u001b[1;33m]\u001b[0m\u001b[1;33m\u001b[0m\u001b[1;33m\u001b[0m\u001b[0m\n\u001b[0;32m      3\u001b[0m     \u001b[1;32mfor\u001b[0m \u001b[0mi\u001b[0m \u001b[1;32min\u001b[0m \u001b[0mrange\u001b[0m\u001b[1;33m(\u001b[0m\u001b[1;36m0\u001b[0m\u001b[1;33m,\u001b[0m \u001b[0mlen\u001b[0m\u001b[1;33m(\u001b[0m\u001b[0mdata\u001b[0m\u001b[1;33m)\u001b[0m\u001b[1;33m)\u001b[0m\u001b[1;33m:\u001b[0m\u001b[1;33m\u001b[0m\u001b[1;33m\u001b[0m\u001b[0m\n\u001b[1;32m----> 4\u001b[1;33m         \u001b[0msmooth\u001b[0m\u001b[1;33m[\u001b[0m\u001b[0mi\u001b[0m\u001b[1;33m]\u001b[0m \u001b[1;33m=\u001b[0m \u001b[0mnp\u001b[0m\u001b[1;33m.\u001b[0m\u001b[0mmean\u001b[0m\u001b[1;33m(\u001b[0m\u001b[1;33m[\u001b[0m\u001b[0mdata\u001b[0m\u001b[1;33m[\u001b[0m\u001b[0mi\u001b[0m\u001b[1;33m]\u001b[0m\u001b[1;33m,\u001b[0m\u001b[0mdata\u001b[0m\u001b[1;33m[\u001b[0m\u001b[0mi\u001b[0m\u001b[1;33m-\u001b[0m\u001b[1;36m1\u001b[0m\u001b[1;33m]\u001b[0m\u001b[1;33m,\u001b[0m\u001b[0mdata\u001b[0m\u001b[1;33m[\u001b[0m\u001b[0mi\u001b[0m\u001b[1;33m+\u001b[0m\u001b[1;36m1\u001b[0m\u001b[1;33m]\u001b[0m\u001b[1;33m]\u001b[0m\u001b[1;33m,\u001b[0m\u001b[0mdtype\u001b[0m\u001b[1;33m=\u001b[0m\u001b[0mnp\u001b[0m\u001b[1;33m.\u001b[0m\u001b[0mfloat64\u001b[0m\u001b[1;33m)\u001b[0m\u001b[1;33m\u001b[0m\u001b[1;33m\u001b[0m\u001b[0m\n\u001b[0m\u001b[0;32m      5\u001b[0m     \u001b[1;32mreturn\u001b[0m \u001b[0msmooth\u001b[0m\u001b[1;33m\u001b[0m\u001b[1;33m\u001b[0m\u001b[0m\n\u001b[0;32m      6\u001b[0m \u001b[1;33m\u001b[0m\u001b[0m\n",
      "\u001b[1;32m~\\Anaconda3\\lib\\site-packages\\pandas\\core\\series.py\u001b[0m in \u001b[0;36m__getitem__\u001b[1;34m(self, key)\u001b[0m\n\u001b[0;32m    866\u001b[0m         \u001b[0mkey\u001b[0m \u001b[1;33m=\u001b[0m \u001b[0mcom\u001b[0m\u001b[1;33m.\u001b[0m\u001b[0mapply_if_callable\u001b[0m\u001b[1;33m(\u001b[0m\u001b[0mkey\u001b[0m\u001b[1;33m,\u001b[0m \u001b[0mself\u001b[0m\u001b[1;33m)\u001b[0m\u001b[1;33m\u001b[0m\u001b[1;33m\u001b[0m\u001b[0m\n\u001b[0;32m    867\u001b[0m         \u001b[1;32mtry\u001b[0m\u001b[1;33m:\u001b[0m\u001b[1;33m\u001b[0m\u001b[1;33m\u001b[0m\u001b[0m\n\u001b[1;32m--> 868\u001b[1;33m             \u001b[0mresult\u001b[0m \u001b[1;33m=\u001b[0m \u001b[0mself\u001b[0m\u001b[1;33m.\u001b[0m\u001b[0mindex\u001b[0m\u001b[1;33m.\u001b[0m\u001b[0mget_value\u001b[0m\u001b[1;33m(\u001b[0m\u001b[0mself\u001b[0m\u001b[1;33m,\u001b[0m \u001b[0mkey\u001b[0m\u001b[1;33m)\u001b[0m\u001b[1;33m\u001b[0m\u001b[1;33m\u001b[0m\u001b[0m\n\u001b[0m\u001b[0;32m    869\u001b[0m \u001b[1;33m\u001b[0m\u001b[0m\n\u001b[0;32m    870\u001b[0m             \u001b[1;32mif\u001b[0m \u001b[1;32mnot\u001b[0m \u001b[0mis_scalar\u001b[0m\u001b[1;33m(\u001b[0m\u001b[0mresult\u001b[0m\u001b[1;33m)\u001b[0m\u001b[1;33m:\u001b[0m\u001b[1;33m\u001b[0m\u001b[1;33m\u001b[0m\u001b[0m\n",
      "\u001b[1;32m~\\Anaconda3\\lib\\site-packages\\pandas\\core\\indexes\\base.py\u001b[0m in \u001b[0;36mget_value\u001b[1;34m(self, series, key)\u001b[0m\n\u001b[0;32m   4373\u001b[0m         \u001b[1;32mtry\u001b[0m\u001b[1;33m:\u001b[0m\u001b[1;33m\u001b[0m\u001b[1;33m\u001b[0m\u001b[0m\n\u001b[0;32m   4374\u001b[0m             return self._engine.get_value(s, k,\n\u001b[1;32m-> 4375\u001b[1;33m                                           tz=getattr(series.dtype, 'tz', None))\n\u001b[0m\u001b[0;32m   4376\u001b[0m         \u001b[1;32mexcept\u001b[0m \u001b[0mKeyError\u001b[0m \u001b[1;32mas\u001b[0m \u001b[0me1\u001b[0m\u001b[1;33m:\u001b[0m\u001b[1;33m\u001b[0m\u001b[1;33m\u001b[0m\u001b[0m\n\u001b[0;32m   4377\u001b[0m             \u001b[1;32mif\u001b[0m \u001b[0mlen\u001b[0m\u001b[1;33m(\u001b[0m\u001b[0mself\u001b[0m\u001b[1;33m)\u001b[0m \u001b[1;33m>\u001b[0m \u001b[1;36m0\u001b[0m \u001b[1;32mand\u001b[0m \u001b[1;33m(\u001b[0m\u001b[0mself\u001b[0m\u001b[1;33m.\u001b[0m\u001b[0mholds_integer\u001b[0m\u001b[1;33m(\u001b[0m\u001b[1;33m)\u001b[0m \u001b[1;32mor\u001b[0m \u001b[0mself\u001b[0m\u001b[1;33m.\u001b[0m\u001b[0mis_boolean\u001b[0m\u001b[1;33m(\u001b[0m\u001b[1;33m)\u001b[0m\u001b[1;33m)\u001b[0m\u001b[1;33m:\u001b[0m\u001b[1;33m\u001b[0m\u001b[1;33m\u001b[0m\u001b[0m\n",
      "\u001b[1;32mpandas/_libs/index.pyx\u001b[0m in \u001b[0;36mpandas._libs.index.IndexEngine.get_value\u001b[1;34m()\u001b[0m\n",
      "\u001b[1;32mpandas/_libs/index.pyx\u001b[0m in \u001b[0;36mpandas._libs.index.IndexEngine.get_value\u001b[1;34m()\u001b[0m\n",
      "\u001b[1;32mpandas/_libs/index.pyx\u001b[0m in \u001b[0;36mpandas._libs.index.IndexEngine.get_loc\u001b[1;34m()\u001b[0m\n",
      "\u001b[1;32mpandas/_libs/hashtable_class_helper.pxi\u001b[0m in \u001b[0;36mpandas._libs.hashtable.Int64HashTable.get_item\u001b[1;34m()\u001b[0m\n",
      "\u001b[1;32mpandas/_libs/hashtable_class_helper.pxi\u001b[0m in \u001b[0;36mpandas._libs.hashtable.Int64HashTable.get_item\u001b[1;34m()\u001b[0m\n",
      "\u001b[1;31mKeyError\u001b[0m: 0"
     ]
    }
   ],
   "source": [
    "accLinear17_x = accLinear17['x']\n",
    "accLinear17_y = accLinear17['y']\n",
    "accLinear17_z = accLinear17['z']\n",
    "accLinear17_uptime = accLinear17['uptimeNanos']\n",
    "accLinear17_timestamp = accLinear17['timestamp']\n",
    "\n",
    "acc17_x = acc17['x']\n",
    "acc17_y = acc17['y']\n",
    "acc17_z = acc17['z']\n",
    "acc17_uptime = acc17['uptimeNanos']\n",
    "acc17_timestamp = acc17['timestamp']\n",
    "\n",
    "\n",
    "brake_ax =  go.Scatter(\n",
    "    x = accLinear17_uptime[7400:8200],\n",
    "    y = accLinear17_x[7400:8200],\n",
    "    mode = 'lines',\n",
    "    name='A_X'\n",
    ")\n",
    "brake_ay =  go.Scatter(\n",
    "    x = accLinear17_uptime[7400:8200],\n",
    "    y = accLinear17_y[7400:8200],\n",
    "    mode = 'lines',\n",
    "    name='A_Y'\n",
    ")\n",
    "brake_az =  go.Scatter(\n",
    "    x = accLinear17_uptime[7400:8200],\n",
    "    y = accLinear17_z[7400:8200],\n",
    "    mode = 'lines',\n",
    "    name='A_Z'\n",
    ")\n",
    "\n",
    "acc_ax1 = go.Scatter(\n",
    "    x = accLinear17_uptime[16495:16800],\n",
    "    y = accLinear17_x[16495:16800],\n",
    "    mode = 'lines',\n",
    "    name='A_X'\n",
    ")\n",
    "acc_ay1 = go.Scatter(\n",
    "    x = accLinear17_uptime[16495:16800],\n",
    "    y = accLinear17_y[16495:16800],\n",
    "    mode = 'lines',\n",
    "    name='A_Y'\n",
    ")\n",
    "acc_az1 = go.Scatter(\n",
    "    x = accLinear17_uptime[16495:16800],\n",
    "    y = accLinear17_z[16495:16800],\n",
    "    mode = 'lines',\n",
    "    name='A_Z'\n",
    ")\n",
    "\n",
    "no_event_x =  go.Scatter(\n",
    "    x = accLinear17_uptime[2000:4000],\n",
    "    y = accLinear17_x[2000:4000],\n",
    "    mode = 'lines',\n",
    "    name='A_X'\n",
    ")\n",
    "no_event_y =  go.Scatter(\n",
    "    x = accLinear17_uptime[2000:4000],\n",
    "    y = accLinear17_y[2000:4000],\n",
    "    mode = 'lines',\n",
    "    name='A_Y'\n",
    ")\n",
    "no_event_z =  go.Scatter(\n",
    "    x = accLinear17_uptime[2000:4000],\n",
    "    y = accLinear17_z[2000:4000],\n",
    "    mode = 'lines',\n",
    "    name='A_Z'\n",
    ")\n",
    "\n",
    "\n",
    "# right_lane_change_ax = go.Scatter(\n",
    "#     x = accLinear17_uptime[800:1000],\n",
    "#     y = accLinear17_x[800:1000],\n",
    "#     mode = 'lines'\n",
    "# )\n",
    "# right_lane_change_ay = go.Scatter(\n",
    "#     x = accLinear17_uptime[800:1000],\n",
    "#     y = accLinear17_y[800:1000],\n",
    "#     mode = 'lines'\n",
    "# )\n",
    "# right_lane_change_az = go.Scatter(\n",
    "#     x = accLinear17_uptime[800:1000],\n",
    "#     y = accLinear17_z[800:1000],\n",
    "#     mode = 'lines'\n",
    "# )\n",
    "\n",
    "\n",
    "\n",
    "\n",
    "\n",
    "accelerationX= go.Scatter(\n",
    "    x = acc17_uptime[15476:15730],\n",
    "    y = SmoothData(acc17_x[15476:15730]),\n",
    "    mode = 'lines',\n",
    "    name='A_X'\n",
    ")\n",
    "accelerationY = go.Scatter(\n",
    "    x = acc17_uptime[15476:15730],\n",
    "    y = SmoothData(acc17_y[15476:15730]),\n",
    "    mode = 'lines',\n",
    "    name='A_Y'\n",
    ")\n",
    "accelerationZ = go.Scatter(\n",
    "    x = acc17_uptime[15476:15730],\n",
    "    y = SmoothData(acc17_z[15476:15730]),\n",
    "    mode = 'lines',\n",
    "    name='A_Z'\n",
    ")\n",
    "\n",
    "\n",
    "dataTemp = [accelerationX,accelerationY,accelerationZ]\n",
    "# data_acc1 = [acc_ax,acc_ay,acc_az]\n",
    "# data_acc2 = [RenderAcc(14661,14813,'x'),RenderAcc(14661,14813,'y'),RenderAcc(14661,14813,'z')]\n",
    "# data_acc3 = [RenderAcc(18380,18583,'x'),RenderAcc(18380,18583,'y'),RenderAcc(18380,18583,'z')]\n",
    "# data_acc4 = [RenderAcc(16495,16800,'x'),RenderAcc(16495,16800,'y'),RenderAcc(16495,16800,'z')]\n",
    "\n",
    "data2 =[brake_ax,brake_ay,brake_az]\n",
    "data3 =[no_event_x,no_event_y,no_event_z]\n",
    "fig1 = go.Figure(data=dataTemp)\n",
    "py.offline.plot(fig1, filename='multiple-axes-double')\n",
    "\n"
   ]
  },
  {
   "cell_type": "code",
   "execution_count": 46,
   "metadata": {},
   "outputs": [
    {
     "name": "stdout",
     "output_type": "stream",
     "text": [
      "This is the format of your plot grid:\n",
      "[ (1,1) x1,y1 ]\n",
      "[ (2,1) x2,y2 ]\n",
      "\n"
     ]
    },
    {
     "ename": "ValueError",
     "evalue": "\n    Invalid element(s) received for the 'data' property of \n        Invalid elements include: [[Scatter({\n    'mode': 'lines',\n    'name': 'A_X',\n    'x': array([12932479183371, 12932498807970, 12932518432569, ..., 12971682937372,\n                12971702561971, 12971722217091], dtype=int64),\n    'y': array([ 0.52143221,  0.1762854 ,  0.11162749, ...,  0.99060019,  0.00611742,\n                -0.99863867])\n}), Scatter({\n    'mode': 'lines',\n    'name': 'A_y',\n    'x': array([12932479183371, 12932498807970, 12932518432569, ..., 12971682937372,\n                12971702561971, 12971722217091], dtype=int64),\n    'y': array([-0.51217113, -0.3716943 ,  0.17960022, ..., -0.30252926,  0.21725254,\n                 0.38060164])\n}), Scatter({\n    'mode': 'lines',\n    'name': 'A_z',\n    'x': array([12932479183371, 12932498807970, 12932518432569, ..., 12971682937372,\n                12971702561971, 12971722217091], dtype=int64),\n    'y': array([-0.30564416, -0.21369206, -0.15063982, ..., -0.64857881,  0.26881369,\n                 0.4671164 ])\n})]]\n\n    The 'data' property is a tuple of trace instances\n    that may be specified as:\n      - A list or tuple of trace instances\n        (e.g. [Scatter(...), Bar(...)])\n      - A list or tuple of dicts of string/value properties where:\n        - The 'type' property specifies the trace type\n            One of: ['area', 'bar', 'barpolar', 'box',\n                     'candlestick', 'carpet', 'choropleth', 'cone',\n                     'contour', 'contourcarpet', 'heatmap',\n                     'heatmapgl', 'histogram', 'histogram2d',\n                     'histogram2dcontour', 'isosurface', 'mesh3d',\n                     'ohlc', 'parcats', 'parcoords', 'pie',\n                     'pointcloud', 'sankey', 'scatter',\n                     'scatter3d', 'scattercarpet', 'scattergeo',\n                     'scattergl', 'scattermapbox', 'scatterpolar',\n                     'scatterpolargl', 'scatterternary', 'splom',\n                     'streamtube', 'sunburst', 'surface', 'table',\n                     'violin', 'volume', 'waterfall']\n\n        - All remaining properties are passed to the constructor of\n          the specified trace type\n\n        (e.g. [{'type': 'scatter', ...}, {'type': 'bar, ...}])",
     "output_type": "error",
     "traceback": [
      "\u001b[1;31m---------------------------------------------------------------------------\u001b[0m",
      "\u001b[1;31mValueError\u001b[0m                                Traceback (most recent call last)",
      "\u001b[1;32m<ipython-input-46-6d1dea97fe90>\u001b[0m in \u001b[0;36m<module>\u001b[1;34m\u001b[0m\n\u001b[0;32m     28\u001b[0m \u001b[0mfig\u001b[0m \u001b[1;33m=\u001b[0m\u001b[0mtools\u001b[0m\u001b[1;33m.\u001b[0m\u001b[0mmake_subplots\u001b[0m\u001b[1;33m(\u001b[0m\u001b[0mrows\u001b[0m\u001b[1;33m=\u001b[0m\u001b[1;36m2\u001b[0m\u001b[1;33m,\u001b[0m\u001b[0mcols\u001b[0m\u001b[1;33m=\u001b[0m\u001b[1;36m1\u001b[0m\u001b[1;33m)\u001b[0m\u001b[1;33m\u001b[0m\u001b[1;33m\u001b[0m\u001b[0m\n\u001b[0;32m     29\u001b[0m \u001b[1;33m\u001b[0m\u001b[0m\n\u001b[1;32m---> 30\u001b[1;33m \u001b[0mfig\u001b[0m\u001b[1;33m.\u001b[0m\u001b[0mappend_trace\u001b[0m\u001b[1;33m(\u001b[0m\u001b[0mdata\u001b[0m\u001b[1;33m,\u001b[0m\u001b[1;36m1\u001b[0m\u001b[1;33m,\u001b[0m\u001b[1;36m1\u001b[0m\u001b[1;33m)\u001b[0m\u001b[1;33m\u001b[0m\u001b[1;33m\u001b[0m\u001b[0m\n\u001b[0m\u001b[0;32m     31\u001b[0m \u001b[0mfig\u001b[0m\u001b[1;33m.\u001b[0m\u001b[0mappend_trace\u001b[0m\u001b[1;33m(\u001b[0m\u001b[0mdata2\u001b[0m\u001b[1;33m,\u001b[0m\u001b[1;36m2\u001b[0m\u001b[1;33m,\u001b[0m\u001b[1;36m1\u001b[0m\u001b[1;33m)\u001b[0m\u001b[1;33m\u001b[0m\u001b[1;33m\u001b[0m\u001b[0m\n\u001b[0;32m     32\u001b[0m \u001b[0mfig\u001b[0m\u001b[1;33m[\u001b[0m\u001b[1;34m'layout'\u001b[0m\u001b[1;33m]\u001b[0m\u001b[1;33m.\u001b[0m\u001b[0mupdate\u001b[0m\u001b[1;33m(\u001b[0m\u001b[0mheight\u001b[0m\u001b[1;33m=\u001b[0m\u001b[1;36m600\u001b[0m\u001b[1;33m,\u001b[0m \u001b[0mwidth\u001b[0m\u001b[1;33m=\u001b[0m\u001b[1;36m800\u001b[0m\u001b[1;33m,\u001b[0m \u001b[0mtitle\u001b[0m\u001b[1;33m=\u001b[0m\u001b[1;34m'i <3 annotations and subplots'\u001b[0m\u001b[1;33m)\u001b[0m\u001b[1;33m\u001b[0m\u001b[1;33m\u001b[0m\u001b[0m\n",
      "\u001b[1;32m~\\Anaconda3\\lib\\site-packages\\plotly\\basedatatypes.py\u001b[0m in \u001b[0;36mappend_trace\u001b[1;34m(self, trace, row, col)\u001b[0m\n\u001b[0;32m   1233\u001b[0m \"\"\", DeprecationWarning)\n\u001b[0;32m   1234\u001b[0m \u001b[1;33m\u001b[0m\u001b[0m\n\u001b[1;32m-> 1235\u001b[1;33m         \u001b[0mself\u001b[0m\u001b[1;33m.\u001b[0m\u001b[0madd_trace\u001b[0m\u001b[1;33m(\u001b[0m\u001b[0mtrace\u001b[0m\u001b[1;33m=\u001b[0m\u001b[0mtrace\u001b[0m\u001b[1;33m,\u001b[0m \u001b[0mrow\u001b[0m\u001b[1;33m=\u001b[0m\u001b[0mrow\u001b[0m\u001b[1;33m,\u001b[0m \u001b[0mcol\u001b[0m\u001b[1;33m=\u001b[0m\u001b[0mcol\u001b[0m\u001b[1;33m)\u001b[0m\u001b[1;33m\u001b[0m\u001b[1;33m\u001b[0m\u001b[0m\n\u001b[0m\u001b[0;32m   1236\u001b[0m \u001b[1;33m\u001b[0m\u001b[0m\n\u001b[0;32m   1237\u001b[0m     \u001b[1;32mdef\u001b[0m \u001b[0m_set_trace_grid_position\u001b[0m\u001b[1;33m(\u001b[0m\u001b[0mself\u001b[0m\u001b[1;33m,\u001b[0m \u001b[0mtrace\u001b[0m\u001b[1;33m,\u001b[0m \u001b[0mrow\u001b[0m\u001b[1;33m,\u001b[0m \u001b[0mcol\u001b[0m\u001b[1;33m)\u001b[0m\u001b[1;33m:\u001b[0m\u001b[1;33m\u001b[0m\u001b[1;33m\u001b[0m\u001b[0m\n",
      "\u001b[1;32m~\\Anaconda3\\lib\\site-packages\\plotly\\basedatatypes.py\u001b[0m in \u001b[0;36madd_trace\u001b[1;34m(self, trace, row, col)\u001b[0m\n\u001b[0;32m   1080\u001b[0m         return self.add_traces(data=[trace],\n\u001b[0;32m   1081\u001b[0m                                \u001b[0mrows\u001b[0m\u001b[1;33m=\u001b[0m\u001b[1;33m[\u001b[0m\u001b[0mrow\u001b[0m\u001b[1;33m]\u001b[0m \u001b[1;32mif\u001b[0m \u001b[0mrow\u001b[0m \u001b[1;32mis\u001b[0m \u001b[1;32mnot\u001b[0m \u001b[1;32mNone\u001b[0m \u001b[1;32melse\u001b[0m \u001b[1;32mNone\u001b[0m\u001b[1;33m,\u001b[0m\u001b[1;33m\u001b[0m\u001b[1;33m\u001b[0m\u001b[0m\n\u001b[1;32m-> 1082\u001b[1;33m                                \u001b[0mcols\u001b[0m\u001b[1;33m=\u001b[0m\u001b[1;33m[\u001b[0m\u001b[0mcol\u001b[0m\u001b[1;33m]\u001b[0m \u001b[1;32mif\u001b[0m \u001b[0mcol\u001b[0m \u001b[1;32mis\u001b[0m \u001b[1;32mnot\u001b[0m \u001b[1;32mNone\u001b[0m \u001b[1;32melse\u001b[0m \u001b[1;32mNone\u001b[0m\u001b[1;33m\u001b[0m\u001b[1;33m\u001b[0m\u001b[0m\n\u001b[0m\u001b[0;32m   1083\u001b[0m                                )[0]\n\u001b[0;32m   1084\u001b[0m \u001b[1;33m\u001b[0m\u001b[0m\n",
      "\u001b[1;32m~\\Anaconda3\\lib\\site-packages\\plotly\\basedatatypes.py\u001b[0m in \u001b[0;36madd_traces\u001b[1;34m(self, data, rows, cols)\u001b[0m\n\u001b[0;32m   1139\u001b[0m \u001b[1;33m\u001b[0m\u001b[0m\n\u001b[0;32m   1140\u001b[0m         \u001b[1;31m# Validate traces\u001b[0m\u001b[1;33m\u001b[0m\u001b[1;33m\u001b[0m\u001b[1;33m\u001b[0m\u001b[0m\n\u001b[1;32m-> 1141\u001b[1;33m         \u001b[0mdata\u001b[0m \u001b[1;33m=\u001b[0m \u001b[0mself\u001b[0m\u001b[1;33m.\u001b[0m\u001b[0m_data_validator\u001b[0m\u001b[1;33m.\u001b[0m\u001b[0mvalidate_coerce\u001b[0m\u001b[1;33m(\u001b[0m\u001b[0mdata\u001b[0m\u001b[1;33m)\u001b[0m\u001b[1;33m\u001b[0m\u001b[1;33m\u001b[0m\u001b[0m\n\u001b[0m\u001b[0;32m   1142\u001b[0m \u001b[1;33m\u001b[0m\u001b[0m\n\u001b[0;32m   1143\u001b[0m         \u001b[1;31m# Set trace indexes\u001b[0m\u001b[1;33m\u001b[0m\u001b[1;33m\u001b[0m\u001b[1;33m\u001b[0m\u001b[0m\n",
      "\u001b[1;32m~\\Anaconda3\\lib\\site-packages\\_plotly_utils\\basevalidators.py\u001b[0m in \u001b[0;36mvalidate_coerce\u001b[1;34m(self, v, skip_invalid)\u001b[0m\n\u001b[0;32m   2344\u001b[0m \u001b[1;33m\u001b[0m\u001b[0m\n\u001b[0;32m   2345\u001b[0m             \u001b[1;32mif\u001b[0m \u001b[0minvalid_els\u001b[0m\u001b[1;33m:\u001b[0m\u001b[1;33m\u001b[0m\u001b[1;33m\u001b[0m\u001b[0m\n\u001b[1;32m-> 2346\u001b[1;33m                 \u001b[0mself\u001b[0m\u001b[1;33m.\u001b[0m\u001b[0mraise_invalid_elements\u001b[0m\u001b[1;33m(\u001b[0m\u001b[0minvalid_els\u001b[0m\u001b[1;33m)\u001b[0m\u001b[1;33m\u001b[0m\u001b[1;33m\u001b[0m\u001b[0m\n\u001b[0m\u001b[0;32m   2347\u001b[0m \u001b[1;33m\u001b[0m\u001b[0m\n\u001b[0;32m   2348\u001b[0m             \u001b[0mv\u001b[0m \u001b[1;33m=\u001b[0m \u001b[0mto_scalar_or_list\u001b[0m\u001b[1;33m(\u001b[0m\u001b[0mres\u001b[0m\u001b[1;33m)\u001b[0m\u001b[1;33m\u001b[0m\u001b[1;33m\u001b[0m\u001b[0m\n",
      "\u001b[1;32m~\\Anaconda3\\lib\\site-packages\\_plotly_utils\\basevalidators.py\u001b[0m in \u001b[0;36mraise_invalid_elements\u001b[1;34m(self, invalid_els)\u001b[0m\n\u001b[0;32m    287\u001b[0m                 \u001b[0mpname\u001b[0m\u001b[1;33m=\u001b[0m\u001b[0mself\u001b[0m\u001b[1;33m.\u001b[0m\u001b[0mparent_name\u001b[0m\u001b[1;33m,\u001b[0m\u001b[1;33m\u001b[0m\u001b[1;33m\u001b[0m\u001b[0m\n\u001b[0;32m    288\u001b[0m                 \u001b[0minvalid\u001b[0m\u001b[1;33m=\u001b[0m\u001b[0minvalid_els\u001b[0m\u001b[1;33m[\u001b[0m\u001b[1;33m:\u001b[0m\u001b[1;36m10\u001b[0m\u001b[1;33m]\u001b[0m\u001b[1;33m,\u001b[0m\u001b[1;33m\u001b[0m\u001b[1;33m\u001b[0m\u001b[0m\n\u001b[1;32m--> 289\u001b[1;33m                 valid_clr_desc=self.description()))\n\u001b[0m\u001b[0;32m    290\u001b[0m \u001b[1;33m\u001b[0m\u001b[0m\n\u001b[0;32m    291\u001b[0m     \u001b[1;32mdef\u001b[0m \u001b[0mvalidate_coerce\u001b[0m\u001b[1;33m(\u001b[0m\u001b[0mself\u001b[0m\u001b[1;33m,\u001b[0m \u001b[0mv\u001b[0m\u001b[1;33m)\u001b[0m\u001b[1;33m:\u001b[0m\u001b[1;33m\u001b[0m\u001b[1;33m\u001b[0m\u001b[0m\n",
      "\u001b[1;31mValueError\u001b[0m: \n    Invalid element(s) received for the 'data' property of \n        Invalid elements include: [[Scatter({\n    'mode': 'lines',\n    'name': 'A_X',\n    'x': array([12932479183371, 12932498807970, 12932518432569, ..., 12971682937372,\n                12971702561971, 12971722217091], dtype=int64),\n    'y': array([ 0.52143221,  0.1762854 ,  0.11162749, ...,  0.99060019,  0.00611742,\n                -0.99863867])\n}), Scatter({\n    'mode': 'lines',\n    'name': 'A_y',\n    'x': array([12932479183371, 12932498807970, 12932518432569, ..., 12971682937372,\n                12971702561971, 12971722217091], dtype=int64),\n    'y': array([-0.51217113, -0.3716943 ,  0.17960022, ..., -0.30252926,  0.21725254,\n                 0.38060164])\n}), Scatter({\n    'mode': 'lines',\n    'name': 'A_z',\n    'x': array([12932479183371, 12932498807970, 12932518432569, ..., 12971682937372,\n                12971702561971, 12971722217091], dtype=int64),\n    'y': array([-0.30564416, -0.21369206, -0.15063982, ..., -0.64857881,  0.26881369,\n                 0.4671164 ])\n})]]\n\n    The 'data' property is a tuple of trace instances\n    that may be specified as:\n      - A list or tuple of trace instances\n        (e.g. [Scatter(...), Bar(...)])\n      - A list or tuple of dicts of string/value properties where:\n        - The 'type' property specifies the trace type\n            One of: ['area', 'bar', 'barpolar', 'box',\n                     'candlestick', 'carpet', 'choropleth', 'cone',\n                     'contour', 'contourcarpet', 'heatmap',\n                     'heatmapgl', 'histogram', 'histogram2d',\n                     'histogram2dcontour', 'isosurface', 'mesh3d',\n                     'ohlc', 'parcats', 'parcoords', 'pie',\n                     'pointcloud', 'sankey', 'scatter',\n                     'scatter3d', 'scattercarpet', 'scattergeo',\n                     'scattergl', 'scattermapbox', 'scatterpolar',\n                     'scatterpolargl', 'scatterternary', 'splom',\n                     'streamtube', 'sunburst', 'surface', 'table',\n                     'violin', 'volume', 'waterfall']\n\n        - All remaining properties are passed to the constructor of\n          the specified trace type\n\n        (e.g. [{'type': 'scatter', ...}, {'type': 'bar, ...}])"
     ]
    }
   ],
   "source": [
    "\n",
    "no_event_x =  go.Scatter(\n",
    "    x = accLinear17_uptime[2000:4000],\n",
    "    y = accLinear17_x[2000:4000],\n",
    "    mode = 'lines',\n",
    "    name='A_X'\n",
    ")\n",
    "\n",
    "no_event_y =  go.Scatter(\n",
    "    x = accLinear17_uptime[2000:4000],\n",
    "    y = accLinear17_y[2000:4000],\n",
    "    mode = 'lines',\n",
    "    name='A_y'\n",
    ")\n",
    "\n",
    "no_event_z =  go.Scatter(\n",
    "    x = accLinear17_uptime[2000:4000],\n",
    "    y = accLinear17_z[2000:4000],\n",
    "    \n",
    "    mode = 'lines',\n",
    "    name='A_z'\n",
    ")\n",
    "\n",
    "data = [no_event_x,no_event_y,no_event_z]\n",
    "\n",
    "data2 = [no_event_x,no_event_y,no_event_z]\n",
    "\n",
    "fig =tools.make_subplots(rows=2,cols=1)\n",
    "\n",
    "\n",
    "fig.append_trace(no_event_x,1,1)\n",
    "\n",
    "fig.append_trace(data2,2,1)\n",
    "fig['layout'].update(height=600, width=800, title='i <3 annotations and subplots')\n",
    "py.offline.plot(fig, filename='multiple-axes-double')\n"
   ]
  },
  {
   "cell_type": "code",
   "execution_count": 19,
   "metadata": {},
   "outputs": [
    {
     "data": {
      "text/plain": [
       "array([[1.        , 0.40569564],\n",
       "       [0.40569564, 1.        ]])"
      ]
     },
     "execution_count": 19,
     "metadata": {},
     "output_type": "execute_result"
    }
   ],
   "source": [
    "brakes = []\n",
    "x = accLinear17_x[16495:16800]\n",
    "y = accLinear17_y[16495:16800]\n",
    "np.corrcoef(x,y)\n"
   ]
  },
  {
   "cell_type": "code",
   "execution_count": 20,
   "metadata": {},
   "outputs": [],
   "source": [
    "\n",
    "brakingStatus = [0] * len(training_set)\n",
    "\n",
    "for i in range(7173,7326):\n",
    "    brakingStatus[i] = 1\n",
    "for i in range (7683,7835):\n",
    "    brakingStatus[i] = 1\n",
    "for i in range (8396,8600):\n",
    "    brakingStatus[i] = 1\n",
    "for i in range (11198,11350):\n",
    "    brakingStatus[i] = 1\n",
    "for i in range (11911,12063):\n",
    "    brakingStatus[i] = 1\n",
    "for i in range (12624,12777):\n",
    "    brakingStatus[i] = 1\n",
    "\n",
    "training_set['brakingStatus'] = brakingStatus\n",
    "training_set.to_csv('./data/Learning/Training_set.csv',index = False)"
   ]
  },
  {
   "cell_type": "code",
   "execution_count": 2,
   "metadata": {},
   "outputs": [],
   "source": [
    "import tensorflow as tf\n"
   ]
  },
  {
   "cell_type": "code",
   "execution_count": null,
   "metadata": {},
   "outputs": [],
   "source": []
  }
 ],
 "metadata": {
  "kernelspec": {
   "display_name": "Python 3",
   "language": "python",
   "name": "python3"
  },
  "language_info": {
   "codemirror_mode": {
    "name": "ipython",
    "version": 3
   },
   "file_extension": ".py",
   "mimetype": "text/x-python",
   "name": "python",
   "nbconvert_exporter": "python",
   "pygments_lexer": "ipython3",
   "version": "3.7.3"
  }
 },
 "nbformat": 4,
 "nbformat_minor": 2
}
