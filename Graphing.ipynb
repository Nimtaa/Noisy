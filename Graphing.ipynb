{
 "cells": [
  {
   "cell_type": "code",
   "execution_count": 21,
   "metadata": {},
   "outputs": [],
   "source": [
    "import numpy as np\n",
    "import pandas\n",
    "import plotly as py\n",
    "import plotly.graph_objs as go\n",
    "from plotly import tools\n",
    "from matplotlib.pyplot import figure\n",
    "import random\n",
    "from datetime import datetime\n",
    "from datetime import timedelta"
   ]
  },
  {
   "cell_type": "code",
   "execution_count": 2,
   "metadata": {},
   "outputs": [],
   "source": [
    "my_data_part3 = pandas.read_csv('./MyData/22.4.2020.part3.csv')\n",
    "my_data_part2 = pandas.read_csv('./MyData/22.4.2020.part2.csv')\n",
    "my_data_round1 = pandas.read_csv('./MyData/22.4.2020/round1.csv')\n",
    "my_data_round2 = pandas.read_csv('./MyData/22.4.2020/round2.csv')\n",
    "my_data_round3 = pandas.read_csv('./MyData/22.4.2020/round3.csv')\n",
    "\n",
    "\n",
    "# working_set = my_data[['accelerometerAccelerationX(G)','accelerometerAccelerationY(G)','accelerometerAccelerationZ(G)']][3200:3700]        \n",
    "\n",
    "set_user_part3 = my_data_part3[['motionUserAccelerationX(G)','motionUserAccelerationY(G)','motionUserAccelerationZ(G)']]\n",
    "set_user_part2 = my_data_part2[['motionUserAccelerationX(G)','motionUserAccelerationY(G)','motionUserAccelerationZ(G)']]\n",
    "set_user_round1 = my_data_round1[['motionUserAccelerationX(G)','motionUserAccelerationY(G)','motionUserAccelerationZ(G)']]\n",
    "set_user_round2 = my_data_round2[['motionUserAccelerationX(G)','motionUserAccelerationY(G)','motionUserAccelerationZ(G)']]\n",
    "set_user_round3 = my_data_round3[['motionUserAccelerationX(G)','motionUserAccelerationY(G)','motionUserAccelerationZ(G)']]\n",
    "\n",
    "######\n",
    "\n",
    "my_data_brake_round4 = pandas.read_csv('./MyData/24.4.2020/brake_round4.csv')\n",
    "my_data_brake_round5 = pandas.read_csv('./MyData/24.4.2020/brake_round5.csv')\n",
    "\n",
    "set_user_brake_round4 = my_data_brake_round4[['motionUserAccelerationX(G)','motionUserAccelerationY(G)','motionUserAccelerationZ(G)']]\n",
    "set_user_brake_round5 = my_data_brake_round5[['motionUserAccelerationX(G)','motionUserAccelerationY(G)','motionUserAccelerationZ(G)']]"
   ]
  },
  {
   "cell_type": "code",
   "execution_count": 4,
   "metadata": {},
   "outputs": [],
   "source": [
    "def RenderData(data, fig, init, end):\n",
    "    acx =  go.Scatter(\n",
    "        x = list(range(init, end)),\n",
    "        y = [data[i][0] for i in range(init, end)],\n",
    "        mode = 'lines',\n",
    "        name = 'x'\n",
    "        \n",
    "    )\n",
    "    \n",
    "\n",
    "    acy =  go.Scatter(\n",
    "        x = list(range(init, end)),\n",
    "        y = [data[i][1] for i in range(init, end)],\n",
    "        mode = 'lines',\n",
    "        name='y'\n",
    "    )\n",
    "\n",
    "    acz =  go.Scatter(\n",
    "        x = list(range(init, end)),\n",
    "        y = [data[i][2] for i in range(init, end)],\n",
    "        mode = 'lines',\n",
    "        name='z'\n",
    "    )\n",
    "    fig.append_trace(acx,1,1)\n",
    "    fig.append_trace(acy,1,1)\n",
    "    fig.append_trace(acz,1,1)\n",
    "    \n",
    "    return fig"
   ]
  },
  {
   "cell_type": "code",
   "execution_count": 5,
   "metadata": {},
   "outputs": [],
   "source": [
    "def SmoothData(data):\n",
    "    size = data.shape[0] \n",
    "    dim = data.shape[1]\n",
    "    \n",
    "    smooth_data = np.zeros((size,dim))\n",
    "    \n",
    "    smooth_data[0] = data[0]\n",
    "    smooth_data[1] = data[1]\n",
    "    smooth_data[size-1] = data[size-1]\n",
    "    smooth_data[size-2] = data[size-2]\n",
    "    \n",
    "    for i in range(2, size-2):\n",
    "        smooth_data[i] = np.average([data[i], data[i-1], data[i+1]], axis=0)\n",
    "    return smooth_data"
   ]
  },
  {
   "cell_type": "code",
   "execution_count": 6,
   "metadata": {},
   "outputs": [],
   "source": [
    "set_user_part2 = np.array(set_user_part2)\n",
    "set_user_part2 = SmoothData(set_user_part2)\n",
    "set_user_part3 = np.array(set_user_part3)\n",
    "set_user_part3 = SmoothData(set_user_part3)\n",
    "######\n",
    "set_user_round1 = np.array(set_user_round1)\n",
    "set_user_round2 = np.array(set_user_round2)\n",
    "set_user_round3 = np.array(set_user_round3)\n",
    "set_user_round1 = SmoothData(set_user_round1)\n",
    "set_user_round2 = SmoothData(set_user_round2)\n",
    "set_user_round3 = SmoothData(set_user_round3)\n",
    "\n",
    "set_user_brake_round4 = np.array(set_user_brake_round4)\n",
    "set_user_brake_round5 = np.array(set_user_brake_round5)\n",
    "set_user_brake_round4 = SmoothData(set_user_brake_round4)\n",
    "set_user_brake_round5 = SmoothData(set_user_brake_round5)"
   ]
  },
  {
   "cell_type": "code",
   "execution_count": 22,
   "metadata": {},
   "outputs": [],
   "source": [
    "\n",
    "def give_time(sensor_start, event_start, event_end, init_time_data, desc):\n",
    "    # give each time like this: 1,34\n",
    "    \n",
    "    sensor_start_sec = timedelta (minutes = int(sensor_start.split(\",\")[0]), seconds = int(sensor_start.split(\",\")[1]))\n",
    "    event_start_sec = timedelta (minutes = int (event_start.split(\",\")[0]), seconds = int (event_start.split(\",\")[1]))\n",
    "    init_time_data_sec = timedelta (minutes = int(init_time_data.split(\",\")[0]), seconds = int(init_time_data.split(\",\")[1]))    \n",
    "    event_end_sec = timedelta (minutes= int(event_end.split(\",\")[0]) , seconds = int(event_end.split(\",\")[1]))\n",
    "    event_start_data =  (event_start_sec - sensor_start_sec) + init_time_data_sec\n",
    "    m1, s1 = divmod(event_start_data.seconds, 60)\n",
    "    print(m1,\":\",s1)\n",
    "    event_end_data = (event_end_sec - event_start_sec) + event_start_data\n",
    "    m2, s2 = divmod(event_end_data.seconds, 60)\n",
    "    print(m2,\":\",s2)   \n",
    "    print(desc,\"\\n*****\")"
   ]
  },
  {
   "cell_type": "code",
   "execution_count": 23,
   "metadata": {},
   "outputs": [
    {
     "name": "stdout",
     "output_type": "stream",
     "text": [
      "21 : 37\n",
      "21 : 38\n",
      "brk \n",
      "*****\n"
     ]
    }
   ],
   "source": [
    "give_time(\"0,42\", \"1,18\", \"1,19\", \"21,1\", \"brk\")"
   ]
  },
  {
   "cell_type": "code",
   "execution_count": 45,
   "metadata": {},
   "outputs": [
    {
     "data": {
      "text/plain": [
       "'brake_acc_test_data.html'"
      ]
     },
     "execution_count": 45,
     "metadata": {},
     "output_type": "execute_result"
    }
   ],
   "source": [
    "fig =tools.make_subplots(rows=1,cols=1)\n",
    "RenderData(set_user_round1, fig, 23066, 23469)\n",
    "fig['layout'].update(height=500, title = 'Test Data')\n",
    "py.offline.plot(fig, filename='brake_acc_test_data')"
   ]
  }
 ],
 "metadata": {
  "kernelspec": {
   "display_name": "Python [conda env:tensorflow_env] *",
   "language": "python",
   "name": "conda-env-tensorflow_env-py"
  },
  "language_info": {
   "codemirror_mode": {
    "name": "ipython",
    "version": 3
   },
   "file_extension": ".py",
   "mimetype": "text/x-python",
   "name": "python",
   "nbconvert_exporter": "python",
   "pygments_lexer": "ipython3",
   "version": "3.7.3"
  }
 },
 "nbformat": 4,
 "nbformat_minor": 2
}
