{
 "cells": [
  {
   "cell_type": "code",
   "execution_count": null,
   "metadata": {},
   "outputs": [],
   "source": [
    "import matplotlib.pyplot as plt\n",
    "from plotly import tools\n",
    "import pandas\n",
    "from matplotlib.pyplot import figure\n",
    "import numpy as np\n",
    "import plotly as py\n",
    "import plotly.graph_objs as go\n",
    "from heapq import nlargest"
   ]
  },
  {
   "cell_type": "markdown",
   "metadata": {},
   "source": [
    "### SensorLog CSV"
   ]
  },
  {
   "cell_type": "code",
   "execution_count": null,
   "metadata": {},
   "outputs": [],
   "source": [
    "round6 =  pandas.read_csv('./MyData/2.5.2020/round6.csv', usecols=[8,23,24,25,15,16,17,29,30,31])\n",
    "round7 =  pandas.read_csv('./MyData/2.5.2020/round7.csv', usecols=[8,23,24,25,15,16,17,29,30,31])\n",
    "round8 =  pandas.read_csv('./MyData/2.5.2020/round8.csv', usecols=[8,23,24,25,15,16,17,29,30,31])\n",
    "round9 =  pandas.read_csv('./MyData/2.5.2020/round8.csv', usecols=[8,23,24,25,15,16,17,29,30,31])\n",
    "\n",
    "round6 = np.array(round6)\n",
    "round7 = np.array(round7)\n",
    "round8 = np.array(round8)\n",
    "round9 = np.array(round9)"
   ]
  },
  {
   "cell_type": "markdown",
   "metadata": {},
   "source": [
    "### Turning classes\n",
    "```\n",
    "Normal = 0, RT = 1, LT = 2, UT = 3\n",
    "```"
   ]
  },
  {
   "cell_type": "code",
   "execution_count": null,
   "metadata": {},
   "outputs": [],
   "source": [
    "status_round6 = [0] * len(round6)\n",
    "status_round6 = np.array(status_round6)\n",
    "\n",
    "index_rt = [[75100, 75569],[77760, 78101],[81237, 81700],[83550, 83900],[84900, 85600], [12600, 13157],\n",
    "            [59700, 60293],[61900, 62400],[65000, 65600],[69000, 69602],[72130, 72736],[9619, 10123],[16700, 17304],\n",
    "            [19700, 20237], [27115, 27670],[31980, 32778],[41781, 42185],[47270, 48000],[51840, 52503]]\n",
    "\n",
    "index_lt = [[88400, 88850],[89939, 90360],[92620, 93010],[96400, 97050],[2943, 3570],[28650, 29200],[54022, 54527]]\n",
    "\n",
    "\n",
    "for i in range(56043, 56750):\n",
    "    status_round6[i] = -1   \n",
    "\n",
    "for i in index_rt:\n",
    "    i0 = i[0] -2\n",
    "    i1 = i[1] -2\n",
    "    status_round6[i0:i1] = 1\n",
    "for i in index_lt:\n",
    "    i0 = i[0] - 2\n",
    "    i1 = i[1] - 2\n",
    "    status_round6[i0:i1] = 2\n",
    "\n"
   ]
  },
  {
   "cell_type": "code",
   "execution_count": null,
   "metadata": {},
   "outputs": [],
   "source": [
    "data = []\n",
    "for i in range (0,101155):\n",
    "    data.append([round6[i][0],round6[i][1],round6[i][2],round6[i][3],round6[i][4],round6[i][5],\n",
    "                 round6[i][6],round6[i][7],round6[i][8],round6[i][9], status_round6[i]])\n",
    "\n",
    "df = pandas.DataFrame(data=data,columns=['magneticHeading','gyroX','gyroY','gyroZ','Yaw','Roll','Pitch'\n",
    "                                         ,'accx','accy','accz','TurnStatus'])\n",
    "\n",
    "df.to_csv('./data/Learning/MyData/round6_labeled.csv',index= False)"
   ]
  },
  {
   "cell_type": "code",
   "execution_count": null,
   "metadata": {},
   "outputs": [],
   "source": [
    "status_round7 = [0] * len(round7)\n",
    "status_round7 = np.array(status_round7)\n",
    "\n",
    "index_rt = [[10200, 10705],[11250, 11650],[1270, 1800],[13641, 14146],[18395, 18950],\n",
    "            [20066, 20600],[22545, 23050],[23559, 24062],[31853, 32400],[36002, 36709],\n",
    "            [39037, 39610],[47100, 47536],[51720, 52100],[52450, 53101],\n",
    "            [55450, 55831],[57148, 57653],[61300, 61750],[70200, 70700],[84000, 84530],\n",
    "            [85550, 86285],[88714, 89119],[92561, 93000],[94250, 94700],[56100, 56460]]\n",
    "\n",
    "index_lt = [[3826, 4432],[6558, 7164],[11670, 12190],[23050, 23556],[40910, 41500],\n",
    "            [51220, 51680],[65380, 65800],[67200, 67800],[80824, 81350],[90231, 90700],[43560, 44260],[49700, 50270],\n",
    "            [50330, 51050]]\n",
    "\n",
    "for i in index_rt:\n",
    "    i0 = i[0] -2\n",
    "    i1 = i[1] -2\n",
    "    status_round7[i0:i1] = 1\n",
    "for i in index_lt:\n",
    "    i0 = i[0] - 2\n",
    "    i1 = i[1] - 2\n",
    "    status_round7[i0:i1] = 2"
   ]
  },
  {
   "cell_type": "code",
   "execution_count": null,
   "metadata": {},
   "outputs": [],
   "source": [
    "data = []\n",
    "for i in range (0,96435):\n",
    "    data.append([round7[i][0],round7[i][1],round7[i][2],round7[i][3],round7[i][4],round7[i][5],\n",
    "                 round7[i][6],round7[i][7],round7[i][8],round7[i][9], status_round7[i]])\n",
    "\n",
    "df = pandas.DataFrame(data=data,columns=['magneticHeading','gyroX','gyroY','gyroZ','Yaw','Roll','Pitch'\n",
    "                                         ,'accx','accy','accz','TurnStatus'])\n",
    "\n",
    "df.to_csv('./data/Learning/MyData/round7_labeled.csv',index= False)"
   ]
  },
  {
   "cell_type": "code",
   "execution_count": null,
   "metadata": {},
   "outputs": [],
   "source": [
    "status_round8 = [0] * len(round8)\n",
    "status_round8 = np.array(status_round8)\n",
    "\n",
    "index_rt = [[44287, 44790],[48130, 48635]]\n",
    "\n",
    "index_lt = [[42262, 42800]]\n",
    "\n",
    "index_ut = [[2601, 3410],[5332, 6243],[7963, 8772],[10594, 11402],\n",
    "            [13528, 14336],[16060, 16865],[19800, 20648],\n",
    "            [24941, 25870],[28704, 29411],[31172, 31941],\n",
    "            [33600, 34400],[36750, 37506],[39633, 40500],[53087, 53693]]\n",
    "\n",
    "for i in index_rt:\n",
    "    i0 = i[0] -2\n",
    "    i1 = i[1] -2\n",
    "    status_round8[i0:i1] = 1\n",
    "for i in index_lt:\n",
    "    i0 = i[0] - 2\n",
    "    i1 = i[1] - 2\n",
    "    status_round8[i0:i1] = 2\n",
    "for i in index_ut:\n",
    "    i0 = i[0] - 2\n",
    "    i1 = i[1] - 2\n",
    "    status_round8[i0:i1] = 3\n"
   ]
  },
  {
   "cell_type": "code",
   "execution_count": null,
   "metadata": {},
   "outputs": [],
   "source": [
    "data = []\n",
    "for i in range (0,55927):\n",
    "    data.append([round8[i][0],round8[i][1],round8[i][2],round8[i][3],round8[i][4],round8[i][5],\n",
    "                 round8[i][6],round8[i][7],round8[i][8],round8[i][9], status_round8[i]])\n",
    "\n",
    "df = pandas.DataFrame(data=data,columns=['magneticHeading','gyroX','gyroY','gyroZ','Yaw','Roll','Pitch'\n",
    "                                         ,'accx','accy','accz','TurnStatus'])\n",
    "\n",
    "df.to_csv('./data/Learning/MyData/round8_labeled.csv',index= False)"
   ]
  },
  {
   "cell_type": "code",
   "execution_count": null,
   "metadata": {},
   "outputs": [],
   "source": [
    "status_round9 = [0] * len(round9)\n",
    "status_round9 = np.array(status_round9)\n",
    "\n",
    "index_rt = [[39900, 40291]]\n",
    "\n",
    "index_lt = [[36940, 37257]]\n",
    "\n",
    "index_ut = [[30784, 31490],[32099, 32807],[33350, 34021],[35100, 35650]]\n",
    "\n",
    "\n",
    "for i in index_rt:\n",
    "    i0 = i[0] -2\n",
    "    i1 = i[1] -2\n",
    "    status_round9[i0:i1] = 1\n",
    "for i in index_lt:\n",
    "    i0 = i[0] - 2\n",
    "    i1 = i[1] - 2\n",
    "    status_round9[i0:i1] = 2\n",
    "for i in index_ut:\n",
    "    i0 = i[0] - 2\n",
    "    i1 = i[1] - 2\n",
    "    status_round9[i0:i1] = 3\n"
   ]
  },
  {
   "cell_type": "code",
   "execution_count": null,
   "metadata": {},
   "outputs": [],
   "source": [
    "data = []\n",
    "for i in range (30500,40500):\n",
    "    data.append([round9[i][0],round9[i][1],round9[i][2],round9[i][3],round9[i][4],round9[i][5],\n",
    "                 round9[i][6],round9[i][7],round9[i][8],round9[i][9], status_round9[i]])\n",
    "\n",
    "df = pandas.DataFrame(data=data,columns=['magneticHeading','gyroX','gyroY','gyroZ','Yaw','Roll','Pitch'\n",
    "                                         ,'accx','accy','accz','TurnStatus'])\n",
    "\n",
    "df.to_csv('./data/Learning/MyData/round9_labeled.csv',index= False)"
   ]
  },
  {
   "cell_type": "code",
   "execution_count": null,
   "metadata": {},
   "outputs": [],
   "source": [
    "shuffle_data = []\n",
    "\n",
    "round6_labled = np.array(pandas.read_csv('./data/Learning/MyData/round6_labeled.csv'))\n",
    "round7_labled = np.array(pandas.read_csv('./data/Learning/MyData/round7_labeled.csv'))\n",
    "# round8_labled = np.array(pandas.read_csv('./data/Learning/MyData/round8_labeled.csv'))\n",
    "# round9_labled = np.array(pandas.read_csv('./data/Learning/MyData/round9_labeled.csv'))\n",
    "\n",
    "\n",
    "# shuffle_data = np.concatenate((round6_labled, round7_labled, round8_labled, round9_labled))\n",
    "shuffle_data = np.concatenate((round6_labled, round7_labled))\n",
    "\n",
    "df = pandas.DataFrame(data=shuffle_data, columns=['magneticHeading','gyroX','gyroY','gyroZ','Yaw','Roll','Pitch'\n",
    "                                         ,'accx','accy','accz','TurnStatus'])\n",
    "\n",
    "# df.to_csv('./data/Learning/MyData/Turning/version2/data6_7_8_9.csv',index= False)\n",
    "df.to_csv('./data/Learning/MyData/Turning/rt_lt_classifier/data6_7.csv',index= False)"
   ]
  },
  {
   "cell_type": "markdown",
   "metadata": {},
   "source": [
    "### UT as another classifier\n"
   ]
  },
  {
   "cell_type": "code",
   "execution_count": null,
   "metadata": {},
   "outputs": [],
   "source": [
    "len(round7_labled) + len(round6_labled)"
   ]
  },
  {
   "cell_type": "code",
   "execution_count": null,
   "metadata": {},
   "outputs": [],
   "source": [
    "status_round8 = [0] * len(round8)\n",
    "status_round8 = np.array(status_round8)\n",
    "\n",
    "# index_rt = [[44287, 44790],[48130, 48635]]\n",
    "\n",
    "# index_lt = [[42262, 42800]]\n",
    "\n",
    "index_ut = [[2601, 3410],[5332, 6243],[7963, 8772],[10594, 11402],\n",
    "            [13528, 14336],[16060, 16865],[19800, 20648],\n",
    "            [24941, 25870],[28704, 29411],[31172, 31941],\n",
    "            [33600, 34400],[36750, 37506],[39633, 40500],[53087, 53693]]\n",
    "\n",
    "# for i in index_rt:\n",
    "#     i0 = i[0] -2\n",
    "#     i1 = i[1] -2\n",
    "#     status_round8[i0:i1] = 1\n",
    "# for i in index_lt:\n",
    "#     i0 = i[0] - 2\n",
    "#     i1 = i[1] - 2\n",
    "#     status_round8[i0:i1] = 2\n",
    "for i in index_ut:\n",
    "    i0 = i[0] - 2\n",
    "    i1 = i[1] - 2\n",
    "    status_round8[i0:i1] = 1\n"
   ]
  },
  {
   "cell_type": "code",
   "execution_count": null,
   "metadata": {},
   "outputs": [],
   "source": [
    "len(status_round8)"
   ]
  },
  {
   "cell_type": "code",
   "execution_count": null,
   "metadata": {},
   "outputs": [],
   "source": [
    "data = []\n",
    "for i in range (0,55927):\n",
    "    data.append([round8[i][0],round8[i][1],round8[i][2],round8[i][3],round8[i][4],round8[i][5],\n",
    "                 round8[i][6],round8[i][7],round8[i][8],round8[i][9], status_round8[i]])\n",
    "\n",
    "df = pandas.DataFrame(data=data,columns=['magneticHeading','gyroX','gyroY','gyroZ','Yaw','Roll','Pitch'\n",
    "                                         ,'accx','accy','accz','TurnStatus'])\n",
    "\n",
    "df.to_csv('./data/Learning/MyData/ut_another_classifier/round8_labeled.csv',index= False)"
   ]
  },
  {
   "cell_type": "code",
   "execution_count": null,
   "metadata": {},
   "outputs": [],
   "source": [
    "status_round9 = [0] * len(round9)\n",
    "status_round9 = np.array(status_round9)\n",
    "\n",
    "# index_rt = [[39900, 40291]]\n",
    "\n",
    "# index_lt = [[36940, 37257]]\n",
    "\n",
    "index_ut = [[30784, 31490],[32099, 32807],[33350, 34021],[35100, 35650]]\n",
    "\n",
    "\n",
    "# for i in index_rt:\n",
    "#     i0 = i[0] -2\n",
    "#     i1 = i[1] -2\n",
    "#     status_round9[i0:i1] = 1\n",
    "# for i in index_lt:\n",
    "#     i0 = i[0] - 2\n",
    "#     i1 = i[1] - 2\n",
    "#     status_round9[i0:i1] = 2\n",
    "for i in index_ut:\n",
    "    i0 = i[0] - 2\n",
    "    i1 = i[1] - 2\n",
    "    status_round9[i0:i1] = 1\n"
   ]
  },
  {
   "cell_type": "code",
   "execution_count": null,
   "metadata": {},
   "outputs": [],
   "source": [
    "data = []\n",
    "for i in range (30500,40500):\n",
    "    data.append([round9[i][0],round9[i][1],round9[i][2],round9[i][3],round9[i][4],round9[i][5],\n",
    "                 round9[i][6],round9[i][7],round9[i][8],round9[i][9], status_round9[i]])\n",
    "\n",
    "df = pandas.DataFrame(data=data,columns=['magneticHeading','gyroX','gyroY','gyroZ','Yaw','Roll','Pitch'\n",
    "                                         ,'accx','accy','accz','TurnStatus'])\n",
    "\n",
    "df.to_csv('./data/Learning/MyData/ut_another_classifier/round9_labeled.csv',index= False)"
   ]
  },
  {
   "cell_type": "code",
   "execution_count": null,
   "metadata": {},
   "outputs": [],
   "source": [
    "shuffle_data = []\n",
    "\n",
    "round8_labled = np.array(pandas.read_csv('./data/Learning/MyData/ut_another_classifier/round8_labeled.csv'))\n",
    "round9_labled = np.array(pandas.read_csv('./data/Learning/MyData/ut_another_classifier/round9_labeled.csv'))\n",
    "\n",
    "\n",
    "shuffle_data = np.concatenate(( round9_labled,round8_labled))\n",
    "\n",
    "df = pandas.DataFrame(data=shuffle_data, columns=['magneticHeading','gyroX','gyroY','gyroZ','Yaw','Roll','Pitch'\n",
    "                                         ,'accx','accy','accz','TurnStatus'])\n",
    "\n",
    "df.to_csv('./data/Learning/MyData/Turning/ut_another_classifier/data_9_8.csv',index= False)"
   ]
  },
  {
   "cell_type": "code",
   "execution_count": null,
   "metadata": {},
   "outputs": [],
   "source": [
    "len(round8_labled)\n",
    "# len(round9_labled)"
   ]
  }
 ],
 "metadata": {
  "kernelspec": {
   "display_name": "Python [conda env:tensorflow_env] *",
   "language": "python",
   "name": "conda-env-tensorflow_env-py"
  },
  "language_info": {
   "codemirror_mode": {
    "name": "ipython",
    "version": 3
   },
   "file_extension": ".py",
   "mimetype": "text/x-python",
   "name": "python",
   "nbconvert_exporter": "python",
   "pygments_lexer": "ipython3",
   "version": "3.7.3"
  }
 },
 "nbformat": 4,
 "nbformat_minor": 2
}
