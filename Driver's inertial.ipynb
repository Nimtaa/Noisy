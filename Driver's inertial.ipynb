{
 "cells": [
  {
   "cell_type": "code",
   "execution_count": 2,
   "metadata": {},
   "outputs": [],
   "source": [
    "import matplotlib.pyplot as plt\n",
    "import pandas\n",
    "from matplotlib.pyplot import figure\n",
    "import numpy as np\n",
    "import plotly as py\n",
    "import plotly.graph_objs as go\n",
    "from plotly import tools\n",
    "from datetime import datetime\n",
    "from datetime import timedelta"
   ]
  },
  {
   "cell_type": "markdown",
   "metadata": {},
   "source": [
    "# Convert time to index"
   ]
  },
  {
   "cell_type": "code",
   "execution_count": 8,
   "metadata": {},
   "outputs": [
    {
     "name": "stdout",
     "output_type": "stream",
     "text": [
      "                           evento   inicio     fim  startIndexinAccLinear  \\\n",
      "0            evento_nao_agressivo      2.0     6.5                     72   \n",
      "1         curva_direita_agressiva     19.5    23.5                    938   \n",
      "2            evento_nao_agressivo     30.0    33.5                   1498   \n",
      "3         curva_direita_agressiva     95.0    98.0                   4809   \n",
      "4        curva_esquerda_agressiva    247.0   251.5                  12551   \n",
      "5        curva_esquerda_agressiva    348.7   352.3                  17696   \n",
      "6            evento_nao_agressivo    485.0   489.0                  24674   \n",
      "7        curva_esquerda_agressiva    496.0   499.5                  25234   \n",
      "8         curva_direita_agressiva    587.0   590.0                  29869   \n",
      "9        curva_esquerda_agressiva    750.0   753.8                  38172   \n",
      "10        curva_direita_agressiva    840.7   844.0                  42756   \n",
      "11        curva_direita_agressiva    980.0   983.2                  49887   \n",
      "12       curva_esquerda_agressiva   1087.4  1090.9                  55338   \n",
      "13  troca_faixa_direita_agressiva   1139.8  1142.0                  57987   \n",
      "14  troca_faixa_direita_agressiva   1201.0  1202.9                  61145   \n",
      "15  troca_faixa_direita_agressiva   1211.4  1213.5                  61655   \n",
      "\n",
      "    endIndexinAccLinear  \n",
      "0                   326  \n",
      "1                  1192  \n",
      "2                  1701  \n",
      "3                  5012  \n",
      "4                 12805  \n",
      "5                 17950  \n",
      "6                 24927  \n",
      "7                 25437  \n",
      "8                 30072  \n",
      "9                 38375  \n",
      "10                43010  \n",
      "11                50090  \n",
      "12                55541  \n",
      "13                58190  \n",
      "14                61246  \n",
      "15                61807  \n"
     ]
    }
   ],
   "source": [
    "accLinear16 = pandas.read_csv('./data/16/aceleracaoLinear_terra.csv')\n",
    "groundTruth16 = pandas.read_csv('./data/16/groundTruthEdited.csv')\n",
    "\n",
    "timingList = []\n",
    "eventTimingList = []\n",
    "indexList = [];\n",
    "\n",
    "for x1, x2 in zip (groundTruth16[' inicio'],groundTruth16[' fim']):\n",
    "    timingList.append((x1,x2))\n",
    "\n",
    "\n",
    "\n",
    "start_time = accLinear16['timestamp'][0]\n",
    "start_time_object = datetime.strptime(start_time, '%d/%m/%Y %H:%M:%S')\n",
    "\n",
    "\n",
    "for t in range(0,len(groundTruth16)):\n",
    "    event_start_object = start_time_object + timedelta(seconds = groundTruth16[' inicio'][t])\n",
    "    event_end_object = start_time_object + timedelta(seconds = groundTruth16[' fim'][t])\n",
    "    start_event_time = datetime.strftime(event_start_object,'%d/%m/%Y %H:%M:%S')\n",
    "    end_event_time = datetime.strftime(event_end_object,'%d/%m/%Y %H:%M:%S')\n",
    "    eventTimingList.append((start_event_time,end_event_time))\n",
    "    \n",
    "accLinear16List = list(accLinear16['timestamp'])\n",
    "\n",
    "\n",
    "minIndex = []\n",
    "maxIndex = []\n",
    "\n",
    "for t in eventTimingList:\n",
    "    minIndex.append( accLinear16List.index(t[0]))\n",
    "    maxIndex.append( len(accLinear16List) - 1 - accLinear16List[::-1].index(t[1]))\n",
    "\n",
    "groundTruth16.insert(3,'startIndexinAccLinear',minIndex)\n",
    "groundTruth16.insert(4,'endIndexinAccLinear',maxIndex)\n",
    "\n",
    "groundTruth16.to_csv('./data/16/groundTruthEdited.csv')\n",
    "print(groundTruth16)"
   ]
  },
  {
   "cell_type": "code",
   "execution_count": null,
   "metadata": {},
   "outputs": [],
   "source": []
  },
  {
   "cell_type": "code",
   "execution_count": 45,
   "metadata": {
    "collapsed": true
   },
   "outputs": [
    {
     "name": "stdout",
     "output_type": "stream",
     "text": [
      "                           evento   inicio     fim\n",
      "0            evento_nao_agressivo      2.0     6.5\n",
      "1         curva_direita_agressiva     19.5    23.5\n",
      "2            evento_nao_agressivo     30.0    33.5\n",
      "3         curva_direita_agressiva     95.0    98.0\n",
      "4        curva_esquerda_agressiva    247.0   251.5\n",
      "5        curva_esquerda_agressiva    348.7   352.3\n",
      "6            evento_nao_agressivo    485.0   489.0\n",
      "7        curva_esquerda_agressiva    496.0   499.5\n",
      "8         curva_direita_agressiva    587.0   590.0\n",
      "9        curva_esquerda_agressiva    750.0   753.8\n",
      "10        curva_direita_agressiva    840.7   844.0\n",
      "11        curva_direita_agressiva    980.0   983.2\n",
      "12       curva_esquerda_agressiva   1087.4  1090.9\n",
      "13  troca_faixa_direita_agressiva   1139.8  1142.0\n",
      "14  troca_faixa_direita_agressiva   1201.0  1202.9\n",
      "15  troca_faixa_direita_agressiva   1211.4  1213.5\n"
     ]
    },
    {
     "ename": "KeyError",
     "evalue": "' inicio'",
     "output_type": "error",
     "traceback": [
      "\u001b[1;31m---------------------------------------------------------------------------\u001b[0m",
      "\u001b[1;31mKeyError\u001b[0m                                  Traceback (most recent call last)",
      "\u001b[1;32m~\\Anaconda3\\lib\\site-packages\\pandas\\core\\indexes\\base.py\u001b[0m in \u001b[0;36mget_loc\u001b[1;34m(self, key, method, tolerance)\u001b[0m\n\u001b[0;32m   2656\u001b[0m             \u001b[1;32mtry\u001b[0m\u001b[1;33m:\u001b[0m\u001b[1;33m\u001b[0m\u001b[1;33m\u001b[0m\u001b[0m\n\u001b[1;32m-> 2657\u001b[1;33m                 \u001b[1;32mreturn\u001b[0m \u001b[0mself\u001b[0m\u001b[1;33m.\u001b[0m\u001b[0m_engine\u001b[0m\u001b[1;33m.\u001b[0m\u001b[0mget_loc\u001b[0m\u001b[1;33m(\u001b[0m\u001b[0mkey\u001b[0m\u001b[1;33m)\u001b[0m\u001b[1;33m\u001b[0m\u001b[1;33m\u001b[0m\u001b[0m\n\u001b[0m\u001b[0;32m   2658\u001b[0m             \u001b[1;32mexcept\u001b[0m \u001b[0mKeyError\u001b[0m\u001b[1;33m:\u001b[0m\u001b[1;33m\u001b[0m\u001b[1;33m\u001b[0m\u001b[0m\n",
      "\u001b[1;32mpandas/_libs/index.pyx\u001b[0m in \u001b[0;36mpandas._libs.index.IndexEngine.get_loc\u001b[1;34m()\u001b[0m\n",
      "\u001b[1;32mpandas/_libs/index.pyx\u001b[0m in \u001b[0;36mpandas._libs.index.IndexEngine.get_loc\u001b[1;34m()\u001b[0m\n",
      "\u001b[1;32mpandas/_libs/hashtable_class_helper.pxi\u001b[0m in \u001b[0;36mpandas._libs.hashtable.PyObjectHashTable.get_item\u001b[1;34m()\u001b[0m\n",
      "\u001b[1;32mpandas/_libs/hashtable_class_helper.pxi\u001b[0m in \u001b[0;36mpandas._libs.hashtable.PyObjectHashTable.get_item\u001b[1;34m()\u001b[0m\n",
      "\u001b[1;31mKeyError\u001b[0m: ' inicio'",
      "\nDuring handling of the above exception, another exception occurred:\n",
      "\u001b[1;31mKeyError\u001b[0m                                  Traceback (most recent call last)",
      "\u001b[1;32m<ipython-input-45-d5481a700954>\u001b[0m in \u001b[0;36m<module>\u001b[1;34m\u001b[0m\n\u001b[0;32m      4\u001b[0m \u001b[0mfig\u001b[0m\u001b[1;33m,\u001b[0m \u001b[0max\u001b[0m \u001b[1;33m=\u001b[0m \u001b[0mplt\u001b[0m\u001b[1;33m.\u001b[0m\u001b[0msubplots\u001b[0m\u001b[1;33m(\u001b[0m\u001b[1;33m)\u001b[0m\u001b[1;33m\u001b[0m\u001b[1;33m\u001b[0m\u001b[0m\n\u001b[0;32m      5\u001b[0m \u001b[1;33m\u001b[0m\u001b[0m\n\u001b[1;32m----> 6\u001b[1;33m \u001b[1;32mfor\u001b[0m \u001b[0mx1\u001b[0m\u001b[1;33m,\u001b[0m \u001b[0mx2\u001b[0m \u001b[1;32min\u001b[0m \u001b[0mzip\u001b[0m \u001b[1;33m(\u001b[0m\u001b[0mdf\u001b[0m\u001b[1;33m[\u001b[0m\u001b[1;34m' inicio'\u001b[0m\u001b[1;33m]\u001b[0m\u001b[1;33m,\u001b[0m\u001b[0mdf\u001b[0m\u001b[1;33m[\u001b[0m\u001b[1;34m' fim'\u001b[0m\u001b[1;33m]\u001b[0m\u001b[1;33m)\u001b[0m\u001b[1;33m:\u001b[0m\u001b[1;33m\u001b[0m\u001b[1;33m\u001b[0m\u001b[0m\n\u001b[0m\u001b[0;32m      7\u001b[0m     \u001b[0max\u001b[0m\u001b[1;33m.\u001b[0m\u001b[0madd_patch\u001b[0m\u001b[1;33m(\u001b[0m\u001b[0mplt\u001b[0m\u001b[1;33m.\u001b[0m\u001b[0mRectangle\u001b[0m\u001b[1;33m(\u001b[0m\u001b[1;33m(\u001b[0m\u001b[0mx1\u001b[0m\u001b[1;33m,\u001b[0m\u001b[1;36m0\u001b[0m\u001b[1;33m)\u001b[0m\u001b[1;33m,\u001b[0m\u001b[0mx2\u001b[0m\u001b[1;33m-\u001b[0m\u001b[0mx1\u001b[0m\u001b[1;33m,\u001b[0m\u001b[1;36m0.5\u001b[0m\u001b[1;33m)\u001b[0m\u001b[1;33m)\u001b[0m\u001b[1;33m\u001b[0m\u001b[1;33m\u001b[0m\u001b[0m\n\u001b[0;32m      8\u001b[0m \u001b[1;33m\u001b[0m\u001b[0m\n",
      "\u001b[1;32m~\\Anaconda3\\lib\\site-packages\\pandas\\core\\frame.py\u001b[0m in \u001b[0;36m__getitem__\u001b[1;34m(self, key)\u001b[0m\n\u001b[0;32m   2925\u001b[0m             \u001b[1;32mif\u001b[0m \u001b[0mself\u001b[0m\u001b[1;33m.\u001b[0m\u001b[0mcolumns\u001b[0m\u001b[1;33m.\u001b[0m\u001b[0mnlevels\u001b[0m \u001b[1;33m>\u001b[0m \u001b[1;36m1\u001b[0m\u001b[1;33m:\u001b[0m\u001b[1;33m\u001b[0m\u001b[1;33m\u001b[0m\u001b[0m\n\u001b[0;32m   2926\u001b[0m                 \u001b[1;32mreturn\u001b[0m \u001b[0mself\u001b[0m\u001b[1;33m.\u001b[0m\u001b[0m_getitem_multilevel\u001b[0m\u001b[1;33m(\u001b[0m\u001b[0mkey\u001b[0m\u001b[1;33m)\u001b[0m\u001b[1;33m\u001b[0m\u001b[1;33m\u001b[0m\u001b[0m\n\u001b[1;32m-> 2927\u001b[1;33m             \u001b[0mindexer\u001b[0m \u001b[1;33m=\u001b[0m \u001b[0mself\u001b[0m\u001b[1;33m.\u001b[0m\u001b[0mcolumns\u001b[0m\u001b[1;33m.\u001b[0m\u001b[0mget_loc\u001b[0m\u001b[1;33m(\u001b[0m\u001b[0mkey\u001b[0m\u001b[1;33m)\u001b[0m\u001b[1;33m\u001b[0m\u001b[1;33m\u001b[0m\u001b[0m\n\u001b[0m\u001b[0;32m   2928\u001b[0m             \u001b[1;32mif\u001b[0m \u001b[0mis_integer\u001b[0m\u001b[1;33m(\u001b[0m\u001b[0mindexer\u001b[0m\u001b[1;33m)\u001b[0m\u001b[1;33m:\u001b[0m\u001b[1;33m\u001b[0m\u001b[1;33m\u001b[0m\u001b[0m\n\u001b[0;32m   2929\u001b[0m                 \u001b[0mindexer\u001b[0m \u001b[1;33m=\u001b[0m \u001b[1;33m[\u001b[0m\u001b[0mindexer\u001b[0m\u001b[1;33m]\u001b[0m\u001b[1;33m\u001b[0m\u001b[1;33m\u001b[0m\u001b[0m\n",
      "\u001b[1;32m~\\Anaconda3\\lib\\site-packages\\pandas\\core\\indexes\\base.py\u001b[0m in \u001b[0;36mget_loc\u001b[1;34m(self, key, method, tolerance)\u001b[0m\n\u001b[0;32m   2657\u001b[0m                 \u001b[1;32mreturn\u001b[0m \u001b[0mself\u001b[0m\u001b[1;33m.\u001b[0m\u001b[0m_engine\u001b[0m\u001b[1;33m.\u001b[0m\u001b[0mget_loc\u001b[0m\u001b[1;33m(\u001b[0m\u001b[0mkey\u001b[0m\u001b[1;33m)\u001b[0m\u001b[1;33m\u001b[0m\u001b[1;33m\u001b[0m\u001b[0m\n\u001b[0;32m   2658\u001b[0m             \u001b[1;32mexcept\u001b[0m \u001b[0mKeyError\u001b[0m\u001b[1;33m:\u001b[0m\u001b[1;33m\u001b[0m\u001b[1;33m\u001b[0m\u001b[0m\n\u001b[1;32m-> 2659\u001b[1;33m                 \u001b[1;32mreturn\u001b[0m \u001b[0mself\u001b[0m\u001b[1;33m.\u001b[0m\u001b[0m_engine\u001b[0m\u001b[1;33m.\u001b[0m\u001b[0mget_loc\u001b[0m\u001b[1;33m(\u001b[0m\u001b[0mself\u001b[0m\u001b[1;33m.\u001b[0m\u001b[0m_maybe_cast_indexer\u001b[0m\u001b[1;33m(\u001b[0m\u001b[0mkey\u001b[0m\u001b[1;33m)\u001b[0m\u001b[1;33m)\u001b[0m\u001b[1;33m\u001b[0m\u001b[1;33m\u001b[0m\u001b[0m\n\u001b[0m\u001b[0;32m   2660\u001b[0m         \u001b[0mindexer\u001b[0m \u001b[1;33m=\u001b[0m \u001b[0mself\u001b[0m\u001b[1;33m.\u001b[0m\u001b[0mget_indexer\u001b[0m\u001b[1;33m(\u001b[0m\u001b[1;33m[\u001b[0m\u001b[0mkey\u001b[0m\u001b[1;33m]\u001b[0m\u001b[1;33m,\u001b[0m \u001b[0mmethod\u001b[0m\u001b[1;33m=\u001b[0m\u001b[0mmethod\u001b[0m\u001b[1;33m,\u001b[0m \u001b[0mtolerance\u001b[0m\u001b[1;33m=\u001b[0m\u001b[0mtolerance\u001b[0m\u001b[1;33m)\u001b[0m\u001b[1;33m\u001b[0m\u001b[1;33m\u001b[0m\u001b[0m\n\u001b[0;32m   2661\u001b[0m         \u001b[1;32mif\u001b[0m \u001b[0mindexer\u001b[0m\u001b[1;33m.\u001b[0m\u001b[0mndim\u001b[0m \u001b[1;33m>\u001b[0m \u001b[1;36m1\u001b[0m \u001b[1;32mor\u001b[0m \u001b[0mindexer\u001b[0m\u001b[1;33m.\u001b[0m\u001b[0msize\u001b[0m \u001b[1;33m>\u001b[0m \u001b[1;36m1\u001b[0m\u001b[1;33m:\u001b[0m\u001b[1;33m\u001b[0m\u001b[1;33m\u001b[0m\u001b[0m\n",
      "\u001b[1;32mpandas/_libs/index.pyx\u001b[0m in \u001b[0;36mpandas._libs.index.IndexEngine.get_loc\u001b[1;34m()\u001b[0m\n",
      "\u001b[1;32mpandas/_libs/index.pyx\u001b[0m in \u001b[0;36mpandas._libs.index.IndexEngine.get_loc\u001b[1;34m()\u001b[0m\n",
      "\u001b[1;32mpandas/_libs/hashtable_class_helper.pxi\u001b[0m in \u001b[0;36mpandas._libs.hashtable.PyObjectHashTable.get_item\u001b[1;34m()\u001b[0m\n",
      "\u001b[1;32mpandas/_libs/hashtable_class_helper.pxi\u001b[0m in \u001b[0;36mpandas._libs.hashtable.PyObjectHashTable.get_item\u001b[1;34m()\u001b[0m\n",
      "\u001b[1;31mKeyError\u001b[0m: ' inicio'"
     ]
    },
    {
     "data": {
      "image/png": "[encoded data removed]",
      "text/plain": [
       "<Figure size 432x288 with 1 Axes>"
      ]
     },
     "metadata": {
      "needs_background": "light"
     },
     "output_type": "display_data"
    }
   ],
   "source": [
    "groundTruth = pandas.read_csv('./data/16/groundTruth.csv')\n",
    "print(groundTruth)\n",
    "\n",
    "fig, ax = plt.subplots()\n",
    "\n",
    "for x1, x2 in zip (df[' inicio'],df[' fim']):\n",
    "    ax.add_patch(plt.Rectangle((x1,0),x2-x1,0.5))\n",
    "\n",
    "    \n",
    "ax.autoscale()\n",
    "ax.set_ylim(-2,2)\n",
    "plt.show()\n",
    "\n",
    "\n",
    "\n"
   ]
  },
  {
   "cell_type": "code",
   "execution_count": null,
   "metadata": {},
   "outputs": [],
   "source": [
    "groundTruth16['startIndexinAccLinear'][4]"
   ]
  },
  {
   "cell_type": "markdown",
   "metadata": {},
   "source": [
    "# Linear Acc "
   ]
  },
  {
   "cell_type": "code",
   "execution_count": 34,
   "metadata": {},
   "outputs": [
    {
     "name": "stdout",
     "output_type": "stream",
     "text": [
      "This is the format of your plot grid:\n",
      "[ (1,1) x1,y1 ]\n",
      "[ (2,1) x2,y2 ]\n",
      "[ (3,1) x3,y3 ]\n",
      "\n"
     ]
    },
    {
     "data": {
      "text/plain": [
       "'basic-scatter.html'"
      ]
     },
     "execution_count": 34,
     "metadata": {},
     "output_type": "execute_result"
    }
   ],
   "source": [
    "data_16 = pandas.read_csv('./data/16/aceleracaoLinear_terra.csv')\n",
    "\n",
    "x_16 = data_16['x']\n",
    "uptime_16 = data_16['uptimeNanos']\n",
    "timestamp_16 = data_16['timestamp']\n",
    "\n",
    "data_17 = pandas.read_csv('./data/17/aceleracaoLinear_terra.csv')\n",
    "x_17 = data_17['x']\n",
    "uptime_17 = data_17['uptimeNanos']\n",
    "timestamp_17 = data_17['timestamp']\n",
    "\n",
    "\n",
    "# print(timestamp[:380])\n",
    "\n",
    "# ax = plt.subplots()\n",
    "# plt.figure(figsize=(20,10))\n",
    "# ax[1].yaxis.set_ticks(np.arange(-8,8, 0.5))\n",
    "# plt.plot(uptime_scale[:380],x[:380])\n",
    "#####################################\n",
    "#plotly\n",
    "\n",
    "trace_16 = go.Scatter(\n",
    "    x = uptime_17[:300],\n",
    "    y = x_17[:300],\n",
    "    mode = 'lines'\n",
    ")\n",
    "\n",
    "trace_17 = go.Scatter(\n",
    "    x = uptime_17[8703:9000],\n",
    "    y = x_17[8703:9000],\n",
    "    mode = 'lines'\n",
    ")\n",
    "\n",
    "trace_break_agg  = go.Scatter(\n",
    "    x = uptime_17[11760:12064],\n",
    "    y = x_17[11760:12064],\n",
    "    mode = 'lines'\n",
    ")\n",
    "\n",
    "fig = tools.make_subplots(rows=3, cols=1, subplot_titles=('16','17'))\n",
    "\n",
    "\n",
    "fig.append_trace(trace_16, 1, 1)\n",
    "fig.append_trace(trace_17, 2, 1)\n",
    "fig.append_trace(trace_break_agg, 3, 1)\n",
    "\n",
    "\n",
    "fig['layout'].update(height=900, width=1200)\n",
    "\n",
    "py.offline.plot(fig, filename='basic-scatter', auto_open=True)\n",
    "\n"
   ]
  },
  {
   "cell_type": "code",
   "execution_count": null,
   "metadata": {},
   "outputs": [],
   "source": []
  }
 ],
 "metadata": {
  "kernelspec": {
   "display_name": "Python 3",
   "language": "python",
   "name": "python3"
  },
  "language_info": {
   "codemirror_mode": {
    "name": "ipython",
    "version": 3
   },
   "file_extension": ".py",
   "mimetype": "text/x-python",
   "name": "python",
   "nbconvert_exporter": "python",
   "pygments_lexer": "ipython3",
   "version": "3.7.3"
  }
 },
 "nbformat": 4,
 "nbformat_minor": 2
}
