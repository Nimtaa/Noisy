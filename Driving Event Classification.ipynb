{
 "cells": [
  {
   "cell_type": "markdown",
   "metadata": {},
   "source": [
    "### Imports"
   ]
  },
  {
   "cell_type": "code",
   "execution_count": null,
   "metadata": {},
   "outputs": [],
   "source": [
    "import tensorflow as tf\n",
    "from keras.models import Sequential\n",
    "from keras.layers import LSTM\n",
    "from keras.layers import Dense, Activation, Embedding, LSTM\n",
    "from sklearn.model_selection import train_test_split\n",
    "import numpy as np\n",
    "import pandas\n",
    "import plotly as py\n",
    "import plotly.graph_objs as go\n",
    "from plotly import tools\n",
    "from matplotlib.pyplot import figure"
   ]
  },
  {
   "cell_type": "markdown",
   "metadata": {},
   "source": [
    "### Data Load"
   ]
  },
  {
   "cell_type": "code",
   "execution_count": null,
   "metadata": {},
   "outputs": [],
   "source": [
    "data = pandas.read_csv('./data/Learning/brake, acc/Train_Set.csv')\n",
    "test = pandas.read_csv('./data/Learning/brake, acc/Test_Set.csv')\n",
    "\n",
    "x_train_set = data[['x','y','z']]\n",
    "\n",
    "target = data['AccStatus']\n",
    "\n",
    "x_test_set = test[['x','y','z']]\n",
    "y_test_set = test['AccStatus']\n",
    "\n",
    "\n",
    "x_train_set = np.array(x_train_set,dtype=float)          \n",
    "target = np.array(target,dtype=float)\n",
    "\n",
    "x_test_set =  np.array(x_test_set,dtype=float)\n",
    "y_test_set =  np.array(y_test_set,dtype=float)"
   ]
  },
  {
   "cell_type": "code",
   "execution_count": null,
   "metadata": {},
   "outputs": [],
   "source": [
    "def SmoothData(data):\n",
    "    size = data.shape[0] \n",
    "    dim = data.shape[1]\n",
    "    \n",
    "    smooth_data = np.zeros((size,dim))\n",
    "    \n",
    "    smooth_data[0] = data[0]\n",
    "    smooth_data[1] = data[1]\n",
    "    smooth_data[size-1] = data[size-1]\n",
    "    smooth_data[size-2] = data[size-2]\n",
    "    \n",
    "    for i in range(2, size-2):\n",
    "        smooth_data[i] = np.average([data[i], data[i-1], data[i+1]], axis=0)\n",
    "    return smooth_data"
   ]
  },
  {
   "cell_type": "code",
   "execution_count": null,
   "metadata": {},
   "outputs": [],
   "source": [
    "x_train_set = SmoothData(x_train_set)\n",
    "x_test_set = SmoothData(x_test_set)"
   ]
  },
  {
   "cell_type": "markdown",
   "metadata": {},
   "source": [
    "### One-hot encoding"
   ]
  },
  {
   "cell_type": "code",
   "execution_count": null,
   "metadata": {},
   "outputs": [],
   "source": [
    "target_onehot  = []\n",
    "y_test_set_onehot = []\n",
    "for i in range(len(target)):\n",
    "    if(target[i]==0):\n",
    "        target_onehot.append(np.array([1,0,0]))\n",
    "    elif (target[i]==1):\n",
    "        target_onehot.append(np.array([0,1,0]))\n",
    "    elif(target[i]==2):\n",
    "        target_onehot.append(np.array([0,0,1]))\n",
    "        \n",
    "for i in range(len(y_test_set)):\n",
    "    if(y_test_set[i]==0):\n",
    "        y_test_set_onehot.append(np.array([1,0,0]))\n",
    "    elif (y_test_set[i]==1):\n",
    "        y_test_set_onehot.append(np.array([0,1,0]))\n",
    "    elif (y_test_set[i]==2):\n",
    "        y_test_set_onehot.append(np.array([0,0,1]))"
   ]
  },
  {
   "cell_type": "code",
   "execution_count": null,
   "metadata": {},
   "outputs": [],
   "source": [
    "len (x_train_set)"
   ]
  },
  {
   "cell_type": "markdown",
   "metadata": {},
   "source": [
    "### LSTM one-hot"
   ]
  },
  {
   "cell_type": "code",
   "execution_count": null,
   "metadata": {},
   "outputs": [],
   "source": [
    "model = Sequential()\n",
    "model.add(LSTM(3, input_shape = (50,3), return_sequences = True))\n",
    "model.add(LSTM(10, return_sequences = True))\n",
    "model.add(Dense(3, activation='sigmoid'))\n",
    "model.compile(loss='categorical_crossentropy',optimizer='adam',metrics=['accuracy'])\n",
    "model.summary()"
   ]
  },
  {
   "cell_type": "code",
   "execution_count": null,
   "metadata": {},
   "outputs": [],
   "source": [
    "history = model.fit( \n",
    "    np.array(x_train_set[:47000]).reshape(940,50,3),\n",
    "    np.array([target_onehot[i:i+50] for i in range(0,47000,50)]),\n",
    "    epochs=1000,\n",
    "    validation_data= (np.array(x_train_set[47000:47600]).reshape(12,50,3),\n",
    "                     np.array([target_onehot[i:i+50] for i in range(47000,47600,50)])),\n",
    "batch_size=64)\n"
   ]
  },
  {
   "cell_type": "code",
   "execution_count": null,
   "metadata": {},
   "outputs": [],
   "source": [
    "x_test_set.shape"
   ]
  },
  {
   "cell_type": "code",
   "execution_count": null,
   "metadata": {},
   "outputs": [],
   "source": [
    "results = model.predict(np.array(x_test_set[:14150]).reshape(283,50,3))\n",
    "results = results.reshape(14150,3)"
   ]
  },
  {
   "cell_type": "code",
   "execution_count": null,
   "metadata": {},
   "outputs": [],
   "source": [
    "result_class = []\n",
    "for i in results:\n",
    "    if(np.argmax(i)==0):\n",
    "        result_class.append(0)\n",
    "    elif(np.argmax(i)==1):\n",
    "        result_class.append(1)\n",
    "    elif(np.argmax(i)==2):\n",
    "        result_class.append(2)"
   ]
  },
  {
   "cell_type": "code",
   "execution_count": null,
   "metadata": {},
   "outputs": [],
   "source": [
    "from sklearn.metrics import precision_recall_fscore_support\n",
    "precision_recall_fscore_support(y_test_set[:14150], result_class, labels=[0,1], average=None)"
   ]
  },
  {
   "cell_type": "code",
   "execution_count": null,
   "metadata": {},
   "outputs": [],
   "source": [
    "len(result_class)"
   ]
  },
  {
   "cell_type": "code",
   "execution_count": null,
   "metadata": {},
   "outputs": [],
   "source": [
    "\n",
    "fig =tools.make_subplots(rows=1,cols=1)\n",
    "\n",
    "result =  go.Scatter(\n",
    "    x = list(range(0,15000)),\n",
    "    y = result_class,\n",
    "    mode = 'lines',\n",
    "    name='model_result'\n",
    ")\n",
    "\n",
    "test =  go.Scatter(\n",
    "    x = list(range(0,15000)),\n",
    "    y = y_test_set,\n",
    "    mode = 'lines',\n",
    "    name='test'\n",
    ")\n",
    "\n",
    "fig.append_trace(result,1,1)\n",
    "fig.append_trace(test,1,1)\n",
    "\n",
    "\n",
    "fig['layout'].update(height=500, title = 'Brake,Acc Model Classification')\n",
    "\n",
    "\n",
    "py.offline.plot(fig, filename='brake,acc_onehot_50_sigmoid_categorical_crossentropy')\n"
   ]
  },
  {
   "cell_type": "code",
   "execution_count": null,
   "metadata": {},
   "outputs": [],
   "source": [
    "\n",
    "test = pandas.read_csv('./data/Learning/brake, acc/Test_Set.csv')\n",
    "\n",
    "\n",
    "fig =tools.make_subplots(rows=1,cols=1)\n",
    "\n",
    "\n",
    "test =  go.Scatter(\n",
    "    x = list(range(0,15000)),\n",
    "    y = test['x'],\n",
    "    mode = 'lines',\n",
    "    name='test'\n",
    ")\n",
    "\n",
    "fig.append_trace(test,1,1)\n",
    "\n",
    "\n",
    "fig['layout'].update(height=500, title = 'Test Data')\n",
    "\n",
    "\n",
    "py.offline.plot(fig, filename='brake_acc_test_data')\n"
   ]
  },
  {
   "cell_type": "code",
   "execution_count": null,
   "metadata": {},
   "outputs": [],
   "source": []
  }
 ],
 "metadata": {
  "kernelspec": {
   "display_name": "Python [conda env:tensorflow_env] *",
   "language": "python",
   "name": "conda-env-tensorflow_env-py"
  },
  "language_info": {
   "codemirror_mode": {
    "name": "ipython",
    "version": 3
   },
   "file_extension": ".py",
   "mimetype": "text/x-python",
   "name": "python",
   "nbconvert_exporter": "python",
   "pygments_lexer": "ipython3",
   "version": "3.7.3"
  }
 },
 "nbformat": 4,
 "nbformat_minor": 2
}
